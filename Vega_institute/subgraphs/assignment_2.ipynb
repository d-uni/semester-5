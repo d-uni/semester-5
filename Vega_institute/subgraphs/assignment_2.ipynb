{
 "cells": [
  {
   "cell_type": "code",
   "execution_count": 85,
   "metadata": {},
   "outputs": [],
   "source": [
    "import requests"
   ]
  },
  {
   "cell_type": "code",
   "execution_count": 86,
   "metadata": {},
   "outputs": [],
   "source": [
    "import json\n",
    "import datetime\n",
    "import pandas as pd"
   ]
  },
  {
   "cell_type": "markdown",
   "metadata": {},
   "source": [
    "<strong>Information about UNI (DEX) and UNISWAP-V3</strong>"
   ]
  },
  {
   "cell_type": "code",
   "execution_count": 87,
   "metadata": {},
   "outputs": [],
   "source": [
    "url_V3 = 'https://api.thegraph.com/subgraphs/name/uniswap/uniswap-v3'"
   ]
  },
  {
   "cell_type": "code",
   "execution_count": 88,
   "metadata": {},
   "outputs": [],
   "source": [
    "query = f\"\"\"{{ \n",
    "    tokenDayDatas(\n",
    "        where: {{token: \"0x1f9840a85d5af5bf1d1762f925bdaddc4201f984\"}}, \n",
    "        orderBy: date, \n",
    "        orderDirection: asc\n",
    "        ) {{ date\n",
    "             token {{ symbol totalSupply }}\n",
    "             volumeUSD\n",
    "             priceUSD\n",
    "        }}\n",
    "    uniswapDayDatas(orderBy: date) {{\n",
    "         date\n",
    "         id\n",
    "         tvlUSD\n",
    "         volumeUSD\n",
    "    }}\n",
    "}}\n",
    "\"\"\"\n",
    "\n",
    "response = requests.post(url_V3, json={'query': query})\n",
    "json_data = json.loads(response.text)\n",
    "data_uni = json_data['data']"
   ]
  },
  {
   "cell_type": "code",
   "execution_count": 89,
   "metadata": {},
   "outputs": [],
   "source": [
    "data_token = []\n",
    "data_uniswap = []\n",
    "for unix_data in data_uni['tokenDayDatas']:\n",
    "\n",
    "    date = datetime.datetime.fromtimestamp(unix_data['date'])\n",
    "    token_symbol = unix_data['token']['symbol']\n",
    "    token_totalSupply = unix_data['token']['totalSupply']\n",
    "    token_volumeUSD = unix_data['volumeUSD']\n",
    "    token_priceUSD = unix_data['priceUSD']\n",
    "    \n",
    "    w1 = [date, token_symbol, token_totalSupply, token_volumeUSD, token_priceUSD]\n",
    "    data_token.append(w1)\n",
    "    \n",
    "for unix_data in data_uni['uniswapDayDatas']: \n",
    "    \n",
    "    date = datetime.datetime.fromtimestamp(unix_data['date'])\n",
    "    uniswap_volumeUSD = unix_data['volumeUSD']\n",
    "    uniswap_tvlUSD = unix_data['tvlUSD']\n",
    "\n",
    "    w2 = [date, uniswap_volumeUSD, uniswap_tvlUSD]\n",
    "    data_uniswap.append(w2)"
   ]
  },
  {
   "cell_type": "code",
   "execution_count": 90,
   "metadata": {},
   "outputs": [],
   "source": [
    "import pandas as pd\n",
    "df_token = pd.DataFrame(data_token)\n",
    "df_uniswap = pd.DataFrame(data_uniswap)\n",
    "df_token.columns = ['date', 'symbol', 'totalSupply', 'volumeUSD', 'priceUSD']\n",
    "df_uniswap.columns = ['date', 'volumeUSD', 'tvlUSD']"
   ]
  },
  {
   "cell_type": "code",
   "execution_count": 91,
   "metadata": {},
   "outputs": [
    {
     "data": {
      "text/html": [
       "<div>\n",
       "<style scoped>\n",
       "    .dataframe tbody tr th:only-of-type {\n",
       "        vertical-align: middle;\n",
       "    }\n",
       "\n",
       "    .dataframe tbody tr th {\n",
       "        vertical-align: top;\n",
       "    }\n",
       "\n",
       "    .dataframe thead th {\n",
       "        text-align: right;\n",
       "    }\n",
       "</style>\n",
       "<table border=\"1\" class=\"dataframe\">\n",
       "  <thead>\n",
       "    <tr style=\"text-align: right;\">\n",
       "      <th></th>\n",
       "      <th>date</th>\n",
       "      <th>symbol</th>\n",
       "      <th>totalSupply</th>\n",
       "      <th>volumeUSD</th>\n",
       "      <th>priceUSD</th>\n",
       "    </tr>\n",
       "  </thead>\n",
       "  <tbody>\n",
       "    <tr>\n",
       "      <th>0</th>\n",
       "      <td>2021-05-04 03:00:00</td>\n",
       "      <td>UNI</td>\n",
       "      <td>18776</td>\n",
       "      <td>0</td>\n",
       "      <td>0</td>\n",
       "    </tr>\n",
       "    <tr>\n",
       "      <th>1</th>\n",
       "      <td>2021-05-05 03:00:00</td>\n",
       "      <td>UNI</td>\n",
       "      <td>18776</td>\n",
       "      <td>1346557.410079236794874980834042732</td>\n",
       "      <td>42.12956237680189064812944637693338</td>\n",
       "    </tr>\n",
       "    <tr>\n",
       "      <th>2</th>\n",
       "      <td>2021-05-06 03:00:00</td>\n",
       "      <td>UNI</td>\n",
       "      <td>18776</td>\n",
       "      <td>12466870.03249654793909146013641258</td>\n",
       "      <td>40.04521108555178501820203021579761</td>\n",
       "    </tr>\n",
       "    <tr>\n",
       "      <th>3</th>\n",
       "      <td>2021-05-07 03:00:00</td>\n",
       "      <td>UNI</td>\n",
       "      <td>18776</td>\n",
       "      <td>9418263.06508308484903299213675241</td>\n",
       "      <td>39.66533204379280698242305400483144</td>\n",
       "    </tr>\n",
       "    <tr>\n",
       "      <th>4</th>\n",
       "      <td>2021-05-08 03:00:00</td>\n",
       "      <td>UNI</td>\n",
       "      <td>18776</td>\n",
       "      <td>19320941.56198156201958364865059172</td>\n",
       "      <td>40.57203107661686548413275528522806</td>\n",
       "    </tr>\n",
       "    <tr>\n",
       "      <th>...</th>\n",
       "      <td>...</td>\n",
       "      <td>...</td>\n",
       "      <td>...</td>\n",
       "      <td>...</td>\n",
       "      <td>...</td>\n",
       "    </tr>\n",
       "    <tr>\n",
       "      <th>95</th>\n",
       "      <td>2021-08-07 03:00:00</td>\n",
       "      <td>UNI</td>\n",
       "      <td>18776</td>\n",
       "      <td>21257245.2227459858033066609791743</td>\n",
       "      <td>28.35502256045628964677666516294869</td>\n",
       "    </tr>\n",
       "    <tr>\n",
       "      <th>96</th>\n",
       "      <td>2021-08-08 03:00:00</td>\n",
       "      <td>UNI</td>\n",
       "      <td>18776</td>\n",
       "      <td>11554078.12858555852925734319207477</td>\n",
       "      <td>26.64141839712552266576202888342928</td>\n",
       "    </tr>\n",
       "    <tr>\n",
       "      <th>97</th>\n",
       "      <td>2021-08-09 03:00:00</td>\n",
       "      <td>UNI</td>\n",
       "      <td>18776</td>\n",
       "      <td>19008405.86087475316947255079423124</td>\n",
       "      <td>28.54203040674131649031699892574654</td>\n",
       "    </tr>\n",
       "    <tr>\n",
       "      <th>98</th>\n",
       "      <td>2021-08-10 03:00:00</td>\n",
       "      <td>UNI</td>\n",
       "      <td>18776</td>\n",
       "      <td>26289842.9740888157019611165189555</td>\n",
       "      <td>28.91178873578273393313703527232452</td>\n",
       "    </tr>\n",
       "    <tr>\n",
       "      <th>99</th>\n",
       "      <td>2021-08-11 03:00:00</td>\n",
       "      <td>UNI</td>\n",
       "      <td>18776</td>\n",
       "      <td>12314846.90495686875774645910285729</td>\n",
       "      <td>29.04493101647914728899244052685967</td>\n",
       "    </tr>\n",
       "  </tbody>\n",
       "</table>\n",
       "<p>100 rows × 5 columns</p>\n",
       "</div>"
      ],
      "text/plain": [
       "                  date symbol totalSupply  \\\n",
       "0  2021-05-04 03:00:00    UNI       18776   \n",
       "1  2021-05-05 03:00:00    UNI       18776   \n",
       "2  2021-05-06 03:00:00    UNI       18776   \n",
       "3  2021-05-07 03:00:00    UNI       18776   \n",
       "4  2021-05-08 03:00:00    UNI       18776   \n",
       "..                 ...    ...         ...   \n",
       "95 2021-08-07 03:00:00    UNI       18776   \n",
       "96 2021-08-08 03:00:00    UNI       18776   \n",
       "97 2021-08-09 03:00:00    UNI       18776   \n",
       "98 2021-08-10 03:00:00    UNI       18776   \n",
       "99 2021-08-11 03:00:00    UNI       18776   \n",
       "\n",
       "                              volumeUSD                             priceUSD  \n",
       "0                                     0                                    0  \n",
       "1   1346557.410079236794874980834042732  42.12956237680189064812944637693338  \n",
       "2   12466870.03249654793909146013641258  40.04521108555178501820203021579761  \n",
       "3    9418263.06508308484903299213675241  39.66533204379280698242305400483144  \n",
       "4   19320941.56198156201958364865059172  40.57203107661686548413275528522806  \n",
       "..                                  ...                                  ...  \n",
       "95   21257245.2227459858033066609791743  28.35502256045628964677666516294869  \n",
       "96  11554078.12858555852925734319207477  26.64141839712552266576202888342928  \n",
       "97  19008405.86087475316947255079423124  28.54203040674131649031699892574654  \n",
       "98   26289842.9740888157019611165189555  28.91178873578273393313703527232452  \n",
       "99  12314846.90495686875774645910285729  29.04493101647914728899244052685967  \n",
       "\n",
       "[100 rows x 5 columns]"
      ]
     },
     "execution_count": 91,
     "metadata": {},
     "output_type": "execute_result"
    }
   ],
   "source": [
    "df_token"
   ]
  },
  {
   "cell_type": "code",
   "execution_count": 92,
   "metadata": {},
   "outputs": [
    {
     "data": {
      "text/html": [
       "<div>\n",
       "<style scoped>\n",
       "    .dataframe tbody tr th:only-of-type {\n",
       "        vertical-align: middle;\n",
       "    }\n",
       "\n",
       "    .dataframe tbody tr th {\n",
       "        vertical-align: top;\n",
       "    }\n",
       "\n",
       "    .dataframe thead th {\n",
       "        text-align: right;\n",
       "    }\n",
       "</style>\n",
       "<table border=\"1\" class=\"dataframe\">\n",
       "  <thead>\n",
       "    <tr style=\"text-align: right;\">\n",
       "      <th></th>\n",
       "      <th>date</th>\n",
       "      <th>volumeUSD</th>\n",
       "      <th>tvlUSD</th>\n",
       "    </tr>\n",
       "  </thead>\n",
       "  <tbody>\n",
       "    <tr>\n",
       "      <th>0</th>\n",
       "      <td>2021-05-04 03:00:00</td>\n",
       "      <td>0</td>\n",
       "      <td>0</td>\n",
       "    </tr>\n",
       "    <tr>\n",
       "      <th>1</th>\n",
       "      <td>2021-05-05 03:00:00</td>\n",
       "      <td>16937182.15483943561610092783061984</td>\n",
       "      <td>137393087.8391719539564165911351197</td>\n",
       "    </tr>\n",
       "    <tr>\n",
       "      <th>2</th>\n",
       "      <td>2021-05-06 03:00:00</td>\n",
       "      <td>209792599.3253492988125528621961144</td>\n",
       "      <td>370737139.9413625345424431293663287</td>\n",
       "    </tr>\n",
       "    <tr>\n",
       "      <th>3</th>\n",
       "      <td>2021-05-07 03:00:00</td>\n",
       "      <td>351587666.8545552239530810497216145</td>\n",
       "      <td>501602157.9472991320975753649259011</td>\n",
       "    </tr>\n",
       "    <tr>\n",
       "      <th>4</th>\n",
       "      <td>2021-05-08 03:00:00</td>\n",
       "      <td>611251973.1162351968001843931643426</td>\n",
       "      <td>565496000.3094105849754249010640287</td>\n",
       "    </tr>\n",
       "    <tr>\n",
       "      <th>...</th>\n",
       "      <td>...</td>\n",
       "      <td>...</td>\n",
       "      <td>...</td>\n",
       "    </tr>\n",
       "    <tr>\n",
       "      <th>95</th>\n",
       "      <td>2021-08-07 03:00:00</td>\n",
       "      <td>1799607570.370152635694487179533354</td>\n",
       "      <td>2396832402.757417901583350633143854</td>\n",
       "    </tr>\n",
       "    <tr>\n",
       "      <th>96</th>\n",
       "      <td>2021-08-08 03:00:00</td>\n",
       "      <td>1540454447.547314051136816761145374</td>\n",
       "      <td>2368448289.893080688751355732745195</td>\n",
       "    </tr>\n",
       "    <tr>\n",
       "      <th>97</th>\n",
       "      <td>2021-08-09 03:00:00</td>\n",
       "      <td>2153316158.406231242479979475614189</td>\n",
       "      <td>2322327257.925914373021086028584096</td>\n",
       "    </tr>\n",
       "    <tr>\n",
       "      <th>98</th>\n",
       "      <td>2021-08-10 03:00:00</td>\n",
       "      <td>1416214344.428885751814644230191917</td>\n",
       "      <td>2321948342.669566862933770748611626</td>\n",
       "    </tr>\n",
       "    <tr>\n",
       "      <th>99</th>\n",
       "      <td>2021-08-11 03:00:00</td>\n",
       "      <td>1198606100.887490450099444312200805</td>\n",
       "      <td>2365094775.996061227249249598586696</td>\n",
       "    </tr>\n",
       "  </tbody>\n",
       "</table>\n",
       "<p>100 rows × 3 columns</p>\n",
       "</div>"
      ],
      "text/plain": [
       "                  date                            volumeUSD  \\\n",
       "0  2021-05-04 03:00:00                                    0   \n",
       "1  2021-05-05 03:00:00  16937182.15483943561610092783061984   \n",
       "2  2021-05-06 03:00:00  209792599.3253492988125528621961144   \n",
       "3  2021-05-07 03:00:00  351587666.8545552239530810497216145   \n",
       "4  2021-05-08 03:00:00  611251973.1162351968001843931643426   \n",
       "..                 ...                                  ...   \n",
       "95 2021-08-07 03:00:00  1799607570.370152635694487179533354   \n",
       "96 2021-08-08 03:00:00  1540454447.547314051136816761145374   \n",
       "97 2021-08-09 03:00:00  2153316158.406231242479979475614189   \n",
       "98 2021-08-10 03:00:00  1416214344.428885751814644230191917   \n",
       "99 2021-08-11 03:00:00  1198606100.887490450099444312200805   \n",
       "\n",
       "                                 tvlUSD  \n",
       "0                                     0  \n",
       "1   137393087.8391719539564165911351197  \n",
       "2   370737139.9413625345424431293663287  \n",
       "3   501602157.9472991320975753649259011  \n",
       "4   565496000.3094105849754249010640287  \n",
       "..                                  ...  \n",
       "95  2396832402.757417901583350633143854  \n",
       "96  2368448289.893080688751355732745195  \n",
       "97  2322327257.925914373021086028584096  \n",
       "98  2321948342.669566862933770748611626  \n",
       "99  2365094775.996061227249249598586696  \n",
       "\n",
       "[100 rows x 3 columns]"
      ]
     },
     "execution_count": 92,
     "metadata": {},
     "output_type": "execute_result"
    }
   ],
   "source": [
    "df_uniswap"
   ]
  },
  {
   "cell_type": "code",
   "execution_count": 93,
   "metadata": {},
   "outputs": [
    {
     "data": {
      "application/vnd.plotly.v1+json": {
       "config": {
        "plotlyServerURL": "https://plot.ly"
       },
       "data": [
        {
         "hovertemplate": "variable=volumeUSD<br>date=%{x}<br>value=%{y}<extra></extra>",
         "legendgroup": "volumeUSD",
         "line": {
          "color": "#636efa",
          "dash": "solid"
         },
         "marker": {
          "symbol": "circle"
         },
         "mode": "lines",
         "name": "volumeUSD",
         "orientation": "v",
         "showlegend": true,
         "type": "scatter",
         "x": [
          "2021-05-04T03:00:00",
          "2021-05-05T03:00:00",
          "2021-05-06T03:00:00",
          "2021-05-07T03:00:00",
          "2021-05-08T03:00:00",
          "2021-05-09T03:00:00",
          "2021-05-10T03:00:00",
          "2021-05-11T03:00:00",
          "2021-05-12T03:00:00",
          "2021-05-13T03:00:00",
          "2021-05-14T03:00:00",
          "2021-05-15T03:00:00",
          "2021-05-16T03:00:00",
          "2021-05-17T03:00:00",
          "2021-05-18T03:00:00",
          "2021-05-19T03:00:00",
          "2021-05-20T03:00:00",
          "2021-05-21T03:00:00",
          "2021-05-22T03:00:00",
          "2021-05-23T03:00:00",
          "2021-05-24T03:00:00",
          "2021-05-25T03:00:00",
          "2021-05-26T03:00:00",
          "2021-05-27T03:00:00",
          "2021-05-28T03:00:00",
          "2021-05-29T03:00:00",
          "2021-05-30T03:00:00",
          "2021-05-31T03:00:00",
          "2021-06-01T03:00:00",
          "2021-06-02T03:00:00",
          "2021-06-03T03:00:00",
          "2021-06-04T03:00:00",
          "2021-06-05T03:00:00",
          "2021-06-06T03:00:00",
          "2021-06-07T03:00:00",
          "2021-06-08T03:00:00",
          "2021-06-09T03:00:00",
          "2021-06-10T03:00:00",
          "2021-06-11T03:00:00",
          "2021-06-12T03:00:00",
          "2021-06-13T03:00:00",
          "2021-06-14T03:00:00",
          "2021-06-15T03:00:00",
          "2021-06-16T03:00:00",
          "2021-06-17T03:00:00",
          "2021-06-18T03:00:00",
          "2021-06-19T03:00:00",
          "2021-06-20T03:00:00",
          "2021-06-21T03:00:00",
          "2021-06-22T03:00:00",
          "2021-06-23T03:00:00",
          "2021-06-24T03:00:00",
          "2021-06-25T03:00:00",
          "2021-06-26T03:00:00",
          "2021-06-27T03:00:00",
          "2021-06-28T03:00:00",
          "2021-06-29T03:00:00",
          "2021-06-30T03:00:00",
          "2021-07-01T03:00:00",
          "2021-07-02T03:00:00",
          "2021-07-03T03:00:00",
          "2021-07-04T03:00:00",
          "2021-07-05T03:00:00",
          "2021-07-06T03:00:00",
          "2021-07-07T03:00:00",
          "2021-07-08T03:00:00",
          "2021-07-09T03:00:00",
          "2021-07-10T03:00:00",
          "2021-07-11T03:00:00",
          "2021-07-12T03:00:00",
          "2021-07-13T03:00:00",
          "2021-07-14T03:00:00",
          "2021-07-15T03:00:00",
          "2021-07-16T03:00:00",
          "2021-07-17T03:00:00",
          "2021-07-18T03:00:00",
          "2021-07-19T03:00:00",
          "2021-07-20T03:00:00",
          "2021-07-21T03:00:00",
          "2021-07-22T03:00:00",
          "2021-07-23T03:00:00",
          "2021-07-24T03:00:00",
          "2021-07-25T03:00:00",
          "2021-07-26T03:00:00",
          "2021-07-27T03:00:00",
          "2021-07-28T03:00:00",
          "2021-07-29T03:00:00",
          "2021-07-30T03:00:00",
          "2021-07-31T03:00:00",
          "2021-08-01T03:00:00",
          "2021-08-02T03:00:00",
          "2021-08-03T03:00:00",
          "2021-08-04T03:00:00",
          "2021-08-05T03:00:00",
          "2021-08-06T03:00:00",
          "2021-08-07T03:00:00",
          "2021-08-08T03:00:00",
          "2021-08-09T03:00:00",
          "2021-08-10T03:00:00",
          "2021-08-11T03:00:00"
         ],
         "xaxis": "x",
         "y": [
          0,
          1346557.4100792368,
          12466870.032496547,
          9418263.065083085,
          19320941.561981563,
          14490631.007198237,
          20174456.329728138,
          8954067.516573085,
          61387615.53239739,
          38580428.81412577,
          13117765.84080479,
          30383571.868345305,
          28731343.4619592,
          33508218.28502079,
          31465230.67852972,
          56773510.08151066,
          30451463.147107605,
          32393361.536769234,
          40607606.002528355,
          40148836.54765568,
          36770322.08382926,
          45032631.37594097,
          39600615.8836969,
          38893394.43145273,
          32292784.9782513,
          29582119.46984538,
          28014699.95171915,
          29739160.432394933,
          23562196.972690687,
          23409756.99699133,
          18534155.09625269,
          12287059.750491332,
          9797044.11258188,
          8591582.986196198,
          14711453.159949888,
          16529814.079566432,
          23056361.271343555,
          10658746.435712246,
          26877140.204727333,
          16572411.093629146,
          18265683.32672812,
          11511707.343038714,
          5873297.496653574,
          8575592.447009511,
          6662842.303940587,
          8276954.127616059,
          4749931.362096424,
          11347829.419658558,
          16688628.876291096,
          23756815.414277133,
          15843073.752374498,
          13101404.178080985,
          9869225.290733973,
          11484531.43254475,
          4374806.05290091,
          7710376.237788112,
          8533382.717543773,
          8110505.209898354,
          6508318.727290682,
          3715542.010401481,
          10207016.19921452,
          26696297.109908104,
          15118300.011312922,
          38229062.68665087,
          22517788.882979505,
          12941083.971831003,
          7289283.818582103,
          4727399.098202958,
          5099573.034957744,
          8350260.80460855,
          8252257.622390651,
          15665329.534598283,
          12817610.182519875,
          8410742.312593514,
          11130709.386714015,
          4020426.551039077,
          9339067.871714644,
          7120018.097322594,
          7600290.600463287,
          6748868.414546189,
          10645680.548787383,
          9276506.572155692,
          5365761.147544027,
          11005343.818996748,
          6816591.590050578,
          11476618.489099044,
          8136069.889870662,
          15210535.179043137,
          9522338.019468777,
          16083920.221995262,
          10788080.041720398,
          10723842.033302879,
          14504867.438883564,
          13213965.877223065,
          14852392.449319147,
          21257245.222745985,
          11554078.128585558,
          19008405.860874753,
          26289842.974088814,
          12314846.904956868
         ],
         "yaxis": "y"
        }
       ],
       "layout": {
        "legend": {
         "title": {
          "text": "variable"
         },
         "tracegroupgap": 0
        },
        "template": {
         "data": {
          "bar": [
           {
            "error_x": {
             "color": "#2a3f5f"
            },
            "error_y": {
             "color": "#2a3f5f"
            },
            "marker": {
             "line": {
              "color": "#E5ECF6",
              "width": 0.5
             },
             "pattern": {
              "fillmode": "overlay",
              "size": 10,
              "solidity": 0.2
             }
            },
            "type": "bar"
           }
          ],
          "barpolar": [
           {
            "marker": {
             "line": {
              "color": "#E5ECF6",
              "width": 0.5
             },
             "pattern": {
              "fillmode": "overlay",
              "size": 10,
              "solidity": 0.2
             }
            },
            "type": "barpolar"
           }
          ],
          "carpet": [
           {
            "aaxis": {
             "endlinecolor": "#2a3f5f",
             "gridcolor": "white",
             "linecolor": "white",
             "minorgridcolor": "white",
             "startlinecolor": "#2a3f5f"
            },
            "baxis": {
             "endlinecolor": "#2a3f5f",
             "gridcolor": "white",
             "linecolor": "white",
             "minorgridcolor": "white",
             "startlinecolor": "#2a3f5f"
            },
            "type": "carpet"
           }
          ],
          "choropleth": [
           {
            "colorbar": {
             "outlinewidth": 0,
             "ticks": ""
            },
            "type": "choropleth"
           }
          ],
          "contour": [
           {
            "colorbar": {
             "outlinewidth": 0,
             "ticks": ""
            },
            "colorscale": [
             [
              0,
              "#0d0887"
             ],
             [
              0.1111111111111111,
              "#46039f"
             ],
             [
              0.2222222222222222,
              "#7201a8"
             ],
             [
              0.3333333333333333,
              "#9c179e"
             ],
             [
              0.4444444444444444,
              "#bd3786"
             ],
             [
              0.5555555555555556,
              "#d8576b"
             ],
             [
              0.6666666666666666,
              "#ed7953"
             ],
             [
              0.7777777777777778,
              "#fb9f3a"
             ],
             [
              0.8888888888888888,
              "#fdca26"
             ],
             [
              1,
              "#f0f921"
             ]
            ],
            "type": "contour"
           }
          ],
          "contourcarpet": [
           {
            "colorbar": {
             "outlinewidth": 0,
             "ticks": ""
            },
            "type": "contourcarpet"
           }
          ],
          "heatmap": [
           {
            "colorbar": {
             "outlinewidth": 0,
             "ticks": ""
            },
            "colorscale": [
             [
              0,
              "#0d0887"
             ],
             [
              0.1111111111111111,
              "#46039f"
             ],
             [
              0.2222222222222222,
              "#7201a8"
             ],
             [
              0.3333333333333333,
              "#9c179e"
             ],
             [
              0.4444444444444444,
              "#bd3786"
             ],
             [
              0.5555555555555556,
              "#d8576b"
             ],
             [
              0.6666666666666666,
              "#ed7953"
             ],
             [
              0.7777777777777778,
              "#fb9f3a"
             ],
             [
              0.8888888888888888,
              "#fdca26"
             ],
             [
              1,
              "#f0f921"
             ]
            ],
            "type": "heatmap"
           }
          ],
          "heatmapgl": [
           {
            "colorbar": {
             "outlinewidth": 0,
             "ticks": ""
            },
            "colorscale": [
             [
              0,
              "#0d0887"
             ],
             [
              0.1111111111111111,
              "#46039f"
             ],
             [
              0.2222222222222222,
              "#7201a8"
             ],
             [
              0.3333333333333333,
              "#9c179e"
             ],
             [
              0.4444444444444444,
              "#bd3786"
             ],
             [
              0.5555555555555556,
              "#d8576b"
             ],
             [
              0.6666666666666666,
              "#ed7953"
             ],
             [
              0.7777777777777778,
              "#fb9f3a"
             ],
             [
              0.8888888888888888,
              "#fdca26"
             ],
             [
              1,
              "#f0f921"
             ]
            ],
            "type": "heatmapgl"
           }
          ],
          "histogram": [
           {
            "marker": {
             "pattern": {
              "fillmode": "overlay",
              "size": 10,
              "solidity": 0.2
             }
            },
            "type": "histogram"
           }
          ],
          "histogram2d": [
           {
            "colorbar": {
             "outlinewidth": 0,
             "ticks": ""
            },
            "colorscale": [
             [
              0,
              "#0d0887"
             ],
             [
              0.1111111111111111,
              "#46039f"
             ],
             [
              0.2222222222222222,
              "#7201a8"
             ],
             [
              0.3333333333333333,
              "#9c179e"
             ],
             [
              0.4444444444444444,
              "#bd3786"
             ],
             [
              0.5555555555555556,
              "#d8576b"
             ],
             [
              0.6666666666666666,
              "#ed7953"
             ],
             [
              0.7777777777777778,
              "#fb9f3a"
             ],
             [
              0.8888888888888888,
              "#fdca26"
             ],
             [
              1,
              "#f0f921"
             ]
            ],
            "type": "histogram2d"
           }
          ],
          "histogram2dcontour": [
           {
            "colorbar": {
             "outlinewidth": 0,
             "ticks": ""
            },
            "colorscale": [
             [
              0,
              "#0d0887"
             ],
             [
              0.1111111111111111,
              "#46039f"
             ],
             [
              0.2222222222222222,
              "#7201a8"
             ],
             [
              0.3333333333333333,
              "#9c179e"
             ],
             [
              0.4444444444444444,
              "#bd3786"
             ],
             [
              0.5555555555555556,
              "#d8576b"
             ],
             [
              0.6666666666666666,
              "#ed7953"
             ],
             [
              0.7777777777777778,
              "#fb9f3a"
             ],
             [
              0.8888888888888888,
              "#fdca26"
             ],
             [
              1,
              "#f0f921"
             ]
            ],
            "type": "histogram2dcontour"
           }
          ],
          "mesh3d": [
           {
            "colorbar": {
             "outlinewidth": 0,
             "ticks": ""
            },
            "type": "mesh3d"
           }
          ],
          "parcoords": [
           {
            "line": {
             "colorbar": {
              "outlinewidth": 0,
              "ticks": ""
             }
            },
            "type": "parcoords"
           }
          ],
          "pie": [
           {
            "automargin": true,
            "type": "pie"
           }
          ],
          "scatter": [
           {
            "fillpattern": {
             "fillmode": "overlay",
             "size": 10,
             "solidity": 0.2
            },
            "type": "scatter"
           }
          ],
          "scatter3d": [
           {
            "line": {
             "colorbar": {
              "outlinewidth": 0,
              "ticks": ""
             }
            },
            "marker": {
             "colorbar": {
              "outlinewidth": 0,
              "ticks": ""
             }
            },
            "type": "scatter3d"
           }
          ],
          "scattercarpet": [
           {
            "marker": {
             "colorbar": {
              "outlinewidth": 0,
              "ticks": ""
             }
            },
            "type": "scattercarpet"
           }
          ],
          "scattergeo": [
           {
            "marker": {
             "colorbar": {
              "outlinewidth": 0,
              "ticks": ""
             }
            },
            "type": "scattergeo"
           }
          ],
          "scattergl": [
           {
            "marker": {
             "colorbar": {
              "outlinewidth": 0,
              "ticks": ""
             }
            },
            "type": "scattergl"
           }
          ],
          "scattermapbox": [
           {
            "marker": {
             "colorbar": {
              "outlinewidth": 0,
              "ticks": ""
             }
            },
            "type": "scattermapbox"
           }
          ],
          "scatterpolar": [
           {
            "marker": {
             "colorbar": {
              "outlinewidth": 0,
              "ticks": ""
             }
            },
            "type": "scatterpolar"
           }
          ],
          "scatterpolargl": [
           {
            "marker": {
             "colorbar": {
              "outlinewidth": 0,
              "ticks": ""
             }
            },
            "type": "scatterpolargl"
           }
          ],
          "scatterternary": [
           {
            "marker": {
             "colorbar": {
              "outlinewidth": 0,
              "ticks": ""
             }
            },
            "type": "scatterternary"
           }
          ],
          "surface": [
           {
            "colorbar": {
             "outlinewidth": 0,
             "ticks": ""
            },
            "colorscale": [
             [
              0,
              "#0d0887"
             ],
             [
              0.1111111111111111,
              "#46039f"
             ],
             [
              0.2222222222222222,
              "#7201a8"
             ],
             [
              0.3333333333333333,
              "#9c179e"
             ],
             [
              0.4444444444444444,
              "#bd3786"
             ],
             [
              0.5555555555555556,
              "#d8576b"
             ],
             [
              0.6666666666666666,
              "#ed7953"
             ],
             [
              0.7777777777777778,
              "#fb9f3a"
             ],
             [
              0.8888888888888888,
              "#fdca26"
             ],
             [
              1,
              "#f0f921"
             ]
            ],
            "type": "surface"
           }
          ],
          "table": [
           {
            "cells": {
             "fill": {
              "color": "#EBF0F8"
             },
             "line": {
              "color": "white"
             }
            },
            "header": {
             "fill": {
              "color": "#C8D4E3"
             },
             "line": {
              "color": "white"
             }
            },
            "type": "table"
           }
          ]
         },
         "layout": {
          "annotationdefaults": {
           "arrowcolor": "#2a3f5f",
           "arrowhead": 0,
           "arrowwidth": 1
          },
          "autotypenumbers": "strict",
          "coloraxis": {
           "colorbar": {
            "outlinewidth": 0,
            "ticks": ""
           }
          },
          "colorscale": {
           "diverging": [
            [
             0,
             "#8e0152"
            ],
            [
             0.1,
             "#c51b7d"
            ],
            [
             0.2,
             "#de77ae"
            ],
            [
             0.3,
             "#f1b6da"
            ],
            [
             0.4,
             "#fde0ef"
            ],
            [
             0.5,
             "#f7f7f7"
            ],
            [
             0.6,
             "#e6f5d0"
            ],
            [
             0.7,
             "#b8e186"
            ],
            [
             0.8,
             "#7fbc41"
            ],
            [
             0.9,
             "#4d9221"
            ],
            [
             1,
             "#276419"
            ]
           ],
           "sequential": [
            [
             0,
             "#0d0887"
            ],
            [
             0.1111111111111111,
             "#46039f"
            ],
            [
             0.2222222222222222,
             "#7201a8"
            ],
            [
             0.3333333333333333,
             "#9c179e"
            ],
            [
             0.4444444444444444,
             "#bd3786"
            ],
            [
             0.5555555555555556,
             "#d8576b"
            ],
            [
             0.6666666666666666,
             "#ed7953"
            ],
            [
             0.7777777777777778,
             "#fb9f3a"
            ],
            [
             0.8888888888888888,
             "#fdca26"
            ],
            [
             1,
             "#f0f921"
            ]
           ],
           "sequentialminus": [
            [
             0,
             "#0d0887"
            ],
            [
             0.1111111111111111,
             "#46039f"
            ],
            [
             0.2222222222222222,
             "#7201a8"
            ],
            [
             0.3333333333333333,
             "#9c179e"
            ],
            [
             0.4444444444444444,
             "#bd3786"
            ],
            [
             0.5555555555555556,
             "#d8576b"
            ],
            [
             0.6666666666666666,
             "#ed7953"
            ],
            [
             0.7777777777777778,
             "#fb9f3a"
            ],
            [
             0.8888888888888888,
             "#fdca26"
            ],
            [
             1,
             "#f0f921"
            ]
           ]
          },
          "colorway": [
           "#636efa",
           "#EF553B",
           "#00cc96",
           "#ab63fa",
           "#FFA15A",
           "#19d3f3",
           "#FF6692",
           "#B6E880",
           "#FF97FF",
           "#FECB52"
          ],
          "font": {
           "color": "#2a3f5f"
          },
          "geo": {
           "bgcolor": "white",
           "lakecolor": "white",
           "landcolor": "#E5ECF6",
           "showlakes": true,
           "showland": true,
           "subunitcolor": "white"
          },
          "hoverlabel": {
           "align": "left"
          },
          "hovermode": "closest",
          "mapbox": {
           "style": "light"
          },
          "paper_bgcolor": "white",
          "plot_bgcolor": "#E5ECF6",
          "polar": {
           "angularaxis": {
            "gridcolor": "white",
            "linecolor": "white",
            "ticks": ""
           },
           "bgcolor": "#E5ECF6",
           "radialaxis": {
            "gridcolor": "white",
            "linecolor": "white",
            "ticks": ""
           }
          },
          "scene": {
           "xaxis": {
            "backgroundcolor": "#E5ECF6",
            "gridcolor": "white",
            "gridwidth": 2,
            "linecolor": "white",
            "showbackground": true,
            "ticks": "",
            "zerolinecolor": "white"
           },
           "yaxis": {
            "backgroundcolor": "#E5ECF6",
            "gridcolor": "white",
            "gridwidth": 2,
            "linecolor": "white",
            "showbackground": true,
            "ticks": "",
            "zerolinecolor": "white"
           },
           "zaxis": {
            "backgroundcolor": "#E5ECF6",
            "gridcolor": "white",
            "gridwidth": 2,
            "linecolor": "white",
            "showbackground": true,
            "ticks": "",
            "zerolinecolor": "white"
           }
          },
          "shapedefaults": {
           "line": {
            "color": "#2a3f5f"
           }
          },
          "ternary": {
           "aaxis": {
            "gridcolor": "white",
            "linecolor": "white",
            "ticks": ""
           },
           "baxis": {
            "gridcolor": "white",
            "linecolor": "white",
            "ticks": ""
           },
           "bgcolor": "#E5ECF6",
           "caxis": {
            "gridcolor": "white",
            "linecolor": "white",
            "ticks": ""
           }
          },
          "title": {
           "x": 0.05
          },
          "xaxis": {
           "automargin": true,
           "gridcolor": "white",
           "linecolor": "white",
           "ticks": "",
           "title": {
            "standoff": 15
           },
           "zerolinecolor": "white",
           "zerolinewidth": 2
          },
          "yaxis": {
           "automargin": true,
           "gridcolor": "white",
           "linecolor": "white",
           "ticks": "",
           "title": {
            "standoff": 15
           },
           "zerolinecolor": "white",
           "zerolinewidth": 2
          }
         }
        },
        "title": {
         "text": "UNI token volume USD (DEX)"
        },
        "xaxis": {
         "anchor": "y",
         "domain": [
          0,
          1
         ],
         "title": {
          "text": "date"
         }
        },
        "yaxis": {
         "anchor": "x",
         "domain": [
          0,
          1
         ],
         "title": {
          "text": "value"
         }
        }
       }
      },
      "text/html": [
       "<div>                            <div id=\"121aae61-a0c7-471c-b904-20657db42494\" class=\"plotly-graph-div\" style=\"height:525px; width:100%;\"></div>            <script type=\"text/javascript\">                require([\"plotly\"], function(Plotly) {                    window.PLOTLYENV=window.PLOTLYENV || {};                                    if (document.getElementById(\"121aae61-a0c7-471c-b904-20657db42494\")) {                    Plotly.newPlot(                        \"121aae61-a0c7-471c-b904-20657db42494\",                        [{\"hovertemplate\":\"variable=volumeUSD<br>date=%{x}<br>value=%{y}<extra></extra>\",\"legendgroup\":\"volumeUSD\",\"line\":{\"color\":\"#636efa\",\"dash\":\"solid\"},\"marker\":{\"symbol\":\"circle\"},\"mode\":\"lines\",\"name\":\"volumeUSD\",\"orientation\":\"v\",\"showlegend\":true,\"x\":[\"2021-05-04T03:00:00\",\"2021-05-05T03:00:00\",\"2021-05-06T03:00:00\",\"2021-05-07T03:00:00\",\"2021-05-08T03:00:00\",\"2021-05-09T03:00:00\",\"2021-05-10T03:00:00\",\"2021-05-11T03:00:00\",\"2021-05-12T03:00:00\",\"2021-05-13T03:00:00\",\"2021-05-14T03:00:00\",\"2021-05-15T03:00:00\",\"2021-05-16T03:00:00\",\"2021-05-17T03:00:00\",\"2021-05-18T03:00:00\",\"2021-05-19T03:00:00\",\"2021-05-20T03:00:00\",\"2021-05-21T03:00:00\",\"2021-05-22T03:00:00\",\"2021-05-23T03:00:00\",\"2021-05-24T03:00:00\",\"2021-05-25T03:00:00\",\"2021-05-26T03:00:00\",\"2021-05-27T03:00:00\",\"2021-05-28T03:00:00\",\"2021-05-29T03:00:00\",\"2021-05-30T03:00:00\",\"2021-05-31T03:00:00\",\"2021-06-01T03:00:00\",\"2021-06-02T03:00:00\",\"2021-06-03T03:00:00\",\"2021-06-04T03:00:00\",\"2021-06-05T03:00:00\",\"2021-06-06T03:00:00\",\"2021-06-07T03:00:00\",\"2021-06-08T03:00:00\",\"2021-06-09T03:00:00\",\"2021-06-10T03:00:00\",\"2021-06-11T03:00:00\",\"2021-06-12T03:00:00\",\"2021-06-13T03:00:00\",\"2021-06-14T03:00:00\",\"2021-06-15T03:00:00\",\"2021-06-16T03:00:00\",\"2021-06-17T03:00:00\",\"2021-06-18T03:00:00\",\"2021-06-19T03:00:00\",\"2021-06-20T03:00:00\",\"2021-06-21T03:00:00\",\"2021-06-22T03:00:00\",\"2021-06-23T03:00:00\",\"2021-06-24T03:00:00\",\"2021-06-25T03:00:00\",\"2021-06-26T03:00:00\",\"2021-06-27T03:00:00\",\"2021-06-28T03:00:00\",\"2021-06-29T03:00:00\",\"2021-06-30T03:00:00\",\"2021-07-01T03:00:00\",\"2021-07-02T03:00:00\",\"2021-07-03T03:00:00\",\"2021-07-04T03:00:00\",\"2021-07-05T03:00:00\",\"2021-07-06T03:00:00\",\"2021-07-07T03:00:00\",\"2021-07-08T03:00:00\",\"2021-07-09T03:00:00\",\"2021-07-10T03:00:00\",\"2021-07-11T03:00:00\",\"2021-07-12T03:00:00\",\"2021-07-13T03:00:00\",\"2021-07-14T03:00:00\",\"2021-07-15T03:00:00\",\"2021-07-16T03:00:00\",\"2021-07-17T03:00:00\",\"2021-07-18T03:00:00\",\"2021-07-19T03:00:00\",\"2021-07-20T03:00:00\",\"2021-07-21T03:00:00\",\"2021-07-22T03:00:00\",\"2021-07-23T03:00:00\",\"2021-07-24T03:00:00\",\"2021-07-25T03:00:00\",\"2021-07-26T03:00:00\",\"2021-07-27T03:00:00\",\"2021-07-28T03:00:00\",\"2021-07-29T03:00:00\",\"2021-07-30T03:00:00\",\"2021-07-31T03:00:00\",\"2021-08-01T03:00:00\",\"2021-08-02T03:00:00\",\"2021-08-03T03:00:00\",\"2021-08-04T03:00:00\",\"2021-08-05T03:00:00\",\"2021-08-06T03:00:00\",\"2021-08-07T03:00:00\",\"2021-08-08T03:00:00\",\"2021-08-09T03:00:00\",\"2021-08-10T03:00:00\",\"2021-08-11T03:00:00\"],\"xaxis\":\"x\",\"y\":[0.0,1346557.4100792368,12466870.032496547,9418263.065083085,19320941.561981563,14490631.007198237,20174456.329728138,8954067.516573085,61387615.53239739,38580428.81412577,13117765.84080479,30383571.868345305,28731343.4619592,33508218.28502079,31465230.67852972,56773510.08151066,30451463.147107605,32393361.536769234,40607606.002528355,40148836.54765568,36770322.08382926,45032631.37594097,39600615.8836969,38893394.43145273,32292784.9782513,29582119.46984538,28014699.95171915,29739160.432394933,23562196.972690687,23409756.99699133,18534155.09625269,12287059.750491332,9797044.11258188,8591582.986196198,14711453.159949888,16529814.079566432,23056361.271343555,10658746.435712246,26877140.204727333,16572411.093629146,18265683.32672812,11511707.343038714,5873297.496653574,8575592.447009511,6662842.303940587,8276954.127616059,4749931.362096424,11347829.419658558,16688628.876291096,23756815.414277133,15843073.752374498,13101404.178080985,9869225.290733973,11484531.43254475,4374806.05290091,7710376.237788112,8533382.717543773,8110505.209898354,6508318.727290682,3715542.010401481,10207016.19921452,26696297.109908104,15118300.011312922,38229062.68665087,22517788.882979505,12941083.971831003,7289283.818582103,4727399.098202958,5099573.034957744,8350260.80460855,8252257.622390651,15665329.534598283,12817610.182519875,8410742.312593514,11130709.386714015,4020426.551039077,9339067.871714644,7120018.097322594,7600290.600463287,6748868.414546189,10645680.548787383,9276506.572155692,5365761.147544027,11005343.818996748,6816591.590050578,11476618.489099044,8136069.889870662,15210535.179043137,9522338.019468777,16083920.221995262,10788080.041720398,10723842.033302879,14504867.438883564,13213965.877223065,14852392.449319147,21257245.222745985,11554078.128585558,19008405.860874753,26289842.974088814,12314846.904956868],\"yaxis\":\"y\",\"type\":\"scatter\"}],                        {\"template\":{\"data\":{\"histogram2dcontour\":[{\"type\":\"histogram2dcontour\",\"colorbar\":{\"outlinewidth\":0,\"ticks\":\"\"},\"colorscale\":[[0.0,\"#0d0887\"],[0.1111111111111111,\"#46039f\"],[0.2222222222222222,\"#7201a8\"],[0.3333333333333333,\"#9c179e\"],[0.4444444444444444,\"#bd3786\"],[0.5555555555555556,\"#d8576b\"],[0.6666666666666666,\"#ed7953\"],[0.7777777777777778,\"#fb9f3a\"],[0.8888888888888888,\"#fdca26\"],[1.0,\"#f0f921\"]]}],\"choropleth\":[{\"type\":\"choropleth\",\"colorbar\":{\"outlinewidth\":0,\"ticks\":\"\"}}],\"histogram2d\":[{\"type\":\"histogram2d\",\"colorbar\":{\"outlinewidth\":0,\"ticks\":\"\"},\"colorscale\":[[0.0,\"#0d0887\"],[0.1111111111111111,\"#46039f\"],[0.2222222222222222,\"#7201a8\"],[0.3333333333333333,\"#9c179e\"],[0.4444444444444444,\"#bd3786\"],[0.5555555555555556,\"#d8576b\"],[0.6666666666666666,\"#ed7953\"],[0.7777777777777778,\"#fb9f3a\"],[0.8888888888888888,\"#fdca26\"],[1.0,\"#f0f921\"]]}],\"heatmap\":[{\"type\":\"heatmap\",\"colorbar\":{\"outlinewidth\":0,\"ticks\":\"\"},\"colorscale\":[[0.0,\"#0d0887\"],[0.1111111111111111,\"#46039f\"],[0.2222222222222222,\"#7201a8\"],[0.3333333333333333,\"#9c179e\"],[0.4444444444444444,\"#bd3786\"],[0.5555555555555556,\"#d8576b\"],[0.6666666666666666,\"#ed7953\"],[0.7777777777777778,\"#fb9f3a\"],[0.8888888888888888,\"#fdca26\"],[1.0,\"#f0f921\"]]}],\"heatmapgl\":[{\"type\":\"heatmapgl\",\"colorbar\":{\"outlinewidth\":0,\"ticks\":\"\"},\"colorscale\":[[0.0,\"#0d0887\"],[0.1111111111111111,\"#46039f\"],[0.2222222222222222,\"#7201a8\"],[0.3333333333333333,\"#9c179e\"],[0.4444444444444444,\"#bd3786\"],[0.5555555555555556,\"#d8576b\"],[0.6666666666666666,\"#ed7953\"],[0.7777777777777778,\"#fb9f3a\"],[0.8888888888888888,\"#fdca26\"],[1.0,\"#f0f921\"]]}],\"contourcarpet\":[{\"type\":\"contourcarpet\",\"colorbar\":{\"outlinewidth\":0,\"ticks\":\"\"}}],\"contour\":[{\"type\":\"contour\",\"colorbar\":{\"outlinewidth\":0,\"ticks\":\"\"},\"colorscale\":[[0.0,\"#0d0887\"],[0.1111111111111111,\"#46039f\"],[0.2222222222222222,\"#7201a8\"],[0.3333333333333333,\"#9c179e\"],[0.4444444444444444,\"#bd3786\"],[0.5555555555555556,\"#d8576b\"],[0.6666666666666666,\"#ed7953\"],[0.7777777777777778,\"#fb9f3a\"],[0.8888888888888888,\"#fdca26\"],[1.0,\"#f0f921\"]]}],\"surface\":[{\"type\":\"surface\",\"colorbar\":{\"outlinewidth\":0,\"ticks\":\"\"},\"colorscale\":[[0.0,\"#0d0887\"],[0.1111111111111111,\"#46039f\"],[0.2222222222222222,\"#7201a8\"],[0.3333333333333333,\"#9c179e\"],[0.4444444444444444,\"#bd3786\"],[0.5555555555555556,\"#d8576b\"],[0.6666666666666666,\"#ed7953\"],[0.7777777777777778,\"#fb9f3a\"],[0.8888888888888888,\"#fdca26\"],[1.0,\"#f0f921\"]]}],\"mesh3d\":[{\"type\":\"mesh3d\",\"colorbar\":{\"outlinewidth\":0,\"ticks\":\"\"}}],\"scatter\":[{\"fillpattern\":{\"fillmode\":\"overlay\",\"size\":10,\"solidity\":0.2},\"type\":\"scatter\"}],\"parcoords\":[{\"type\":\"parcoords\",\"line\":{\"colorbar\":{\"outlinewidth\":0,\"ticks\":\"\"}}}],\"scatterpolargl\":[{\"type\":\"scatterpolargl\",\"marker\":{\"colorbar\":{\"outlinewidth\":0,\"ticks\":\"\"}}}],\"bar\":[{\"error_x\":{\"color\":\"#2a3f5f\"},\"error_y\":{\"color\":\"#2a3f5f\"},\"marker\":{\"line\":{\"color\":\"#E5ECF6\",\"width\":0.5},\"pattern\":{\"fillmode\":\"overlay\",\"size\":10,\"solidity\":0.2}},\"type\":\"bar\"}],\"scattergeo\":[{\"type\":\"scattergeo\",\"marker\":{\"colorbar\":{\"outlinewidth\":0,\"ticks\":\"\"}}}],\"scatterpolar\":[{\"type\":\"scatterpolar\",\"marker\":{\"colorbar\":{\"outlinewidth\":0,\"ticks\":\"\"}}}],\"histogram\":[{\"marker\":{\"pattern\":{\"fillmode\":\"overlay\",\"size\":10,\"solidity\":0.2}},\"type\":\"histogram\"}],\"scattergl\":[{\"type\":\"scattergl\",\"marker\":{\"colorbar\":{\"outlinewidth\":0,\"ticks\":\"\"}}}],\"scatter3d\":[{\"type\":\"scatter3d\",\"line\":{\"colorbar\":{\"outlinewidth\":0,\"ticks\":\"\"}},\"marker\":{\"colorbar\":{\"outlinewidth\":0,\"ticks\":\"\"}}}],\"scattermapbox\":[{\"type\":\"scattermapbox\",\"marker\":{\"colorbar\":{\"outlinewidth\":0,\"ticks\":\"\"}}}],\"scatterternary\":[{\"type\":\"scatterternary\",\"marker\":{\"colorbar\":{\"outlinewidth\":0,\"ticks\":\"\"}}}],\"scattercarpet\":[{\"type\":\"scattercarpet\",\"marker\":{\"colorbar\":{\"outlinewidth\":0,\"ticks\":\"\"}}}],\"carpet\":[{\"aaxis\":{\"endlinecolor\":\"#2a3f5f\",\"gridcolor\":\"white\",\"linecolor\":\"white\",\"minorgridcolor\":\"white\",\"startlinecolor\":\"#2a3f5f\"},\"baxis\":{\"endlinecolor\":\"#2a3f5f\",\"gridcolor\":\"white\",\"linecolor\":\"white\",\"minorgridcolor\":\"white\",\"startlinecolor\":\"#2a3f5f\"},\"type\":\"carpet\"}],\"table\":[{\"cells\":{\"fill\":{\"color\":\"#EBF0F8\"},\"line\":{\"color\":\"white\"}},\"header\":{\"fill\":{\"color\":\"#C8D4E3\"},\"line\":{\"color\":\"white\"}},\"type\":\"table\"}],\"barpolar\":[{\"marker\":{\"line\":{\"color\":\"#E5ECF6\",\"width\":0.5},\"pattern\":{\"fillmode\":\"overlay\",\"size\":10,\"solidity\":0.2}},\"type\":\"barpolar\"}],\"pie\":[{\"automargin\":true,\"type\":\"pie\"}]},\"layout\":{\"autotypenumbers\":\"strict\",\"colorway\":[\"#636efa\",\"#EF553B\",\"#00cc96\",\"#ab63fa\",\"#FFA15A\",\"#19d3f3\",\"#FF6692\",\"#B6E880\",\"#FF97FF\",\"#FECB52\"],\"font\":{\"color\":\"#2a3f5f\"},\"hovermode\":\"closest\",\"hoverlabel\":{\"align\":\"left\"},\"paper_bgcolor\":\"white\",\"plot_bgcolor\":\"#E5ECF6\",\"polar\":{\"bgcolor\":\"#E5ECF6\",\"angularaxis\":{\"gridcolor\":\"white\",\"linecolor\":\"white\",\"ticks\":\"\"},\"radialaxis\":{\"gridcolor\":\"white\",\"linecolor\":\"white\",\"ticks\":\"\"}},\"ternary\":{\"bgcolor\":\"#E5ECF6\",\"aaxis\":{\"gridcolor\":\"white\",\"linecolor\":\"white\",\"ticks\":\"\"},\"baxis\":{\"gridcolor\":\"white\",\"linecolor\":\"white\",\"ticks\":\"\"},\"caxis\":{\"gridcolor\":\"white\",\"linecolor\":\"white\",\"ticks\":\"\"}},\"coloraxis\":{\"colorbar\":{\"outlinewidth\":0,\"ticks\":\"\"}},\"colorscale\":{\"sequential\":[[0.0,\"#0d0887\"],[0.1111111111111111,\"#46039f\"],[0.2222222222222222,\"#7201a8\"],[0.3333333333333333,\"#9c179e\"],[0.4444444444444444,\"#bd3786\"],[0.5555555555555556,\"#d8576b\"],[0.6666666666666666,\"#ed7953\"],[0.7777777777777778,\"#fb9f3a\"],[0.8888888888888888,\"#fdca26\"],[1.0,\"#f0f921\"]],\"sequentialminus\":[[0.0,\"#0d0887\"],[0.1111111111111111,\"#46039f\"],[0.2222222222222222,\"#7201a8\"],[0.3333333333333333,\"#9c179e\"],[0.4444444444444444,\"#bd3786\"],[0.5555555555555556,\"#d8576b\"],[0.6666666666666666,\"#ed7953\"],[0.7777777777777778,\"#fb9f3a\"],[0.8888888888888888,\"#fdca26\"],[1.0,\"#f0f921\"]],\"diverging\":[[0,\"#8e0152\"],[0.1,\"#c51b7d\"],[0.2,\"#de77ae\"],[0.3,\"#f1b6da\"],[0.4,\"#fde0ef\"],[0.5,\"#f7f7f7\"],[0.6,\"#e6f5d0\"],[0.7,\"#b8e186\"],[0.8,\"#7fbc41\"],[0.9,\"#4d9221\"],[1,\"#276419\"]]},\"xaxis\":{\"gridcolor\":\"white\",\"linecolor\":\"white\",\"ticks\":\"\",\"title\":{\"standoff\":15},\"zerolinecolor\":\"white\",\"automargin\":true,\"zerolinewidth\":2},\"yaxis\":{\"gridcolor\":\"white\",\"linecolor\":\"white\",\"ticks\":\"\",\"title\":{\"standoff\":15},\"zerolinecolor\":\"white\",\"automargin\":true,\"zerolinewidth\":2},\"scene\":{\"xaxis\":{\"backgroundcolor\":\"#E5ECF6\",\"gridcolor\":\"white\",\"linecolor\":\"white\",\"showbackground\":true,\"ticks\":\"\",\"zerolinecolor\":\"white\",\"gridwidth\":2},\"yaxis\":{\"backgroundcolor\":\"#E5ECF6\",\"gridcolor\":\"white\",\"linecolor\":\"white\",\"showbackground\":true,\"ticks\":\"\",\"zerolinecolor\":\"white\",\"gridwidth\":2},\"zaxis\":{\"backgroundcolor\":\"#E5ECF6\",\"gridcolor\":\"white\",\"linecolor\":\"white\",\"showbackground\":true,\"ticks\":\"\",\"zerolinecolor\":\"white\",\"gridwidth\":2}},\"shapedefaults\":{\"line\":{\"color\":\"#2a3f5f\"}},\"annotationdefaults\":{\"arrowcolor\":\"#2a3f5f\",\"arrowhead\":0,\"arrowwidth\":1},\"geo\":{\"bgcolor\":\"white\",\"landcolor\":\"#E5ECF6\",\"subunitcolor\":\"white\",\"showland\":true,\"showlakes\":true,\"lakecolor\":\"white\"},\"title\":{\"x\":0.05},\"mapbox\":{\"style\":\"light\"}}},\"xaxis\":{\"anchor\":\"y\",\"domain\":[0.0,1.0],\"title\":{\"text\":\"date\"}},\"yaxis\":{\"anchor\":\"x\",\"domain\":[0.0,1.0],\"title\":{\"text\":\"value\"}},\"legend\":{\"title\":{\"text\":\"variable\"},\"tracegroupgap\":0},\"title\":{\"text\":\"UNI token volume USD (DEX)\"}},                        {\"responsive\": true}                    ).then(function(){\n",
       "                            \n",
       "var gd = document.getElementById('121aae61-a0c7-471c-b904-20657db42494');\n",
       "var x = new MutationObserver(function (mutations, observer) {{\n",
       "        var display = window.getComputedStyle(gd).display;\n",
       "        if (!display || display === 'none') {{\n",
       "            console.log([gd, 'removed!']);\n",
       "            Plotly.purge(gd);\n",
       "            observer.disconnect();\n",
       "        }}\n",
       "}});\n",
       "\n",
       "// Listen for the removal of the full notebook cells\n",
       "var notebookContainer = gd.closest('#notebook-container');\n",
       "if (notebookContainer) {{\n",
       "    x.observe(notebookContainer, {childList: true});\n",
       "}}\n",
       "\n",
       "// Listen for the clearing of the current output cell\n",
       "var outputEl = gd.closest('.output');\n",
       "if (outputEl) {{\n",
       "    x.observe(outputEl, {childList: true});\n",
       "}}\n",
       "\n",
       "                        })                };                });            </script>        </div>"
      ]
     },
     "metadata": {},
     "output_type": "display_data"
    }
   ],
   "source": [
    "import  plotly.express as px\n",
    "\n",
    "df_token['volumeUSD'] = df_token['volumeUSD'].astype(float)\n",
    "px.line(df_token.sort_values('date'), x = 'date', y = ['volumeUSD'], title=\"UNI token volume USD (DEX)\")"
   ]
  },
  {
   "cell_type": "code",
   "execution_count": 94,
   "metadata": {},
   "outputs": [
    {
     "data": {
      "application/vnd.plotly.v1+json": {
       "config": {
        "plotlyServerURL": "https://plot.ly"
       },
       "data": [
        {
         "hovertemplate": "variable=priceUSD<br>date=%{x}<br>value=%{y}<extra></extra>",
         "legendgroup": "priceUSD",
         "line": {
          "color": "#636efa",
          "dash": "solid"
         },
         "marker": {
          "symbol": "circle"
         },
         "mode": "lines",
         "name": "priceUSD",
         "orientation": "v",
         "showlegend": true,
         "type": "scatter",
         "x": [
          "2021-05-04T03:00:00",
          "2021-05-05T03:00:00",
          "2021-05-06T03:00:00",
          "2021-05-07T03:00:00",
          "2021-05-08T03:00:00",
          "2021-05-09T03:00:00",
          "2021-05-10T03:00:00",
          "2021-05-11T03:00:00",
          "2021-05-12T03:00:00",
          "2021-05-13T03:00:00",
          "2021-05-14T03:00:00",
          "2021-05-15T03:00:00",
          "2021-05-16T03:00:00",
          "2021-05-17T03:00:00",
          "2021-05-18T03:00:00",
          "2021-05-19T03:00:00",
          "2021-05-20T03:00:00",
          "2021-05-21T03:00:00",
          "2021-05-22T03:00:00",
          "2021-05-23T03:00:00",
          "2021-05-24T03:00:00",
          "2021-05-25T03:00:00",
          "2021-05-26T03:00:00",
          "2021-05-27T03:00:00",
          "2021-05-28T03:00:00",
          "2021-05-29T03:00:00",
          "2021-05-30T03:00:00",
          "2021-05-31T03:00:00",
          "2021-06-01T03:00:00",
          "2021-06-02T03:00:00",
          "2021-06-03T03:00:00",
          "2021-06-04T03:00:00",
          "2021-06-05T03:00:00",
          "2021-06-06T03:00:00",
          "2021-06-07T03:00:00",
          "2021-06-08T03:00:00",
          "2021-06-09T03:00:00",
          "2021-06-10T03:00:00",
          "2021-06-11T03:00:00",
          "2021-06-12T03:00:00",
          "2021-06-13T03:00:00",
          "2021-06-14T03:00:00",
          "2021-06-15T03:00:00",
          "2021-06-16T03:00:00",
          "2021-06-17T03:00:00",
          "2021-06-18T03:00:00",
          "2021-06-19T03:00:00",
          "2021-06-20T03:00:00",
          "2021-06-21T03:00:00",
          "2021-06-22T03:00:00",
          "2021-06-23T03:00:00",
          "2021-06-24T03:00:00",
          "2021-06-25T03:00:00",
          "2021-06-26T03:00:00",
          "2021-06-27T03:00:00",
          "2021-06-28T03:00:00",
          "2021-06-29T03:00:00",
          "2021-06-30T03:00:00",
          "2021-07-01T03:00:00",
          "2021-07-02T03:00:00",
          "2021-07-03T03:00:00",
          "2021-07-04T03:00:00",
          "2021-07-05T03:00:00",
          "2021-07-06T03:00:00",
          "2021-07-07T03:00:00",
          "2021-07-08T03:00:00",
          "2021-07-09T03:00:00",
          "2021-07-10T03:00:00",
          "2021-07-11T03:00:00",
          "2021-07-12T03:00:00",
          "2021-07-13T03:00:00",
          "2021-07-14T03:00:00",
          "2021-07-15T03:00:00",
          "2021-07-16T03:00:00",
          "2021-07-17T03:00:00",
          "2021-07-18T03:00:00",
          "2021-07-19T03:00:00",
          "2021-07-20T03:00:00",
          "2021-07-21T03:00:00",
          "2021-07-22T03:00:00",
          "2021-07-23T03:00:00",
          "2021-07-24T03:00:00",
          "2021-07-25T03:00:00",
          "2021-07-26T03:00:00",
          "2021-07-27T03:00:00",
          "2021-07-28T03:00:00",
          "2021-07-29T03:00:00",
          "2021-07-30T03:00:00",
          "2021-07-31T03:00:00",
          "2021-08-01T03:00:00",
          "2021-08-02T03:00:00",
          "2021-08-03T03:00:00",
          "2021-08-04T03:00:00",
          "2021-08-05T03:00:00",
          "2021-08-06T03:00:00",
          "2021-08-07T03:00:00",
          "2021-08-08T03:00:00",
          "2021-08-09T03:00:00",
          "2021-08-10T03:00:00",
          "2021-08-11T03:00:00"
         ],
         "xaxis": "x",
         "y": [
          0,
          42.12956237680189,
          40.045211085551784,
          39.66533204379281,
          40.57203107661687,
          39.337885353769856,
          36.6099653458366,
          38.637054770429486,
          35.64898762015303,
          37.091186949114444,
          40.24515304389808,
          36.427722670107464,
          36.56755915662297,
          33.36687040833797,
          35.13273558352517,
          23.96953984112724,
          26.284798772735506,
          21.477848749035836,
          20.59083688464217,
          16.931947974015785,
          24.739449156158162,
          25.181691169187193,
          29.133996034966565,
          28.58031589170433,
          25.837269056658982,
          23.138623254714297,
          25.78388738760756,
          28.363346732877268,
          27.541057785847194,
          27.70047435398551,
          28.70102922454128,
          26.54443502284496,
          25.618208894244766,
          25.719552663347113,
          24.179854782891905,
          23.49570858675709,
          25.049363850693446,
          23.65066718376522,
          21.853795636638047,
          21.365954084032296,
          23.19422624305624,
          23.987338700828488,
          23.56745271841024,
          21.66678646887283,
          22.086363826941177,
          20.380742373509833,
          19.91729942472021,
          20.73726671574279,
          15.86585262859659,
          16.298586368642617,
          17.727639971485203,
          18.064631923869534,
          15.993335140414478,
          16.15766037064551,
          17.03652727410082,
          17.63037348785081,
          18.551895631239173,
          19.20419006867015,
          17.92267993285747,
          18.17337343016526,
          19.411017386339708,
          20.868729200583864,
          20.12638889122928,
          22.286263326069143,
          22.34035831660461,
          20.33820537151512,
          21.14543848490472,
          20.250538111217598,
          20.61868975435153,
          19.576784380565787,
          18.414770819111656,
          17.866010333087697,
          16.968739969644506,
          16.358059477106522,
          16.14710957871524,
          16.345145739993946,
          15.777853049505024,
          14.618659255659967,
          16.687409322715414,
          17.48387908009196,
          18.584889359206976,
          18.287076488444043,
          18.185166012695074,
          18.60517913014795,
          18.79350216446964,
          18.955127807203215,
          19.573308130719973,
          21.045594270585763,
          21.889716102986213,
          22.045277393381095,
          22.463652708900877,
          21.29988839001241,
          23.46435247796606,
          25.339862107278087,
          26.196394238167166,
          28.35502256045629,
          26.641418397125523,
          28.542030406741315,
          28.911788735782736,
          29.044931016479147
         ],
         "yaxis": "y"
        }
       ],
       "layout": {
        "legend": {
         "title": {
          "text": "variable"
         },
         "tracegroupgap": 0
        },
        "template": {
         "data": {
          "bar": [
           {
            "error_x": {
             "color": "#2a3f5f"
            },
            "error_y": {
             "color": "#2a3f5f"
            },
            "marker": {
             "line": {
              "color": "#E5ECF6",
              "width": 0.5
             },
             "pattern": {
              "fillmode": "overlay",
              "size": 10,
              "solidity": 0.2
             }
            },
            "type": "bar"
           }
          ],
          "barpolar": [
           {
            "marker": {
             "line": {
              "color": "#E5ECF6",
              "width": 0.5
             },
             "pattern": {
              "fillmode": "overlay",
              "size": 10,
              "solidity": 0.2
             }
            },
            "type": "barpolar"
           }
          ],
          "carpet": [
           {
            "aaxis": {
             "endlinecolor": "#2a3f5f",
             "gridcolor": "white",
             "linecolor": "white",
             "minorgridcolor": "white",
             "startlinecolor": "#2a3f5f"
            },
            "baxis": {
             "endlinecolor": "#2a3f5f",
             "gridcolor": "white",
             "linecolor": "white",
             "minorgridcolor": "white",
             "startlinecolor": "#2a3f5f"
            },
            "type": "carpet"
           }
          ],
          "choropleth": [
           {
            "colorbar": {
             "outlinewidth": 0,
             "ticks": ""
            },
            "type": "choropleth"
           }
          ],
          "contour": [
           {
            "colorbar": {
             "outlinewidth": 0,
             "ticks": ""
            },
            "colorscale": [
             [
              0,
              "#0d0887"
             ],
             [
              0.1111111111111111,
              "#46039f"
             ],
             [
              0.2222222222222222,
              "#7201a8"
             ],
             [
              0.3333333333333333,
              "#9c179e"
             ],
             [
              0.4444444444444444,
              "#bd3786"
             ],
             [
              0.5555555555555556,
              "#d8576b"
             ],
             [
              0.6666666666666666,
              "#ed7953"
             ],
             [
              0.7777777777777778,
              "#fb9f3a"
             ],
             [
              0.8888888888888888,
              "#fdca26"
             ],
             [
              1,
              "#f0f921"
             ]
            ],
            "type": "contour"
           }
          ],
          "contourcarpet": [
           {
            "colorbar": {
             "outlinewidth": 0,
             "ticks": ""
            },
            "type": "contourcarpet"
           }
          ],
          "heatmap": [
           {
            "colorbar": {
             "outlinewidth": 0,
             "ticks": ""
            },
            "colorscale": [
             [
              0,
              "#0d0887"
             ],
             [
              0.1111111111111111,
              "#46039f"
             ],
             [
              0.2222222222222222,
              "#7201a8"
             ],
             [
              0.3333333333333333,
              "#9c179e"
             ],
             [
              0.4444444444444444,
              "#bd3786"
             ],
             [
              0.5555555555555556,
              "#d8576b"
             ],
             [
              0.6666666666666666,
              "#ed7953"
             ],
             [
              0.7777777777777778,
              "#fb9f3a"
             ],
             [
              0.8888888888888888,
              "#fdca26"
             ],
             [
              1,
              "#f0f921"
             ]
            ],
            "type": "heatmap"
           }
          ],
          "heatmapgl": [
           {
            "colorbar": {
             "outlinewidth": 0,
             "ticks": ""
            },
            "colorscale": [
             [
              0,
              "#0d0887"
             ],
             [
              0.1111111111111111,
              "#46039f"
             ],
             [
              0.2222222222222222,
              "#7201a8"
             ],
             [
              0.3333333333333333,
              "#9c179e"
             ],
             [
              0.4444444444444444,
              "#bd3786"
             ],
             [
              0.5555555555555556,
              "#d8576b"
             ],
             [
              0.6666666666666666,
              "#ed7953"
             ],
             [
              0.7777777777777778,
              "#fb9f3a"
             ],
             [
              0.8888888888888888,
              "#fdca26"
             ],
             [
              1,
              "#f0f921"
             ]
            ],
            "type": "heatmapgl"
           }
          ],
          "histogram": [
           {
            "marker": {
             "pattern": {
              "fillmode": "overlay",
              "size": 10,
              "solidity": 0.2
             }
            },
            "type": "histogram"
           }
          ],
          "histogram2d": [
           {
            "colorbar": {
             "outlinewidth": 0,
             "ticks": ""
            },
            "colorscale": [
             [
              0,
              "#0d0887"
             ],
             [
              0.1111111111111111,
              "#46039f"
             ],
             [
              0.2222222222222222,
              "#7201a8"
             ],
             [
              0.3333333333333333,
              "#9c179e"
             ],
             [
              0.4444444444444444,
              "#bd3786"
             ],
             [
              0.5555555555555556,
              "#d8576b"
             ],
             [
              0.6666666666666666,
              "#ed7953"
             ],
             [
              0.7777777777777778,
              "#fb9f3a"
             ],
             [
              0.8888888888888888,
              "#fdca26"
             ],
             [
              1,
              "#f0f921"
             ]
            ],
            "type": "histogram2d"
           }
          ],
          "histogram2dcontour": [
           {
            "colorbar": {
             "outlinewidth": 0,
             "ticks": ""
            },
            "colorscale": [
             [
              0,
              "#0d0887"
             ],
             [
              0.1111111111111111,
              "#46039f"
             ],
             [
              0.2222222222222222,
              "#7201a8"
             ],
             [
              0.3333333333333333,
              "#9c179e"
             ],
             [
              0.4444444444444444,
              "#bd3786"
             ],
             [
              0.5555555555555556,
              "#d8576b"
             ],
             [
              0.6666666666666666,
              "#ed7953"
             ],
             [
              0.7777777777777778,
              "#fb9f3a"
             ],
             [
              0.8888888888888888,
              "#fdca26"
             ],
             [
              1,
              "#f0f921"
             ]
            ],
            "type": "histogram2dcontour"
           }
          ],
          "mesh3d": [
           {
            "colorbar": {
             "outlinewidth": 0,
             "ticks": ""
            },
            "type": "mesh3d"
           }
          ],
          "parcoords": [
           {
            "line": {
             "colorbar": {
              "outlinewidth": 0,
              "ticks": ""
             }
            },
            "type": "parcoords"
           }
          ],
          "pie": [
           {
            "automargin": true,
            "type": "pie"
           }
          ],
          "scatter": [
           {
            "fillpattern": {
             "fillmode": "overlay",
             "size": 10,
             "solidity": 0.2
            },
            "type": "scatter"
           }
          ],
          "scatter3d": [
           {
            "line": {
             "colorbar": {
              "outlinewidth": 0,
              "ticks": ""
             }
            },
            "marker": {
             "colorbar": {
              "outlinewidth": 0,
              "ticks": ""
             }
            },
            "type": "scatter3d"
           }
          ],
          "scattercarpet": [
           {
            "marker": {
             "colorbar": {
              "outlinewidth": 0,
              "ticks": ""
             }
            },
            "type": "scattercarpet"
           }
          ],
          "scattergeo": [
           {
            "marker": {
             "colorbar": {
              "outlinewidth": 0,
              "ticks": ""
             }
            },
            "type": "scattergeo"
           }
          ],
          "scattergl": [
           {
            "marker": {
             "colorbar": {
              "outlinewidth": 0,
              "ticks": ""
             }
            },
            "type": "scattergl"
           }
          ],
          "scattermapbox": [
           {
            "marker": {
             "colorbar": {
              "outlinewidth": 0,
              "ticks": ""
             }
            },
            "type": "scattermapbox"
           }
          ],
          "scatterpolar": [
           {
            "marker": {
             "colorbar": {
              "outlinewidth": 0,
              "ticks": ""
             }
            },
            "type": "scatterpolar"
           }
          ],
          "scatterpolargl": [
           {
            "marker": {
             "colorbar": {
              "outlinewidth": 0,
              "ticks": ""
             }
            },
            "type": "scatterpolargl"
           }
          ],
          "scatterternary": [
           {
            "marker": {
             "colorbar": {
              "outlinewidth": 0,
              "ticks": ""
             }
            },
            "type": "scatterternary"
           }
          ],
          "surface": [
           {
            "colorbar": {
             "outlinewidth": 0,
             "ticks": ""
            },
            "colorscale": [
             [
              0,
              "#0d0887"
             ],
             [
              0.1111111111111111,
              "#46039f"
             ],
             [
              0.2222222222222222,
              "#7201a8"
             ],
             [
              0.3333333333333333,
              "#9c179e"
             ],
             [
              0.4444444444444444,
              "#bd3786"
             ],
             [
              0.5555555555555556,
              "#d8576b"
             ],
             [
              0.6666666666666666,
              "#ed7953"
             ],
             [
              0.7777777777777778,
              "#fb9f3a"
             ],
             [
              0.8888888888888888,
              "#fdca26"
             ],
             [
              1,
              "#f0f921"
             ]
            ],
            "type": "surface"
           }
          ],
          "table": [
           {
            "cells": {
             "fill": {
              "color": "#EBF0F8"
             },
             "line": {
              "color": "white"
             }
            },
            "header": {
             "fill": {
              "color": "#C8D4E3"
             },
             "line": {
              "color": "white"
             }
            },
            "type": "table"
           }
          ]
         },
         "layout": {
          "annotationdefaults": {
           "arrowcolor": "#2a3f5f",
           "arrowhead": 0,
           "arrowwidth": 1
          },
          "autotypenumbers": "strict",
          "coloraxis": {
           "colorbar": {
            "outlinewidth": 0,
            "ticks": ""
           }
          },
          "colorscale": {
           "diverging": [
            [
             0,
             "#8e0152"
            ],
            [
             0.1,
             "#c51b7d"
            ],
            [
             0.2,
             "#de77ae"
            ],
            [
             0.3,
             "#f1b6da"
            ],
            [
             0.4,
             "#fde0ef"
            ],
            [
             0.5,
             "#f7f7f7"
            ],
            [
             0.6,
             "#e6f5d0"
            ],
            [
             0.7,
             "#b8e186"
            ],
            [
             0.8,
             "#7fbc41"
            ],
            [
             0.9,
             "#4d9221"
            ],
            [
             1,
             "#276419"
            ]
           ],
           "sequential": [
            [
             0,
             "#0d0887"
            ],
            [
             0.1111111111111111,
             "#46039f"
            ],
            [
             0.2222222222222222,
             "#7201a8"
            ],
            [
             0.3333333333333333,
             "#9c179e"
            ],
            [
             0.4444444444444444,
             "#bd3786"
            ],
            [
             0.5555555555555556,
             "#d8576b"
            ],
            [
             0.6666666666666666,
             "#ed7953"
            ],
            [
             0.7777777777777778,
             "#fb9f3a"
            ],
            [
             0.8888888888888888,
             "#fdca26"
            ],
            [
             1,
             "#f0f921"
            ]
           ],
           "sequentialminus": [
            [
             0,
             "#0d0887"
            ],
            [
             0.1111111111111111,
             "#46039f"
            ],
            [
             0.2222222222222222,
             "#7201a8"
            ],
            [
             0.3333333333333333,
             "#9c179e"
            ],
            [
             0.4444444444444444,
             "#bd3786"
            ],
            [
             0.5555555555555556,
             "#d8576b"
            ],
            [
             0.6666666666666666,
             "#ed7953"
            ],
            [
             0.7777777777777778,
             "#fb9f3a"
            ],
            [
             0.8888888888888888,
             "#fdca26"
            ],
            [
             1,
             "#f0f921"
            ]
           ]
          },
          "colorway": [
           "#636efa",
           "#EF553B",
           "#00cc96",
           "#ab63fa",
           "#FFA15A",
           "#19d3f3",
           "#FF6692",
           "#B6E880",
           "#FF97FF",
           "#FECB52"
          ],
          "font": {
           "color": "#2a3f5f"
          },
          "geo": {
           "bgcolor": "white",
           "lakecolor": "white",
           "landcolor": "#E5ECF6",
           "showlakes": true,
           "showland": true,
           "subunitcolor": "white"
          },
          "hoverlabel": {
           "align": "left"
          },
          "hovermode": "closest",
          "mapbox": {
           "style": "light"
          },
          "paper_bgcolor": "white",
          "plot_bgcolor": "#E5ECF6",
          "polar": {
           "angularaxis": {
            "gridcolor": "white",
            "linecolor": "white",
            "ticks": ""
           },
           "bgcolor": "#E5ECF6",
           "radialaxis": {
            "gridcolor": "white",
            "linecolor": "white",
            "ticks": ""
           }
          },
          "scene": {
           "xaxis": {
            "backgroundcolor": "#E5ECF6",
            "gridcolor": "white",
            "gridwidth": 2,
            "linecolor": "white",
            "showbackground": true,
            "ticks": "",
            "zerolinecolor": "white"
           },
           "yaxis": {
            "backgroundcolor": "#E5ECF6",
            "gridcolor": "white",
            "gridwidth": 2,
            "linecolor": "white",
            "showbackground": true,
            "ticks": "",
            "zerolinecolor": "white"
           },
           "zaxis": {
            "backgroundcolor": "#E5ECF6",
            "gridcolor": "white",
            "gridwidth": 2,
            "linecolor": "white",
            "showbackground": true,
            "ticks": "",
            "zerolinecolor": "white"
           }
          },
          "shapedefaults": {
           "line": {
            "color": "#2a3f5f"
           }
          },
          "ternary": {
           "aaxis": {
            "gridcolor": "white",
            "linecolor": "white",
            "ticks": ""
           },
           "baxis": {
            "gridcolor": "white",
            "linecolor": "white",
            "ticks": ""
           },
           "bgcolor": "#E5ECF6",
           "caxis": {
            "gridcolor": "white",
            "linecolor": "white",
            "ticks": ""
           }
          },
          "title": {
           "x": 0.05
          },
          "xaxis": {
           "automargin": true,
           "gridcolor": "white",
           "linecolor": "white",
           "ticks": "",
           "title": {
            "standoff": 15
           },
           "zerolinecolor": "white",
           "zerolinewidth": 2
          },
          "yaxis": {
           "automargin": true,
           "gridcolor": "white",
           "linecolor": "white",
           "ticks": "",
           "title": {
            "standoff": 15
           },
           "zerolinecolor": "white",
           "zerolinewidth": 2
          }
         }
        },
        "title": {
         "text": "UNI token price USD"
        },
        "xaxis": {
         "anchor": "y",
         "domain": [
          0,
          1
         ],
         "title": {
          "text": "date"
         }
        },
        "yaxis": {
         "anchor": "x",
         "domain": [
          0,
          1
         ],
         "title": {
          "text": "value"
         }
        }
       }
      },
      "text/html": [
       "<div>                            <div id=\"723ee703-b80d-40ed-8c14-b368d99886d9\" class=\"plotly-graph-div\" style=\"height:525px; width:100%;\"></div>            <script type=\"text/javascript\">                require([\"plotly\"], function(Plotly) {                    window.PLOTLYENV=window.PLOTLYENV || {};                                    if (document.getElementById(\"723ee703-b80d-40ed-8c14-b368d99886d9\")) {                    Plotly.newPlot(                        \"723ee703-b80d-40ed-8c14-b368d99886d9\",                        [{\"hovertemplate\":\"variable=priceUSD<br>date=%{x}<br>value=%{y}<extra></extra>\",\"legendgroup\":\"priceUSD\",\"line\":{\"color\":\"#636efa\",\"dash\":\"solid\"},\"marker\":{\"symbol\":\"circle\"},\"mode\":\"lines\",\"name\":\"priceUSD\",\"orientation\":\"v\",\"showlegend\":true,\"x\":[\"2021-05-04T03:00:00\",\"2021-05-05T03:00:00\",\"2021-05-06T03:00:00\",\"2021-05-07T03:00:00\",\"2021-05-08T03:00:00\",\"2021-05-09T03:00:00\",\"2021-05-10T03:00:00\",\"2021-05-11T03:00:00\",\"2021-05-12T03:00:00\",\"2021-05-13T03:00:00\",\"2021-05-14T03:00:00\",\"2021-05-15T03:00:00\",\"2021-05-16T03:00:00\",\"2021-05-17T03:00:00\",\"2021-05-18T03:00:00\",\"2021-05-19T03:00:00\",\"2021-05-20T03:00:00\",\"2021-05-21T03:00:00\",\"2021-05-22T03:00:00\",\"2021-05-23T03:00:00\",\"2021-05-24T03:00:00\",\"2021-05-25T03:00:00\",\"2021-05-26T03:00:00\",\"2021-05-27T03:00:00\",\"2021-05-28T03:00:00\",\"2021-05-29T03:00:00\",\"2021-05-30T03:00:00\",\"2021-05-31T03:00:00\",\"2021-06-01T03:00:00\",\"2021-06-02T03:00:00\",\"2021-06-03T03:00:00\",\"2021-06-04T03:00:00\",\"2021-06-05T03:00:00\",\"2021-06-06T03:00:00\",\"2021-06-07T03:00:00\",\"2021-06-08T03:00:00\",\"2021-06-09T03:00:00\",\"2021-06-10T03:00:00\",\"2021-06-11T03:00:00\",\"2021-06-12T03:00:00\",\"2021-06-13T03:00:00\",\"2021-06-14T03:00:00\",\"2021-06-15T03:00:00\",\"2021-06-16T03:00:00\",\"2021-06-17T03:00:00\",\"2021-06-18T03:00:00\",\"2021-06-19T03:00:00\",\"2021-06-20T03:00:00\",\"2021-06-21T03:00:00\",\"2021-06-22T03:00:00\",\"2021-06-23T03:00:00\",\"2021-06-24T03:00:00\",\"2021-06-25T03:00:00\",\"2021-06-26T03:00:00\",\"2021-06-27T03:00:00\",\"2021-06-28T03:00:00\",\"2021-06-29T03:00:00\",\"2021-06-30T03:00:00\",\"2021-07-01T03:00:00\",\"2021-07-02T03:00:00\",\"2021-07-03T03:00:00\",\"2021-07-04T03:00:00\",\"2021-07-05T03:00:00\",\"2021-07-06T03:00:00\",\"2021-07-07T03:00:00\",\"2021-07-08T03:00:00\",\"2021-07-09T03:00:00\",\"2021-07-10T03:00:00\",\"2021-07-11T03:00:00\",\"2021-07-12T03:00:00\",\"2021-07-13T03:00:00\",\"2021-07-14T03:00:00\",\"2021-07-15T03:00:00\",\"2021-07-16T03:00:00\",\"2021-07-17T03:00:00\",\"2021-07-18T03:00:00\",\"2021-07-19T03:00:00\",\"2021-07-20T03:00:00\",\"2021-07-21T03:00:00\",\"2021-07-22T03:00:00\",\"2021-07-23T03:00:00\",\"2021-07-24T03:00:00\",\"2021-07-25T03:00:00\",\"2021-07-26T03:00:00\",\"2021-07-27T03:00:00\",\"2021-07-28T03:00:00\",\"2021-07-29T03:00:00\",\"2021-07-30T03:00:00\",\"2021-07-31T03:00:00\",\"2021-08-01T03:00:00\",\"2021-08-02T03:00:00\",\"2021-08-03T03:00:00\",\"2021-08-04T03:00:00\",\"2021-08-05T03:00:00\",\"2021-08-06T03:00:00\",\"2021-08-07T03:00:00\",\"2021-08-08T03:00:00\",\"2021-08-09T03:00:00\",\"2021-08-10T03:00:00\",\"2021-08-11T03:00:00\"],\"xaxis\":\"x\",\"y\":[0.0,42.12956237680189,40.045211085551784,39.66533204379281,40.57203107661687,39.337885353769856,36.6099653458366,38.637054770429486,35.64898762015303,37.091186949114444,40.24515304389808,36.427722670107464,36.56755915662297,33.36687040833797,35.13273558352517,23.96953984112724,26.284798772735506,21.477848749035836,20.59083688464217,16.931947974015785,24.739449156158162,25.181691169187193,29.133996034966565,28.58031589170433,25.837269056658982,23.138623254714297,25.78388738760756,28.363346732877268,27.541057785847194,27.70047435398551,28.70102922454128,26.54443502284496,25.618208894244766,25.719552663347113,24.179854782891905,23.49570858675709,25.049363850693446,23.65066718376522,21.853795636638047,21.365954084032296,23.19422624305624,23.987338700828488,23.56745271841024,21.66678646887283,22.086363826941177,20.380742373509833,19.91729942472021,20.73726671574279,15.86585262859659,16.298586368642617,17.727639971485203,18.064631923869534,15.993335140414478,16.15766037064551,17.03652727410082,17.63037348785081,18.551895631239173,19.20419006867015,17.92267993285747,18.17337343016526,19.411017386339708,20.868729200583864,20.12638889122928,22.286263326069143,22.34035831660461,20.33820537151512,21.14543848490472,20.250538111217598,20.61868975435153,19.576784380565787,18.414770819111656,17.866010333087697,16.968739969644506,16.358059477106522,16.14710957871524,16.345145739993946,15.777853049505024,14.618659255659967,16.687409322715414,17.48387908009196,18.584889359206976,18.287076488444043,18.185166012695074,18.60517913014795,18.79350216446964,18.955127807203215,19.573308130719973,21.045594270585763,21.889716102986213,22.045277393381095,22.463652708900877,21.29988839001241,23.46435247796606,25.339862107278087,26.196394238167166,28.35502256045629,26.641418397125523,28.542030406741315,28.911788735782736,29.044931016479147],\"yaxis\":\"y\",\"type\":\"scatter\"}],                        {\"template\":{\"data\":{\"histogram2dcontour\":[{\"type\":\"histogram2dcontour\",\"colorbar\":{\"outlinewidth\":0,\"ticks\":\"\"},\"colorscale\":[[0.0,\"#0d0887\"],[0.1111111111111111,\"#46039f\"],[0.2222222222222222,\"#7201a8\"],[0.3333333333333333,\"#9c179e\"],[0.4444444444444444,\"#bd3786\"],[0.5555555555555556,\"#d8576b\"],[0.6666666666666666,\"#ed7953\"],[0.7777777777777778,\"#fb9f3a\"],[0.8888888888888888,\"#fdca26\"],[1.0,\"#f0f921\"]]}],\"choropleth\":[{\"type\":\"choropleth\",\"colorbar\":{\"outlinewidth\":0,\"ticks\":\"\"}}],\"histogram2d\":[{\"type\":\"histogram2d\",\"colorbar\":{\"outlinewidth\":0,\"ticks\":\"\"},\"colorscale\":[[0.0,\"#0d0887\"],[0.1111111111111111,\"#46039f\"],[0.2222222222222222,\"#7201a8\"],[0.3333333333333333,\"#9c179e\"],[0.4444444444444444,\"#bd3786\"],[0.5555555555555556,\"#d8576b\"],[0.6666666666666666,\"#ed7953\"],[0.7777777777777778,\"#fb9f3a\"],[0.8888888888888888,\"#fdca26\"],[1.0,\"#f0f921\"]]}],\"heatmap\":[{\"type\":\"heatmap\",\"colorbar\":{\"outlinewidth\":0,\"ticks\":\"\"},\"colorscale\":[[0.0,\"#0d0887\"],[0.1111111111111111,\"#46039f\"],[0.2222222222222222,\"#7201a8\"],[0.3333333333333333,\"#9c179e\"],[0.4444444444444444,\"#bd3786\"],[0.5555555555555556,\"#d8576b\"],[0.6666666666666666,\"#ed7953\"],[0.7777777777777778,\"#fb9f3a\"],[0.8888888888888888,\"#fdca26\"],[1.0,\"#f0f921\"]]}],\"heatmapgl\":[{\"type\":\"heatmapgl\",\"colorbar\":{\"outlinewidth\":0,\"ticks\":\"\"},\"colorscale\":[[0.0,\"#0d0887\"],[0.1111111111111111,\"#46039f\"],[0.2222222222222222,\"#7201a8\"],[0.3333333333333333,\"#9c179e\"],[0.4444444444444444,\"#bd3786\"],[0.5555555555555556,\"#d8576b\"],[0.6666666666666666,\"#ed7953\"],[0.7777777777777778,\"#fb9f3a\"],[0.8888888888888888,\"#fdca26\"],[1.0,\"#f0f921\"]]}],\"contourcarpet\":[{\"type\":\"contourcarpet\",\"colorbar\":{\"outlinewidth\":0,\"ticks\":\"\"}}],\"contour\":[{\"type\":\"contour\",\"colorbar\":{\"outlinewidth\":0,\"ticks\":\"\"},\"colorscale\":[[0.0,\"#0d0887\"],[0.1111111111111111,\"#46039f\"],[0.2222222222222222,\"#7201a8\"],[0.3333333333333333,\"#9c179e\"],[0.4444444444444444,\"#bd3786\"],[0.5555555555555556,\"#d8576b\"],[0.6666666666666666,\"#ed7953\"],[0.7777777777777778,\"#fb9f3a\"],[0.8888888888888888,\"#fdca26\"],[1.0,\"#f0f921\"]]}],\"surface\":[{\"type\":\"surface\",\"colorbar\":{\"outlinewidth\":0,\"ticks\":\"\"},\"colorscale\":[[0.0,\"#0d0887\"],[0.1111111111111111,\"#46039f\"],[0.2222222222222222,\"#7201a8\"],[0.3333333333333333,\"#9c179e\"],[0.4444444444444444,\"#bd3786\"],[0.5555555555555556,\"#d8576b\"],[0.6666666666666666,\"#ed7953\"],[0.7777777777777778,\"#fb9f3a\"],[0.8888888888888888,\"#fdca26\"],[1.0,\"#f0f921\"]]}],\"mesh3d\":[{\"type\":\"mesh3d\",\"colorbar\":{\"outlinewidth\":0,\"ticks\":\"\"}}],\"scatter\":[{\"fillpattern\":{\"fillmode\":\"overlay\",\"size\":10,\"solidity\":0.2},\"type\":\"scatter\"}],\"parcoords\":[{\"type\":\"parcoords\",\"line\":{\"colorbar\":{\"outlinewidth\":0,\"ticks\":\"\"}}}],\"scatterpolargl\":[{\"type\":\"scatterpolargl\",\"marker\":{\"colorbar\":{\"outlinewidth\":0,\"ticks\":\"\"}}}],\"bar\":[{\"error_x\":{\"color\":\"#2a3f5f\"},\"error_y\":{\"color\":\"#2a3f5f\"},\"marker\":{\"line\":{\"color\":\"#E5ECF6\",\"width\":0.5},\"pattern\":{\"fillmode\":\"overlay\",\"size\":10,\"solidity\":0.2}},\"type\":\"bar\"}],\"scattergeo\":[{\"type\":\"scattergeo\",\"marker\":{\"colorbar\":{\"outlinewidth\":0,\"ticks\":\"\"}}}],\"scatterpolar\":[{\"type\":\"scatterpolar\",\"marker\":{\"colorbar\":{\"outlinewidth\":0,\"ticks\":\"\"}}}],\"histogram\":[{\"marker\":{\"pattern\":{\"fillmode\":\"overlay\",\"size\":10,\"solidity\":0.2}},\"type\":\"histogram\"}],\"scattergl\":[{\"type\":\"scattergl\",\"marker\":{\"colorbar\":{\"outlinewidth\":0,\"ticks\":\"\"}}}],\"scatter3d\":[{\"type\":\"scatter3d\",\"line\":{\"colorbar\":{\"outlinewidth\":0,\"ticks\":\"\"}},\"marker\":{\"colorbar\":{\"outlinewidth\":0,\"ticks\":\"\"}}}],\"scattermapbox\":[{\"type\":\"scattermapbox\",\"marker\":{\"colorbar\":{\"outlinewidth\":0,\"ticks\":\"\"}}}],\"scatterternary\":[{\"type\":\"scatterternary\",\"marker\":{\"colorbar\":{\"outlinewidth\":0,\"ticks\":\"\"}}}],\"scattercarpet\":[{\"type\":\"scattercarpet\",\"marker\":{\"colorbar\":{\"outlinewidth\":0,\"ticks\":\"\"}}}],\"carpet\":[{\"aaxis\":{\"endlinecolor\":\"#2a3f5f\",\"gridcolor\":\"white\",\"linecolor\":\"white\",\"minorgridcolor\":\"white\",\"startlinecolor\":\"#2a3f5f\"},\"baxis\":{\"endlinecolor\":\"#2a3f5f\",\"gridcolor\":\"white\",\"linecolor\":\"white\",\"minorgridcolor\":\"white\",\"startlinecolor\":\"#2a3f5f\"},\"type\":\"carpet\"}],\"table\":[{\"cells\":{\"fill\":{\"color\":\"#EBF0F8\"},\"line\":{\"color\":\"white\"}},\"header\":{\"fill\":{\"color\":\"#C8D4E3\"},\"line\":{\"color\":\"white\"}},\"type\":\"table\"}],\"barpolar\":[{\"marker\":{\"line\":{\"color\":\"#E5ECF6\",\"width\":0.5},\"pattern\":{\"fillmode\":\"overlay\",\"size\":10,\"solidity\":0.2}},\"type\":\"barpolar\"}],\"pie\":[{\"automargin\":true,\"type\":\"pie\"}]},\"layout\":{\"autotypenumbers\":\"strict\",\"colorway\":[\"#636efa\",\"#EF553B\",\"#00cc96\",\"#ab63fa\",\"#FFA15A\",\"#19d3f3\",\"#FF6692\",\"#B6E880\",\"#FF97FF\",\"#FECB52\"],\"font\":{\"color\":\"#2a3f5f\"},\"hovermode\":\"closest\",\"hoverlabel\":{\"align\":\"left\"},\"paper_bgcolor\":\"white\",\"plot_bgcolor\":\"#E5ECF6\",\"polar\":{\"bgcolor\":\"#E5ECF6\",\"angularaxis\":{\"gridcolor\":\"white\",\"linecolor\":\"white\",\"ticks\":\"\"},\"radialaxis\":{\"gridcolor\":\"white\",\"linecolor\":\"white\",\"ticks\":\"\"}},\"ternary\":{\"bgcolor\":\"#E5ECF6\",\"aaxis\":{\"gridcolor\":\"white\",\"linecolor\":\"white\",\"ticks\":\"\"},\"baxis\":{\"gridcolor\":\"white\",\"linecolor\":\"white\",\"ticks\":\"\"},\"caxis\":{\"gridcolor\":\"white\",\"linecolor\":\"white\",\"ticks\":\"\"}},\"coloraxis\":{\"colorbar\":{\"outlinewidth\":0,\"ticks\":\"\"}},\"colorscale\":{\"sequential\":[[0.0,\"#0d0887\"],[0.1111111111111111,\"#46039f\"],[0.2222222222222222,\"#7201a8\"],[0.3333333333333333,\"#9c179e\"],[0.4444444444444444,\"#bd3786\"],[0.5555555555555556,\"#d8576b\"],[0.6666666666666666,\"#ed7953\"],[0.7777777777777778,\"#fb9f3a\"],[0.8888888888888888,\"#fdca26\"],[1.0,\"#f0f921\"]],\"sequentialminus\":[[0.0,\"#0d0887\"],[0.1111111111111111,\"#46039f\"],[0.2222222222222222,\"#7201a8\"],[0.3333333333333333,\"#9c179e\"],[0.4444444444444444,\"#bd3786\"],[0.5555555555555556,\"#d8576b\"],[0.6666666666666666,\"#ed7953\"],[0.7777777777777778,\"#fb9f3a\"],[0.8888888888888888,\"#fdca26\"],[1.0,\"#f0f921\"]],\"diverging\":[[0,\"#8e0152\"],[0.1,\"#c51b7d\"],[0.2,\"#de77ae\"],[0.3,\"#f1b6da\"],[0.4,\"#fde0ef\"],[0.5,\"#f7f7f7\"],[0.6,\"#e6f5d0\"],[0.7,\"#b8e186\"],[0.8,\"#7fbc41\"],[0.9,\"#4d9221\"],[1,\"#276419\"]]},\"xaxis\":{\"gridcolor\":\"white\",\"linecolor\":\"white\",\"ticks\":\"\",\"title\":{\"standoff\":15},\"zerolinecolor\":\"white\",\"automargin\":true,\"zerolinewidth\":2},\"yaxis\":{\"gridcolor\":\"white\",\"linecolor\":\"white\",\"ticks\":\"\",\"title\":{\"standoff\":15},\"zerolinecolor\":\"white\",\"automargin\":true,\"zerolinewidth\":2},\"scene\":{\"xaxis\":{\"backgroundcolor\":\"#E5ECF6\",\"gridcolor\":\"white\",\"linecolor\":\"white\",\"showbackground\":true,\"ticks\":\"\",\"zerolinecolor\":\"white\",\"gridwidth\":2},\"yaxis\":{\"backgroundcolor\":\"#E5ECF6\",\"gridcolor\":\"white\",\"linecolor\":\"white\",\"showbackground\":true,\"ticks\":\"\",\"zerolinecolor\":\"white\",\"gridwidth\":2},\"zaxis\":{\"backgroundcolor\":\"#E5ECF6\",\"gridcolor\":\"white\",\"linecolor\":\"white\",\"showbackground\":true,\"ticks\":\"\",\"zerolinecolor\":\"white\",\"gridwidth\":2}},\"shapedefaults\":{\"line\":{\"color\":\"#2a3f5f\"}},\"annotationdefaults\":{\"arrowcolor\":\"#2a3f5f\",\"arrowhead\":0,\"arrowwidth\":1},\"geo\":{\"bgcolor\":\"white\",\"landcolor\":\"#E5ECF6\",\"subunitcolor\":\"white\",\"showland\":true,\"showlakes\":true,\"lakecolor\":\"white\"},\"title\":{\"x\":0.05},\"mapbox\":{\"style\":\"light\"}}},\"xaxis\":{\"anchor\":\"y\",\"domain\":[0.0,1.0],\"title\":{\"text\":\"date\"}},\"yaxis\":{\"anchor\":\"x\",\"domain\":[0.0,1.0],\"title\":{\"text\":\"value\"}},\"legend\":{\"title\":{\"text\":\"variable\"},\"tracegroupgap\":0},\"title\":{\"text\":\"UNI token price USD\"}},                        {\"responsive\": true}                    ).then(function(){\n",
       "                            \n",
       "var gd = document.getElementById('723ee703-b80d-40ed-8c14-b368d99886d9');\n",
       "var x = new MutationObserver(function (mutations, observer) {{\n",
       "        var display = window.getComputedStyle(gd).display;\n",
       "        if (!display || display === 'none') {{\n",
       "            console.log([gd, 'removed!']);\n",
       "            Plotly.purge(gd);\n",
       "            observer.disconnect();\n",
       "        }}\n",
       "}});\n",
       "\n",
       "// Listen for the removal of the full notebook cells\n",
       "var notebookContainer = gd.closest('#notebook-container');\n",
       "if (notebookContainer) {{\n",
       "    x.observe(notebookContainer, {childList: true});\n",
       "}}\n",
       "\n",
       "// Listen for the clearing of the current output cell\n",
       "var outputEl = gd.closest('.output');\n",
       "if (outputEl) {{\n",
       "    x.observe(outputEl, {childList: true});\n",
       "}}\n",
       "\n",
       "                        })                };                });            </script>        </div>"
      ]
     },
     "metadata": {},
     "output_type": "display_data"
    }
   ],
   "source": [
    "df_token['priceUSD'] = df_token['priceUSD'].astype(float)\n",
    "px.line(df_token.sort_values('date'), x = 'date', y = ['priceUSD'], title=\"UNI token price USD\")"
   ]
  },
  {
   "cell_type": "code",
   "execution_count": 95,
   "metadata": {},
   "outputs": [
    {
     "data": {
      "application/vnd.plotly.v1+json": {
       "config": {
        "plotlyServerURL": "https://plot.ly"
       },
       "data": [
        {
         "hovertemplate": "variable=volumeUSD<br>date=%{x}<br>value=%{y}<extra></extra>",
         "legendgroup": "volumeUSD",
         "line": {
          "color": "#636efa",
          "dash": "solid"
         },
         "marker": {
          "symbol": "circle"
         },
         "mode": "lines",
         "name": "volumeUSD",
         "orientation": "v",
         "showlegend": true,
         "type": "scatter",
         "x": [
          "2021-05-04T03:00:00",
          "2021-05-05T03:00:00",
          "2021-05-06T03:00:00",
          "2021-05-07T03:00:00",
          "2021-05-08T03:00:00",
          "2021-05-09T03:00:00",
          "2021-05-10T03:00:00",
          "2021-05-11T03:00:00",
          "2021-05-12T03:00:00",
          "2021-05-13T03:00:00",
          "2021-05-14T03:00:00",
          "2021-05-15T03:00:00",
          "2021-05-16T03:00:00",
          "2021-05-17T03:00:00",
          "2021-05-18T03:00:00",
          "2021-05-19T03:00:00",
          "2021-05-20T03:00:00",
          "2021-05-21T03:00:00",
          "2021-05-22T03:00:00",
          "2021-05-23T03:00:00",
          "2021-05-24T03:00:00",
          "2021-05-25T03:00:00",
          "2021-05-26T03:00:00",
          "2021-05-27T03:00:00",
          "2021-05-28T03:00:00",
          "2021-05-29T03:00:00",
          "2021-05-30T03:00:00",
          "2021-05-31T03:00:00",
          "2021-06-01T03:00:00",
          "2021-06-02T03:00:00",
          "2021-06-03T03:00:00",
          "2021-06-04T03:00:00",
          "2021-06-05T03:00:00",
          "2021-06-06T03:00:00",
          "2021-06-07T03:00:00",
          "2021-06-08T03:00:00",
          "2021-06-09T03:00:00",
          "2021-06-10T03:00:00",
          "2021-06-11T03:00:00",
          "2021-06-12T03:00:00",
          "2021-06-13T03:00:00",
          "2021-06-14T03:00:00",
          "2021-06-15T03:00:00",
          "2021-06-16T03:00:00",
          "2021-06-17T03:00:00",
          "2021-06-18T03:00:00",
          "2021-06-19T03:00:00",
          "2021-06-20T03:00:00",
          "2021-06-21T03:00:00",
          "2021-06-22T03:00:00",
          "2021-06-23T03:00:00",
          "2021-06-24T03:00:00",
          "2021-06-25T03:00:00",
          "2021-06-26T03:00:00",
          "2021-06-27T03:00:00",
          "2021-06-28T03:00:00",
          "2021-06-29T03:00:00",
          "2021-06-30T03:00:00",
          "2021-07-01T03:00:00",
          "2021-07-02T03:00:00",
          "2021-07-03T03:00:00",
          "2021-07-04T03:00:00",
          "2021-07-05T03:00:00",
          "2021-07-06T03:00:00",
          "2021-07-07T03:00:00",
          "2021-07-08T03:00:00",
          "2021-07-09T03:00:00",
          "2021-07-10T03:00:00",
          "2021-07-11T03:00:00",
          "2021-07-12T03:00:00",
          "2021-07-13T03:00:00",
          "2021-07-14T03:00:00",
          "2021-07-15T03:00:00",
          "2021-07-16T03:00:00",
          "2021-07-17T03:00:00",
          "2021-07-18T03:00:00",
          "2021-07-19T03:00:00",
          "2021-07-20T03:00:00",
          "2021-07-21T03:00:00",
          "2021-07-22T03:00:00",
          "2021-07-23T03:00:00",
          "2021-07-24T03:00:00",
          "2021-07-25T03:00:00",
          "2021-07-26T03:00:00",
          "2021-07-27T03:00:00",
          "2021-07-28T03:00:00",
          "2021-07-29T03:00:00",
          "2021-07-30T03:00:00",
          "2021-07-31T03:00:00",
          "2021-08-01T03:00:00",
          "2021-08-02T03:00:00",
          "2021-08-03T03:00:00",
          "2021-08-04T03:00:00",
          "2021-08-05T03:00:00",
          "2021-08-06T03:00:00",
          "2021-08-07T03:00:00",
          "2021-08-08T03:00:00",
          "2021-08-09T03:00:00",
          "2021-08-10T03:00:00",
          "2021-08-11T03:00:00"
         ],
         "xaxis": "x",
         "y": [
          0,
          16937182.154839437,
          209792599.3253493,
          351587666.85455525,
          611251973.1162353,
          464396482.5397502,
          788345423.204635,
          628815232.5740358,
          1185948395.173485,
          1535201935.176622,
          820163744.3798683,
          834932523.0214449,
          1142729897.745995,
          1435847105.6000009,
          1208124293.6622465,
          2620631938.82871,
          1762314761.1010556,
          1597275168.2150087,
          1213856356.8901832,
          1897141145.4413369,
          1693797125.1385486,
          1545955864.849716,
          1462069089.620289,
          1172721265.8780608,
          1425241765.0533693,
          1349284812.1677444,
          1164099707.918968,
          1086628151.4485137,
          943454995.8474419,
          749073133.2484515,
          866172290.4273291,
          1122238132.9936152,
          798005345.9767246,
          478092901.4179029,
          879634336.4701853,
          1348066135.2426925,
          1222463482.5414572,
          879616104.5110492,
          846571768.267806,
          783476587.6008517,
          809576745.8563164,
          823253440.3606173,
          817964952.9804674,
          758842386.5197484,
          713235923.9448757,
          896280914.4742075,
          652931012.792974,
          877740149.3487825,
          1643525845.1115973,
          1357065680.457716,
          940093150.3373804,
          763487843.4614283,
          922375556.0349401,
          865726815.6055808,
          823527056.6783988,
          1054153704.1673356,
          913362896.0277952,
          1010505942.1555052,
          924741998.9719634,
          690560819.9981803,
          612187862.1637814,
          703515349.3279132,
          849551649.6514072,
          1063693253.3941365,
          766487322.3844619,
          968820031.07289,
          798924664.3725308,
          759047181.1880293,
          447451391.29727906,
          622820858.8745154,
          881274866.0090593,
          987428048.149119,
          969232631.2013743,
          734441035.5532194,
          636921813.766785,
          652400447.5922412,
          635029274.5382221,
          845536136.2197757,
          1127174816.2903163,
          915603973.5899873,
          747662479.5422829,
          715038866.385205,
          623545004.662714,
          1953222068.983361,
          1276923887.5030296,
          1226191983.0638719,
          777612090.7470958,
          1064389728.092197,
          737560577.5320761,
          1060017269.598849,
          1084713586.7470255,
          1339617281.4336782,
          1522565099.9186234,
          1672804767.7403262,
          1352187905.3351843,
          1799607570.3701527,
          1540454447.5473142,
          2153316158.4062314,
          1416214344.4288857,
          1198606100.8874905
         ],
         "yaxis": "y"
        }
       ],
       "layout": {
        "legend": {
         "title": {
          "text": "variable"
         },
         "tracegroupgap": 0
        },
        "template": {
         "data": {
          "bar": [
           {
            "error_x": {
             "color": "#2a3f5f"
            },
            "error_y": {
             "color": "#2a3f5f"
            },
            "marker": {
             "line": {
              "color": "#E5ECF6",
              "width": 0.5
             },
             "pattern": {
              "fillmode": "overlay",
              "size": 10,
              "solidity": 0.2
             }
            },
            "type": "bar"
           }
          ],
          "barpolar": [
           {
            "marker": {
             "line": {
              "color": "#E5ECF6",
              "width": 0.5
             },
             "pattern": {
              "fillmode": "overlay",
              "size": 10,
              "solidity": 0.2
             }
            },
            "type": "barpolar"
           }
          ],
          "carpet": [
           {
            "aaxis": {
             "endlinecolor": "#2a3f5f",
             "gridcolor": "white",
             "linecolor": "white",
             "minorgridcolor": "white",
             "startlinecolor": "#2a3f5f"
            },
            "baxis": {
             "endlinecolor": "#2a3f5f",
             "gridcolor": "white",
             "linecolor": "white",
             "minorgridcolor": "white",
             "startlinecolor": "#2a3f5f"
            },
            "type": "carpet"
           }
          ],
          "choropleth": [
           {
            "colorbar": {
             "outlinewidth": 0,
             "ticks": ""
            },
            "type": "choropleth"
           }
          ],
          "contour": [
           {
            "colorbar": {
             "outlinewidth": 0,
             "ticks": ""
            },
            "colorscale": [
             [
              0,
              "#0d0887"
             ],
             [
              0.1111111111111111,
              "#46039f"
             ],
             [
              0.2222222222222222,
              "#7201a8"
             ],
             [
              0.3333333333333333,
              "#9c179e"
             ],
             [
              0.4444444444444444,
              "#bd3786"
             ],
             [
              0.5555555555555556,
              "#d8576b"
             ],
             [
              0.6666666666666666,
              "#ed7953"
             ],
             [
              0.7777777777777778,
              "#fb9f3a"
             ],
             [
              0.8888888888888888,
              "#fdca26"
             ],
             [
              1,
              "#f0f921"
             ]
            ],
            "type": "contour"
           }
          ],
          "contourcarpet": [
           {
            "colorbar": {
             "outlinewidth": 0,
             "ticks": ""
            },
            "type": "contourcarpet"
           }
          ],
          "heatmap": [
           {
            "colorbar": {
             "outlinewidth": 0,
             "ticks": ""
            },
            "colorscale": [
             [
              0,
              "#0d0887"
             ],
             [
              0.1111111111111111,
              "#46039f"
             ],
             [
              0.2222222222222222,
              "#7201a8"
             ],
             [
              0.3333333333333333,
              "#9c179e"
             ],
             [
              0.4444444444444444,
              "#bd3786"
             ],
             [
              0.5555555555555556,
              "#d8576b"
             ],
             [
              0.6666666666666666,
              "#ed7953"
             ],
             [
              0.7777777777777778,
              "#fb9f3a"
             ],
             [
              0.8888888888888888,
              "#fdca26"
             ],
             [
              1,
              "#f0f921"
             ]
            ],
            "type": "heatmap"
           }
          ],
          "heatmapgl": [
           {
            "colorbar": {
             "outlinewidth": 0,
             "ticks": ""
            },
            "colorscale": [
             [
              0,
              "#0d0887"
             ],
             [
              0.1111111111111111,
              "#46039f"
             ],
             [
              0.2222222222222222,
              "#7201a8"
             ],
             [
              0.3333333333333333,
              "#9c179e"
             ],
             [
              0.4444444444444444,
              "#bd3786"
             ],
             [
              0.5555555555555556,
              "#d8576b"
             ],
             [
              0.6666666666666666,
              "#ed7953"
             ],
             [
              0.7777777777777778,
              "#fb9f3a"
             ],
             [
              0.8888888888888888,
              "#fdca26"
             ],
             [
              1,
              "#f0f921"
             ]
            ],
            "type": "heatmapgl"
           }
          ],
          "histogram": [
           {
            "marker": {
             "pattern": {
              "fillmode": "overlay",
              "size": 10,
              "solidity": 0.2
             }
            },
            "type": "histogram"
           }
          ],
          "histogram2d": [
           {
            "colorbar": {
             "outlinewidth": 0,
             "ticks": ""
            },
            "colorscale": [
             [
              0,
              "#0d0887"
             ],
             [
              0.1111111111111111,
              "#46039f"
             ],
             [
              0.2222222222222222,
              "#7201a8"
             ],
             [
              0.3333333333333333,
              "#9c179e"
             ],
             [
              0.4444444444444444,
              "#bd3786"
             ],
             [
              0.5555555555555556,
              "#d8576b"
             ],
             [
              0.6666666666666666,
              "#ed7953"
             ],
             [
              0.7777777777777778,
              "#fb9f3a"
             ],
             [
              0.8888888888888888,
              "#fdca26"
             ],
             [
              1,
              "#f0f921"
             ]
            ],
            "type": "histogram2d"
           }
          ],
          "histogram2dcontour": [
           {
            "colorbar": {
             "outlinewidth": 0,
             "ticks": ""
            },
            "colorscale": [
             [
              0,
              "#0d0887"
             ],
             [
              0.1111111111111111,
              "#46039f"
             ],
             [
              0.2222222222222222,
              "#7201a8"
             ],
             [
              0.3333333333333333,
              "#9c179e"
             ],
             [
              0.4444444444444444,
              "#bd3786"
             ],
             [
              0.5555555555555556,
              "#d8576b"
             ],
             [
              0.6666666666666666,
              "#ed7953"
             ],
             [
              0.7777777777777778,
              "#fb9f3a"
             ],
             [
              0.8888888888888888,
              "#fdca26"
             ],
             [
              1,
              "#f0f921"
             ]
            ],
            "type": "histogram2dcontour"
           }
          ],
          "mesh3d": [
           {
            "colorbar": {
             "outlinewidth": 0,
             "ticks": ""
            },
            "type": "mesh3d"
           }
          ],
          "parcoords": [
           {
            "line": {
             "colorbar": {
              "outlinewidth": 0,
              "ticks": ""
             }
            },
            "type": "parcoords"
           }
          ],
          "pie": [
           {
            "automargin": true,
            "type": "pie"
           }
          ],
          "scatter": [
           {
            "fillpattern": {
             "fillmode": "overlay",
             "size": 10,
             "solidity": 0.2
            },
            "type": "scatter"
           }
          ],
          "scatter3d": [
           {
            "line": {
             "colorbar": {
              "outlinewidth": 0,
              "ticks": ""
             }
            },
            "marker": {
             "colorbar": {
              "outlinewidth": 0,
              "ticks": ""
             }
            },
            "type": "scatter3d"
           }
          ],
          "scattercarpet": [
           {
            "marker": {
             "colorbar": {
              "outlinewidth": 0,
              "ticks": ""
             }
            },
            "type": "scattercarpet"
           }
          ],
          "scattergeo": [
           {
            "marker": {
             "colorbar": {
              "outlinewidth": 0,
              "ticks": ""
             }
            },
            "type": "scattergeo"
           }
          ],
          "scattergl": [
           {
            "marker": {
             "colorbar": {
              "outlinewidth": 0,
              "ticks": ""
             }
            },
            "type": "scattergl"
           }
          ],
          "scattermapbox": [
           {
            "marker": {
             "colorbar": {
              "outlinewidth": 0,
              "ticks": ""
             }
            },
            "type": "scattermapbox"
           }
          ],
          "scatterpolar": [
           {
            "marker": {
             "colorbar": {
              "outlinewidth": 0,
              "ticks": ""
             }
            },
            "type": "scatterpolar"
           }
          ],
          "scatterpolargl": [
           {
            "marker": {
             "colorbar": {
              "outlinewidth": 0,
              "ticks": ""
             }
            },
            "type": "scatterpolargl"
           }
          ],
          "scatterternary": [
           {
            "marker": {
             "colorbar": {
              "outlinewidth": 0,
              "ticks": ""
             }
            },
            "type": "scatterternary"
           }
          ],
          "surface": [
           {
            "colorbar": {
             "outlinewidth": 0,
             "ticks": ""
            },
            "colorscale": [
             [
              0,
              "#0d0887"
             ],
             [
              0.1111111111111111,
              "#46039f"
             ],
             [
              0.2222222222222222,
              "#7201a8"
             ],
             [
              0.3333333333333333,
              "#9c179e"
             ],
             [
              0.4444444444444444,
              "#bd3786"
             ],
             [
              0.5555555555555556,
              "#d8576b"
             ],
             [
              0.6666666666666666,
              "#ed7953"
             ],
             [
              0.7777777777777778,
              "#fb9f3a"
             ],
             [
              0.8888888888888888,
              "#fdca26"
             ],
             [
              1,
              "#f0f921"
             ]
            ],
            "type": "surface"
           }
          ],
          "table": [
           {
            "cells": {
             "fill": {
              "color": "#EBF0F8"
             },
             "line": {
              "color": "white"
             }
            },
            "header": {
             "fill": {
              "color": "#C8D4E3"
             },
             "line": {
              "color": "white"
             }
            },
            "type": "table"
           }
          ]
         },
         "layout": {
          "annotationdefaults": {
           "arrowcolor": "#2a3f5f",
           "arrowhead": 0,
           "arrowwidth": 1
          },
          "autotypenumbers": "strict",
          "coloraxis": {
           "colorbar": {
            "outlinewidth": 0,
            "ticks": ""
           }
          },
          "colorscale": {
           "diverging": [
            [
             0,
             "#8e0152"
            ],
            [
             0.1,
             "#c51b7d"
            ],
            [
             0.2,
             "#de77ae"
            ],
            [
             0.3,
             "#f1b6da"
            ],
            [
             0.4,
             "#fde0ef"
            ],
            [
             0.5,
             "#f7f7f7"
            ],
            [
             0.6,
             "#e6f5d0"
            ],
            [
             0.7,
             "#b8e186"
            ],
            [
             0.8,
             "#7fbc41"
            ],
            [
             0.9,
             "#4d9221"
            ],
            [
             1,
             "#276419"
            ]
           ],
           "sequential": [
            [
             0,
             "#0d0887"
            ],
            [
             0.1111111111111111,
             "#46039f"
            ],
            [
             0.2222222222222222,
             "#7201a8"
            ],
            [
             0.3333333333333333,
             "#9c179e"
            ],
            [
             0.4444444444444444,
             "#bd3786"
            ],
            [
             0.5555555555555556,
             "#d8576b"
            ],
            [
             0.6666666666666666,
             "#ed7953"
            ],
            [
             0.7777777777777778,
             "#fb9f3a"
            ],
            [
             0.8888888888888888,
             "#fdca26"
            ],
            [
             1,
             "#f0f921"
            ]
           ],
           "sequentialminus": [
            [
             0,
             "#0d0887"
            ],
            [
             0.1111111111111111,
             "#46039f"
            ],
            [
             0.2222222222222222,
             "#7201a8"
            ],
            [
             0.3333333333333333,
             "#9c179e"
            ],
            [
             0.4444444444444444,
             "#bd3786"
            ],
            [
             0.5555555555555556,
             "#d8576b"
            ],
            [
             0.6666666666666666,
             "#ed7953"
            ],
            [
             0.7777777777777778,
             "#fb9f3a"
            ],
            [
             0.8888888888888888,
             "#fdca26"
            ],
            [
             1,
             "#f0f921"
            ]
           ]
          },
          "colorway": [
           "#636efa",
           "#EF553B",
           "#00cc96",
           "#ab63fa",
           "#FFA15A",
           "#19d3f3",
           "#FF6692",
           "#B6E880",
           "#FF97FF",
           "#FECB52"
          ],
          "font": {
           "color": "#2a3f5f"
          },
          "geo": {
           "bgcolor": "white",
           "lakecolor": "white",
           "landcolor": "#E5ECF6",
           "showlakes": true,
           "showland": true,
           "subunitcolor": "white"
          },
          "hoverlabel": {
           "align": "left"
          },
          "hovermode": "closest",
          "mapbox": {
           "style": "light"
          },
          "paper_bgcolor": "white",
          "plot_bgcolor": "#E5ECF6",
          "polar": {
           "angularaxis": {
            "gridcolor": "white",
            "linecolor": "white",
            "ticks": ""
           },
           "bgcolor": "#E5ECF6",
           "radialaxis": {
            "gridcolor": "white",
            "linecolor": "white",
            "ticks": ""
           }
          },
          "scene": {
           "xaxis": {
            "backgroundcolor": "#E5ECF6",
            "gridcolor": "white",
            "gridwidth": 2,
            "linecolor": "white",
            "showbackground": true,
            "ticks": "",
            "zerolinecolor": "white"
           },
           "yaxis": {
            "backgroundcolor": "#E5ECF6",
            "gridcolor": "white",
            "gridwidth": 2,
            "linecolor": "white",
            "showbackground": true,
            "ticks": "",
            "zerolinecolor": "white"
           },
           "zaxis": {
            "backgroundcolor": "#E5ECF6",
            "gridcolor": "white",
            "gridwidth": 2,
            "linecolor": "white",
            "showbackground": true,
            "ticks": "",
            "zerolinecolor": "white"
           }
          },
          "shapedefaults": {
           "line": {
            "color": "#2a3f5f"
           }
          },
          "ternary": {
           "aaxis": {
            "gridcolor": "white",
            "linecolor": "white",
            "ticks": ""
           },
           "baxis": {
            "gridcolor": "white",
            "linecolor": "white",
            "ticks": ""
           },
           "bgcolor": "#E5ECF6",
           "caxis": {
            "gridcolor": "white",
            "linecolor": "white",
            "ticks": ""
           }
          },
          "title": {
           "x": 0.05
          },
          "xaxis": {
           "automargin": true,
           "gridcolor": "white",
           "linecolor": "white",
           "ticks": "",
           "title": {
            "standoff": 15
           },
           "zerolinecolor": "white",
           "zerolinewidth": 2
          },
          "yaxis": {
           "automargin": true,
           "gridcolor": "white",
           "linecolor": "white",
           "ticks": "",
           "title": {
            "standoff": 15
           },
           "zerolinecolor": "white",
           "zerolinewidth": 2
          }
         }
        },
        "title": {
         "text": "UNISWAP-V3 Volume USD"
        },
        "xaxis": {
         "anchor": "y",
         "domain": [
          0,
          1
         ],
         "title": {
          "text": "date"
         }
        },
        "yaxis": {
         "anchor": "x",
         "domain": [
          0,
          1
         ],
         "title": {
          "text": "value"
         }
        }
       }
      },
      "text/html": [
       "<div>                            <div id=\"ac72cc6b-34c0-4d87-b38a-485bcf615fbd\" class=\"plotly-graph-div\" style=\"height:525px; width:100%;\"></div>            <script type=\"text/javascript\">                require([\"plotly\"], function(Plotly) {                    window.PLOTLYENV=window.PLOTLYENV || {};                                    if (document.getElementById(\"ac72cc6b-34c0-4d87-b38a-485bcf615fbd\")) {                    Plotly.newPlot(                        \"ac72cc6b-34c0-4d87-b38a-485bcf615fbd\",                        [{\"hovertemplate\":\"variable=volumeUSD<br>date=%{x}<br>value=%{y}<extra></extra>\",\"legendgroup\":\"volumeUSD\",\"line\":{\"color\":\"#636efa\",\"dash\":\"solid\"},\"marker\":{\"symbol\":\"circle\"},\"mode\":\"lines\",\"name\":\"volumeUSD\",\"orientation\":\"v\",\"showlegend\":true,\"x\":[\"2021-05-04T03:00:00\",\"2021-05-05T03:00:00\",\"2021-05-06T03:00:00\",\"2021-05-07T03:00:00\",\"2021-05-08T03:00:00\",\"2021-05-09T03:00:00\",\"2021-05-10T03:00:00\",\"2021-05-11T03:00:00\",\"2021-05-12T03:00:00\",\"2021-05-13T03:00:00\",\"2021-05-14T03:00:00\",\"2021-05-15T03:00:00\",\"2021-05-16T03:00:00\",\"2021-05-17T03:00:00\",\"2021-05-18T03:00:00\",\"2021-05-19T03:00:00\",\"2021-05-20T03:00:00\",\"2021-05-21T03:00:00\",\"2021-05-22T03:00:00\",\"2021-05-23T03:00:00\",\"2021-05-24T03:00:00\",\"2021-05-25T03:00:00\",\"2021-05-26T03:00:00\",\"2021-05-27T03:00:00\",\"2021-05-28T03:00:00\",\"2021-05-29T03:00:00\",\"2021-05-30T03:00:00\",\"2021-05-31T03:00:00\",\"2021-06-01T03:00:00\",\"2021-06-02T03:00:00\",\"2021-06-03T03:00:00\",\"2021-06-04T03:00:00\",\"2021-06-05T03:00:00\",\"2021-06-06T03:00:00\",\"2021-06-07T03:00:00\",\"2021-06-08T03:00:00\",\"2021-06-09T03:00:00\",\"2021-06-10T03:00:00\",\"2021-06-11T03:00:00\",\"2021-06-12T03:00:00\",\"2021-06-13T03:00:00\",\"2021-06-14T03:00:00\",\"2021-06-15T03:00:00\",\"2021-06-16T03:00:00\",\"2021-06-17T03:00:00\",\"2021-06-18T03:00:00\",\"2021-06-19T03:00:00\",\"2021-06-20T03:00:00\",\"2021-06-21T03:00:00\",\"2021-06-22T03:00:00\",\"2021-06-23T03:00:00\",\"2021-06-24T03:00:00\",\"2021-06-25T03:00:00\",\"2021-06-26T03:00:00\",\"2021-06-27T03:00:00\",\"2021-06-28T03:00:00\",\"2021-06-29T03:00:00\",\"2021-06-30T03:00:00\",\"2021-07-01T03:00:00\",\"2021-07-02T03:00:00\",\"2021-07-03T03:00:00\",\"2021-07-04T03:00:00\",\"2021-07-05T03:00:00\",\"2021-07-06T03:00:00\",\"2021-07-07T03:00:00\",\"2021-07-08T03:00:00\",\"2021-07-09T03:00:00\",\"2021-07-10T03:00:00\",\"2021-07-11T03:00:00\",\"2021-07-12T03:00:00\",\"2021-07-13T03:00:00\",\"2021-07-14T03:00:00\",\"2021-07-15T03:00:00\",\"2021-07-16T03:00:00\",\"2021-07-17T03:00:00\",\"2021-07-18T03:00:00\",\"2021-07-19T03:00:00\",\"2021-07-20T03:00:00\",\"2021-07-21T03:00:00\",\"2021-07-22T03:00:00\",\"2021-07-23T03:00:00\",\"2021-07-24T03:00:00\",\"2021-07-25T03:00:00\",\"2021-07-26T03:00:00\",\"2021-07-27T03:00:00\",\"2021-07-28T03:00:00\",\"2021-07-29T03:00:00\",\"2021-07-30T03:00:00\",\"2021-07-31T03:00:00\",\"2021-08-01T03:00:00\",\"2021-08-02T03:00:00\",\"2021-08-03T03:00:00\",\"2021-08-04T03:00:00\",\"2021-08-05T03:00:00\",\"2021-08-06T03:00:00\",\"2021-08-07T03:00:00\",\"2021-08-08T03:00:00\",\"2021-08-09T03:00:00\",\"2021-08-10T03:00:00\",\"2021-08-11T03:00:00\"],\"xaxis\":\"x\",\"y\":[0.0,16937182.154839437,209792599.3253493,351587666.85455525,611251973.1162353,464396482.5397502,788345423.204635,628815232.5740358,1185948395.173485,1535201935.176622,820163744.3798683,834932523.0214449,1142729897.745995,1435847105.6000009,1208124293.6622465,2620631938.82871,1762314761.1010556,1597275168.2150087,1213856356.8901832,1897141145.4413369,1693797125.1385486,1545955864.849716,1462069089.620289,1172721265.8780608,1425241765.0533693,1349284812.1677444,1164099707.918968,1086628151.4485137,943454995.8474419,749073133.2484515,866172290.4273291,1122238132.9936152,798005345.9767246,478092901.4179029,879634336.4701853,1348066135.2426925,1222463482.5414572,879616104.5110492,846571768.267806,783476587.6008517,809576745.8563164,823253440.3606173,817964952.9804674,758842386.5197484,713235923.9448757,896280914.4742075,652931012.792974,877740149.3487825,1643525845.1115973,1357065680.457716,940093150.3373804,763487843.4614283,922375556.0349401,865726815.6055808,823527056.6783988,1054153704.1673356,913362896.0277952,1010505942.1555052,924741998.9719634,690560819.9981803,612187862.1637814,703515349.3279132,849551649.6514072,1063693253.3941365,766487322.3844619,968820031.07289,798924664.3725308,759047181.1880293,447451391.29727906,622820858.8745154,881274866.0090593,987428048.149119,969232631.2013743,734441035.5532194,636921813.766785,652400447.5922412,635029274.5382221,845536136.2197757,1127174816.2903163,915603973.5899873,747662479.5422829,715038866.385205,623545004.662714,1953222068.983361,1276923887.5030296,1226191983.0638719,777612090.7470958,1064389728.092197,737560577.5320761,1060017269.598849,1084713586.7470255,1339617281.4336782,1522565099.9186234,1672804767.7403262,1352187905.3351843,1799607570.3701527,1540454447.5473142,2153316158.4062314,1416214344.4288857,1198606100.8874905],\"yaxis\":\"y\",\"type\":\"scatter\"}],                        {\"template\":{\"data\":{\"histogram2dcontour\":[{\"type\":\"histogram2dcontour\",\"colorbar\":{\"outlinewidth\":0,\"ticks\":\"\"},\"colorscale\":[[0.0,\"#0d0887\"],[0.1111111111111111,\"#46039f\"],[0.2222222222222222,\"#7201a8\"],[0.3333333333333333,\"#9c179e\"],[0.4444444444444444,\"#bd3786\"],[0.5555555555555556,\"#d8576b\"],[0.6666666666666666,\"#ed7953\"],[0.7777777777777778,\"#fb9f3a\"],[0.8888888888888888,\"#fdca26\"],[1.0,\"#f0f921\"]]}],\"choropleth\":[{\"type\":\"choropleth\",\"colorbar\":{\"outlinewidth\":0,\"ticks\":\"\"}}],\"histogram2d\":[{\"type\":\"histogram2d\",\"colorbar\":{\"outlinewidth\":0,\"ticks\":\"\"},\"colorscale\":[[0.0,\"#0d0887\"],[0.1111111111111111,\"#46039f\"],[0.2222222222222222,\"#7201a8\"],[0.3333333333333333,\"#9c179e\"],[0.4444444444444444,\"#bd3786\"],[0.5555555555555556,\"#d8576b\"],[0.6666666666666666,\"#ed7953\"],[0.7777777777777778,\"#fb9f3a\"],[0.8888888888888888,\"#fdca26\"],[1.0,\"#f0f921\"]]}],\"heatmap\":[{\"type\":\"heatmap\",\"colorbar\":{\"outlinewidth\":0,\"ticks\":\"\"},\"colorscale\":[[0.0,\"#0d0887\"],[0.1111111111111111,\"#46039f\"],[0.2222222222222222,\"#7201a8\"],[0.3333333333333333,\"#9c179e\"],[0.4444444444444444,\"#bd3786\"],[0.5555555555555556,\"#d8576b\"],[0.6666666666666666,\"#ed7953\"],[0.7777777777777778,\"#fb9f3a\"],[0.8888888888888888,\"#fdca26\"],[1.0,\"#f0f921\"]]}],\"heatmapgl\":[{\"type\":\"heatmapgl\",\"colorbar\":{\"outlinewidth\":0,\"ticks\":\"\"},\"colorscale\":[[0.0,\"#0d0887\"],[0.1111111111111111,\"#46039f\"],[0.2222222222222222,\"#7201a8\"],[0.3333333333333333,\"#9c179e\"],[0.4444444444444444,\"#bd3786\"],[0.5555555555555556,\"#d8576b\"],[0.6666666666666666,\"#ed7953\"],[0.7777777777777778,\"#fb9f3a\"],[0.8888888888888888,\"#fdca26\"],[1.0,\"#f0f921\"]]}],\"contourcarpet\":[{\"type\":\"contourcarpet\",\"colorbar\":{\"outlinewidth\":0,\"ticks\":\"\"}}],\"contour\":[{\"type\":\"contour\",\"colorbar\":{\"outlinewidth\":0,\"ticks\":\"\"},\"colorscale\":[[0.0,\"#0d0887\"],[0.1111111111111111,\"#46039f\"],[0.2222222222222222,\"#7201a8\"],[0.3333333333333333,\"#9c179e\"],[0.4444444444444444,\"#bd3786\"],[0.5555555555555556,\"#d8576b\"],[0.6666666666666666,\"#ed7953\"],[0.7777777777777778,\"#fb9f3a\"],[0.8888888888888888,\"#fdca26\"],[1.0,\"#f0f921\"]]}],\"surface\":[{\"type\":\"surface\",\"colorbar\":{\"outlinewidth\":0,\"ticks\":\"\"},\"colorscale\":[[0.0,\"#0d0887\"],[0.1111111111111111,\"#46039f\"],[0.2222222222222222,\"#7201a8\"],[0.3333333333333333,\"#9c179e\"],[0.4444444444444444,\"#bd3786\"],[0.5555555555555556,\"#d8576b\"],[0.6666666666666666,\"#ed7953\"],[0.7777777777777778,\"#fb9f3a\"],[0.8888888888888888,\"#fdca26\"],[1.0,\"#f0f921\"]]}],\"mesh3d\":[{\"type\":\"mesh3d\",\"colorbar\":{\"outlinewidth\":0,\"ticks\":\"\"}}],\"scatter\":[{\"fillpattern\":{\"fillmode\":\"overlay\",\"size\":10,\"solidity\":0.2},\"type\":\"scatter\"}],\"parcoords\":[{\"type\":\"parcoords\",\"line\":{\"colorbar\":{\"outlinewidth\":0,\"ticks\":\"\"}}}],\"scatterpolargl\":[{\"type\":\"scatterpolargl\",\"marker\":{\"colorbar\":{\"outlinewidth\":0,\"ticks\":\"\"}}}],\"bar\":[{\"error_x\":{\"color\":\"#2a3f5f\"},\"error_y\":{\"color\":\"#2a3f5f\"},\"marker\":{\"line\":{\"color\":\"#E5ECF6\",\"width\":0.5},\"pattern\":{\"fillmode\":\"overlay\",\"size\":10,\"solidity\":0.2}},\"type\":\"bar\"}],\"scattergeo\":[{\"type\":\"scattergeo\",\"marker\":{\"colorbar\":{\"outlinewidth\":0,\"ticks\":\"\"}}}],\"scatterpolar\":[{\"type\":\"scatterpolar\",\"marker\":{\"colorbar\":{\"outlinewidth\":0,\"ticks\":\"\"}}}],\"histogram\":[{\"marker\":{\"pattern\":{\"fillmode\":\"overlay\",\"size\":10,\"solidity\":0.2}},\"type\":\"histogram\"}],\"scattergl\":[{\"type\":\"scattergl\",\"marker\":{\"colorbar\":{\"outlinewidth\":0,\"ticks\":\"\"}}}],\"scatter3d\":[{\"type\":\"scatter3d\",\"line\":{\"colorbar\":{\"outlinewidth\":0,\"ticks\":\"\"}},\"marker\":{\"colorbar\":{\"outlinewidth\":0,\"ticks\":\"\"}}}],\"scattermapbox\":[{\"type\":\"scattermapbox\",\"marker\":{\"colorbar\":{\"outlinewidth\":0,\"ticks\":\"\"}}}],\"scatterternary\":[{\"type\":\"scatterternary\",\"marker\":{\"colorbar\":{\"outlinewidth\":0,\"ticks\":\"\"}}}],\"scattercarpet\":[{\"type\":\"scattercarpet\",\"marker\":{\"colorbar\":{\"outlinewidth\":0,\"ticks\":\"\"}}}],\"carpet\":[{\"aaxis\":{\"endlinecolor\":\"#2a3f5f\",\"gridcolor\":\"white\",\"linecolor\":\"white\",\"minorgridcolor\":\"white\",\"startlinecolor\":\"#2a3f5f\"},\"baxis\":{\"endlinecolor\":\"#2a3f5f\",\"gridcolor\":\"white\",\"linecolor\":\"white\",\"minorgridcolor\":\"white\",\"startlinecolor\":\"#2a3f5f\"},\"type\":\"carpet\"}],\"table\":[{\"cells\":{\"fill\":{\"color\":\"#EBF0F8\"},\"line\":{\"color\":\"white\"}},\"header\":{\"fill\":{\"color\":\"#C8D4E3\"},\"line\":{\"color\":\"white\"}},\"type\":\"table\"}],\"barpolar\":[{\"marker\":{\"line\":{\"color\":\"#E5ECF6\",\"width\":0.5},\"pattern\":{\"fillmode\":\"overlay\",\"size\":10,\"solidity\":0.2}},\"type\":\"barpolar\"}],\"pie\":[{\"automargin\":true,\"type\":\"pie\"}]},\"layout\":{\"autotypenumbers\":\"strict\",\"colorway\":[\"#636efa\",\"#EF553B\",\"#00cc96\",\"#ab63fa\",\"#FFA15A\",\"#19d3f3\",\"#FF6692\",\"#B6E880\",\"#FF97FF\",\"#FECB52\"],\"font\":{\"color\":\"#2a3f5f\"},\"hovermode\":\"closest\",\"hoverlabel\":{\"align\":\"left\"},\"paper_bgcolor\":\"white\",\"plot_bgcolor\":\"#E5ECF6\",\"polar\":{\"bgcolor\":\"#E5ECF6\",\"angularaxis\":{\"gridcolor\":\"white\",\"linecolor\":\"white\",\"ticks\":\"\"},\"radialaxis\":{\"gridcolor\":\"white\",\"linecolor\":\"white\",\"ticks\":\"\"}},\"ternary\":{\"bgcolor\":\"#E5ECF6\",\"aaxis\":{\"gridcolor\":\"white\",\"linecolor\":\"white\",\"ticks\":\"\"},\"baxis\":{\"gridcolor\":\"white\",\"linecolor\":\"white\",\"ticks\":\"\"},\"caxis\":{\"gridcolor\":\"white\",\"linecolor\":\"white\",\"ticks\":\"\"}},\"coloraxis\":{\"colorbar\":{\"outlinewidth\":0,\"ticks\":\"\"}},\"colorscale\":{\"sequential\":[[0.0,\"#0d0887\"],[0.1111111111111111,\"#46039f\"],[0.2222222222222222,\"#7201a8\"],[0.3333333333333333,\"#9c179e\"],[0.4444444444444444,\"#bd3786\"],[0.5555555555555556,\"#d8576b\"],[0.6666666666666666,\"#ed7953\"],[0.7777777777777778,\"#fb9f3a\"],[0.8888888888888888,\"#fdca26\"],[1.0,\"#f0f921\"]],\"sequentialminus\":[[0.0,\"#0d0887\"],[0.1111111111111111,\"#46039f\"],[0.2222222222222222,\"#7201a8\"],[0.3333333333333333,\"#9c179e\"],[0.4444444444444444,\"#bd3786\"],[0.5555555555555556,\"#d8576b\"],[0.6666666666666666,\"#ed7953\"],[0.7777777777777778,\"#fb9f3a\"],[0.8888888888888888,\"#fdca26\"],[1.0,\"#f0f921\"]],\"diverging\":[[0,\"#8e0152\"],[0.1,\"#c51b7d\"],[0.2,\"#de77ae\"],[0.3,\"#f1b6da\"],[0.4,\"#fde0ef\"],[0.5,\"#f7f7f7\"],[0.6,\"#e6f5d0\"],[0.7,\"#b8e186\"],[0.8,\"#7fbc41\"],[0.9,\"#4d9221\"],[1,\"#276419\"]]},\"xaxis\":{\"gridcolor\":\"white\",\"linecolor\":\"white\",\"ticks\":\"\",\"title\":{\"standoff\":15},\"zerolinecolor\":\"white\",\"automargin\":true,\"zerolinewidth\":2},\"yaxis\":{\"gridcolor\":\"white\",\"linecolor\":\"white\",\"ticks\":\"\",\"title\":{\"standoff\":15},\"zerolinecolor\":\"white\",\"automargin\":true,\"zerolinewidth\":2},\"scene\":{\"xaxis\":{\"backgroundcolor\":\"#E5ECF6\",\"gridcolor\":\"white\",\"linecolor\":\"white\",\"showbackground\":true,\"ticks\":\"\",\"zerolinecolor\":\"white\",\"gridwidth\":2},\"yaxis\":{\"backgroundcolor\":\"#E5ECF6\",\"gridcolor\":\"white\",\"linecolor\":\"white\",\"showbackground\":true,\"ticks\":\"\",\"zerolinecolor\":\"white\",\"gridwidth\":2},\"zaxis\":{\"backgroundcolor\":\"#E5ECF6\",\"gridcolor\":\"white\",\"linecolor\":\"white\",\"showbackground\":true,\"ticks\":\"\",\"zerolinecolor\":\"white\",\"gridwidth\":2}},\"shapedefaults\":{\"line\":{\"color\":\"#2a3f5f\"}},\"annotationdefaults\":{\"arrowcolor\":\"#2a3f5f\",\"arrowhead\":0,\"arrowwidth\":1},\"geo\":{\"bgcolor\":\"white\",\"landcolor\":\"#E5ECF6\",\"subunitcolor\":\"white\",\"showland\":true,\"showlakes\":true,\"lakecolor\":\"white\"},\"title\":{\"x\":0.05},\"mapbox\":{\"style\":\"light\"}}},\"xaxis\":{\"anchor\":\"y\",\"domain\":[0.0,1.0],\"title\":{\"text\":\"date\"}},\"yaxis\":{\"anchor\":\"x\",\"domain\":[0.0,1.0],\"title\":{\"text\":\"value\"}},\"legend\":{\"title\":{\"text\":\"variable\"},\"tracegroupgap\":0},\"title\":{\"text\":\"UNISWAP-V3 Volume USD\"}},                        {\"responsive\": true}                    ).then(function(){\n",
       "                            \n",
       "var gd = document.getElementById('ac72cc6b-34c0-4d87-b38a-485bcf615fbd');\n",
       "var x = new MutationObserver(function (mutations, observer) {{\n",
       "        var display = window.getComputedStyle(gd).display;\n",
       "        if (!display || display === 'none') {{\n",
       "            console.log([gd, 'removed!']);\n",
       "            Plotly.purge(gd);\n",
       "            observer.disconnect();\n",
       "        }}\n",
       "}});\n",
       "\n",
       "// Listen for the removal of the full notebook cells\n",
       "var notebookContainer = gd.closest('#notebook-container');\n",
       "if (notebookContainer) {{\n",
       "    x.observe(notebookContainer, {childList: true});\n",
       "}}\n",
       "\n",
       "// Listen for the clearing of the current output cell\n",
       "var outputEl = gd.closest('.output');\n",
       "if (outputEl) {{\n",
       "    x.observe(outputEl, {childList: true});\n",
       "}}\n",
       "\n",
       "                        })                };                });            </script>        </div>"
      ]
     },
     "metadata": {},
     "output_type": "display_data"
    }
   ],
   "source": [
    "df_uniswap['volumeUSD'] = df_uniswap['volumeUSD'].astype(float)\n",
    "px.line(df_uniswap.sort_values('date'), x = 'date', y = ['volumeUSD'], title=\"UNISWAP-V3 Volume USD\")"
   ]
  },
  {
   "cell_type": "code",
   "execution_count": 96,
   "metadata": {},
   "outputs": [
    {
     "data": {
      "application/vnd.plotly.v1+json": {
       "config": {
        "plotlyServerURL": "https://plot.ly"
       },
       "data": [
        {
         "hovertemplate": "variable=tvlUSD<br>date=%{x}<br>value=%{y}<extra></extra>",
         "legendgroup": "tvlUSD",
         "line": {
          "color": "#636efa",
          "dash": "solid"
         },
         "marker": {
          "symbol": "circle"
         },
         "mode": "lines",
         "name": "tvlUSD",
         "orientation": "v",
         "showlegend": true,
         "type": "scatter",
         "x": [
          "2021-05-04T03:00:00",
          "2021-05-05T03:00:00",
          "2021-05-06T03:00:00",
          "2021-05-07T03:00:00",
          "2021-05-08T03:00:00",
          "2021-05-09T03:00:00",
          "2021-05-10T03:00:00",
          "2021-05-11T03:00:00",
          "2021-05-12T03:00:00",
          "2021-05-13T03:00:00",
          "2021-05-14T03:00:00",
          "2021-05-15T03:00:00",
          "2021-05-16T03:00:00",
          "2021-05-17T03:00:00",
          "2021-05-18T03:00:00",
          "2021-05-19T03:00:00",
          "2021-05-20T03:00:00",
          "2021-05-21T03:00:00",
          "2021-05-22T03:00:00",
          "2021-05-23T03:00:00",
          "2021-05-24T03:00:00",
          "2021-05-25T03:00:00",
          "2021-05-26T03:00:00",
          "2021-05-27T03:00:00",
          "2021-05-28T03:00:00",
          "2021-05-29T03:00:00",
          "2021-05-30T03:00:00",
          "2021-05-31T03:00:00",
          "2021-06-01T03:00:00",
          "2021-06-02T03:00:00",
          "2021-06-03T03:00:00",
          "2021-06-04T03:00:00",
          "2021-06-05T03:00:00",
          "2021-06-06T03:00:00",
          "2021-06-07T03:00:00",
          "2021-06-08T03:00:00",
          "2021-06-09T03:00:00",
          "2021-06-10T03:00:00",
          "2021-06-11T03:00:00",
          "2021-06-12T03:00:00",
          "2021-06-13T03:00:00",
          "2021-06-14T03:00:00",
          "2021-06-15T03:00:00",
          "2021-06-16T03:00:00",
          "2021-06-17T03:00:00",
          "2021-06-18T03:00:00",
          "2021-06-19T03:00:00",
          "2021-06-20T03:00:00",
          "2021-06-21T03:00:00",
          "2021-06-22T03:00:00",
          "2021-06-23T03:00:00",
          "2021-06-24T03:00:00",
          "2021-06-25T03:00:00",
          "2021-06-26T03:00:00",
          "2021-06-27T03:00:00",
          "2021-06-28T03:00:00",
          "2021-06-29T03:00:00",
          "2021-06-30T03:00:00",
          "2021-07-01T03:00:00",
          "2021-07-02T03:00:00",
          "2021-07-03T03:00:00",
          "2021-07-04T03:00:00",
          "2021-07-05T03:00:00",
          "2021-07-06T03:00:00",
          "2021-07-07T03:00:00",
          "2021-07-08T03:00:00",
          "2021-07-09T03:00:00",
          "2021-07-10T03:00:00",
          "2021-07-11T03:00:00",
          "2021-07-12T03:00:00",
          "2021-07-13T03:00:00",
          "2021-07-14T03:00:00",
          "2021-07-15T03:00:00",
          "2021-07-16T03:00:00",
          "2021-07-17T03:00:00",
          "2021-07-18T03:00:00",
          "2021-07-19T03:00:00",
          "2021-07-20T03:00:00",
          "2021-07-21T03:00:00",
          "2021-07-22T03:00:00",
          "2021-07-23T03:00:00",
          "2021-07-24T03:00:00",
          "2021-07-25T03:00:00",
          "2021-07-26T03:00:00",
          "2021-07-27T03:00:00",
          "2021-07-28T03:00:00",
          "2021-07-29T03:00:00",
          "2021-07-30T03:00:00",
          "2021-07-31T03:00:00",
          "2021-08-01T03:00:00",
          "2021-08-02T03:00:00",
          "2021-08-03T03:00:00",
          "2021-08-04T03:00:00",
          "2021-08-05T03:00:00",
          "2021-08-06T03:00:00",
          "2021-08-07T03:00:00",
          "2021-08-08T03:00:00",
          "2021-08-09T03:00:00",
          "2021-08-10T03:00:00",
          "2021-08-11T03:00:00"
         ],
         "xaxis": "x",
         "y": [
          0,
          137393087.83917195,
          370737139.94136256,
          501602157.9472991,
          565496000.3094106,
          616952743.7559992,
          575723934.5448283,
          741137534.2628868,
          816232284.1905187,
          934242799.6768714,
          991720117.4902359,
          979236106.1429205,
          996794267.5442643,
          1024307976.7775434,
          1119338013.9955502,
          889946495.1808995,
          1087109781.244186,
          989895502.1901212,
          1004276310.3273708,
          950813175.2957507,
          1282841678.111187,
          1465561332.1877553,
          1606677749.674054,
          1587657885.7579813,
          1563896255.8528657,
          1545421594.3429139,
          1637808296.1327977,
          1809197597.7344909,
          1807516967.0017955,
          1842842475.3700602,
          1923061757.628842,
          1861892178.5770445,
          1819259746.7130854,
          1872774246.3009293,
          1720995908.0472813,
          1760032043.715366,
          1825880807.2891881,
          1787650380.667006,
          1704982799.3073895,
          1670697139.0298846,
          1796127198.5802255,
          1823108544.3471057,
          1825445049.4470713,
          1750226668.508247,
          1744966736.301019,
          1695560490.214725,
          1677689544.0104487,
          1721514399.9915087,
          1484200602.5804467,
          1495147229.3724232,
          1574087895.7863202,
          1538356671.15726,
          1471766843.5912318,
          1446109834.9920714,
          1554608023.9426055,
          1594745358.1788986,
          1674296047.5335965,
          1708111357.259485,
          1666932708.9303753,
          1706779908.2921305,
          1728196359.3357565,
          1761037779.6279314,
          1710014357.319376,
          1767505630.0515962,
          1747250187.029352,
          1672613687.8457613,
          1698857423.4434385,
          1691500559.8575141,
          1708502619.7596526,
          1665942501.73509,
          1629049533.8301325,
          1629480672.758651,
          1600395955.2929873,
          1615480003.9328926,
          1638608331.2224774,
          1643137264.3777635,
          1595901219.4664469,
          1564039792.949434,
          1687535976.951019,
          1732731443.058676,
          1805191986.3061135,
          1763845106.9157994,
          1772074306.8136382,
          1817246997.1095424,
          1854889319.557643,
          1897291447.24755,
          1944165400.82528,
          1984159089.3961449,
          1988772254.6227229,
          1963474508.7459443,
          2089837086.8196528,
          2047221188.5469198,
          2161609360.249058,
          2167029571.4058847,
          2285512924.046703,
          2396832402.7574177,
          2368448289.8930807,
          2322327257.9259143,
          2321948342.6695666,
          2365094775.9960613
         ],
         "yaxis": "y"
        }
       ],
       "layout": {
        "legend": {
         "title": {
          "text": "variable"
         },
         "tracegroupgap": 0
        },
        "template": {
         "data": {
          "bar": [
           {
            "error_x": {
             "color": "#2a3f5f"
            },
            "error_y": {
             "color": "#2a3f5f"
            },
            "marker": {
             "line": {
              "color": "#E5ECF6",
              "width": 0.5
             },
             "pattern": {
              "fillmode": "overlay",
              "size": 10,
              "solidity": 0.2
             }
            },
            "type": "bar"
           }
          ],
          "barpolar": [
           {
            "marker": {
             "line": {
              "color": "#E5ECF6",
              "width": 0.5
             },
             "pattern": {
              "fillmode": "overlay",
              "size": 10,
              "solidity": 0.2
             }
            },
            "type": "barpolar"
           }
          ],
          "carpet": [
           {
            "aaxis": {
             "endlinecolor": "#2a3f5f",
             "gridcolor": "white",
             "linecolor": "white",
             "minorgridcolor": "white",
             "startlinecolor": "#2a3f5f"
            },
            "baxis": {
             "endlinecolor": "#2a3f5f",
             "gridcolor": "white",
             "linecolor": "white",
             "minorgridcolor": "white",
             "startlinecolor": "#2a3f5f"
            },
            "type": "carpet"
           }
          ],
          "choropleth": [
           {
            "colorbar": {
             "outlinewidth": 0,
             "ticks": ""
            },
            "type": "choropleth"
           }
          ],
          "contour": [
           {
            "colorbar": {
             "outlinewidth": 0,
             "ticks": ""
            },
            "colorscale": [
             [
              0,
              "#0d0887"
             ],
             [
              0.1111111111111111,
              "#46039f"
             ],
             [
              0.2222222222222222,
              "#7201a8"
             ],
             [
              0.3333333333333333,
              "#9c179e"
             ],
             [
              0.4444444444444444,
              "#bd3786"
             ],
             [
              0.5555555555555556,
              "#d8576b"
             ],
             [
              0.6666666666666666,
              "#ed7953"
             ],
             [
              0.7777777777777778,
              "#fb9f3a"
             ],
             [
              0.8888888888888888,
              "#fdca26"
             ],
             [
              1,
              "#f0f921"
             ]
            ],
            "type": "contour"
           }
          ],
          "contourcarpet": [
           {
            "colorbar": {
             "outlinewidth": 0,
             "ticks": ""
            },
            "type": "contourcarpet"
           }
          ],
          "heatmap": [
           {
            "colorbar": {
             "outlinewidth": 0,
             "ticks": ""
            },
            "colorscale": [
             [
              0,
              "#0d0887"
             ],
             [
              0.1111111111111111,
              "#46039f"
             ],
             [
              0.2222222222222222,
              "#7201a8"
             ],
             [
              0.3333333333333333,
              "#9c179e"
             ],
             [
              0.4444444444444444,
              "#bd3786"
             ],
             [
              0.5555555555555556,
              "#d8576b"
             ],
             [
              0.6666666666666666,
              "#ed7953"
             ],
             [
              0.7777777777777778,
              "#fb9f3a"
             ],
             [
              0.8888888888888888,
              "#fdca26"
             ],
             [
              1,
              "#f0f921"
             ]
            ],
            "type": "heatmap"
           }
          ],
          "heatmapgl": [
           {
            "colorbar": {
             "outlinewidth": 0,
             "ticks": ""
            },
            "colorscale": [
             [
              0,
              "#0d0887"
             ],
             [
              0.1111111111111111,
              "#46039f"
             ],
             [
              0.2222222222222222,
              "#7201a8"
             ],
             [
              0.3333333333333333,
              "#9c179e"
             ],
             [
              0.4444444444444444,
              "#bd3786"
             ],
             [
              0.5555555555555556,
              "#d8576b"
             ],
             [
              0.6666666666666666,
              "#ed7953"
             ],
             [
              0.7777777777777778,
              "#fb9f3a"
             ],
             [
              0.8888888888888888,
              "#fdca26"
             ],
             [
              1,
              "#f0f921"
             ]
            ],
            "type": "heatmapgl"
           }
          ],
          "histogram": [
           {
            "marker": {
             "pattern": {
              "fillmode": "overlay",
              "size": 10,
              "solidity": 0.2
             }
            },
            "type": "histogram"
           }
          ],
          "histogram2d": [
           {
            "colorbar": {
             "outlinewidth": 0,
             "ticks": ""
            },
            "colorscale": [
             [
              0,
              "#0d0887"
             ],
             [
              0.1111111111111111,
              "#46039f"
             ],
             [
              0.2222222222222222,
              "#7201a8"
             ],
             [
              0.3333333333333333,
              "#9c179e"
             ],
             [
              0.4444444444444444,
              "#bd3786"
             ],
             [
              0.5555555555555556,
              "#d8576b"
             ],
             [
              0.6666666666666666,
              "#ed7953"
             ],
             [
              0.7777777777777778,
              "#fb9f3a"
             ],
             [
              0.8888888888888888,
              "#fdca26"
             ],
             [
              1,
              "#f0f921"
             ]
            ],
            "type": "histogram2d"
           }
          ],
          "histogram2dcontour": [
           {
            "colorbar": {
             "outlinewidth": 0,
             "ticks": ""
            },
            "colorscale": [
             [
              0,
              "#0d0887"
             ],
             [
              0.1111111111111111,
              "#46039f"
             ],
             [
              0.2222222222222222,
              "#7201a8"
             ],
             [
              0.3333333333333333,
              "#9c179e"
             ],
             [
              0.4444444444444444,
              "#bd3786"
             ],
             [
              0.5555555555555556,
              "#d8576b"
             ],
             [
              0.6666666666666666,
              "#ed7953"
             ],
             [
              0.7777777777777778,
              "#fb9f3a"
             ],
             [
              0.8888888888888888,
              "#fdca26"
             ],
             [
              1,
              "#f0f921"
             ]
            ],
            "type": "histogram2dcontour"
           }
          ],
          "mesh3d": [
           {
            "colorbar": {
             "outlinewidth": 0,
             "ticks": ""
            },
            "type": "mesh3d"
           }
          ],
          "parcoords": [
           {
            "line": {
             "colorbar": {
              "outlinewidth": 0,
              "ticks": ""
             }
            },
            "type": "parcoords"
           }
          ],
          "pie": [
           {
            "automargin": true,
            "type": "pie"
           }
          ],
          "scatter": [
           {
            "fillpattern": {
             "fillmode": "overlay",
             "size": 10,
             "solidity": 0.2
            },
            "type": "scatter"
           }
          ],
          "scatter3d": [
           {
            "line": {
             "colorbar": {
              "outlinewidth": 0,
              "ticks": ""
             }
            },
            "marker": {
             "colorbar": {
              "outlinewidth": 0,
              "ticks": ""
             }
            },
            "type": "scatter3d"
           }
          ],
          "scattercarpet": [
           {
            "marker": {
             "colorbar": {
              "outlinewidth": 0,
              "ticks": ""
             }
            },
            "type": "scattercarpet"
           }
          ],
          "scattergeo": [
           {
            "marker": {
             "colorbar": {
              "outlinewidth": 0,
              "ticks": ""
             }
            },
            "type": "scattergeo"
           }
          ],
          "scattergl": [
           {
            "marker": {
             "colorbar": {
              "outlinewidth": 0,
              "ticks": ""
             }
            },
            "type": "scattergl"
           }
          ],
          "scattermapbox": [
           {
            "marker": {
             "colorbar": {
              "outlinewidth": 0,
              "ticks": ""
             }
            },
            "type": "scattermapbox"
           }
          ],
          "scatterpolar": [
           {
            "marker": {
             "colorbar": {
              "outlinewidth": 0,
              "ticks": ""
             }
            },
            "type": "scatterpolar"
           }
          ],
          "scatterpolargl": [
           {
            "marker": {
             "colorbar": {
              "outlinewidth": 0,
              "ticks": ""
             }
            },
            "type": "scatterpolargl"
           }
          ],
          "scatterternary": [
           {
            "marker": {
             "colorbar": {
              "outlinewidth": 0,
              "ticks": ""
             }
            },
            "type": "scatterternary"
           }
          ],
          "surface": [
           {
            "colorbar": {
             "outlinewidth": 0,
             "ticks": ""
            },
            "colorscale": [
             [
              0,
              "#0d0887"
             ],
             [
              0.1111111111111111,
              "#46039f"
             ],
             [
              0.2222222222222222,
              "#7201a8"
             ],
             [
              0.3333333333333333,
              "#9c179e"
             ],
             [
              0.4444444444444444,
              "#bd3786"
             ],
             [
              0.5555555555555556,
              "#d8576b"
             ],
             [
              0.6666666666666666,
              "#ed7953"
             ],
             [
              0.7777777777777778,
              "#fb9f3a"
             ],
             [
              0.8888888888888888,
              "#fdca26"
             ],
             [
              1,
              "#f0f921"
             ]
            ],
            "type": "surface"
           }
          ],
          "table": [
           {
            "cells": {
             "fill": {
              "color": "#EBF0F8"
             },
             "line": {
              "color": "white"
             }
            },
            "header": {
             "fill": {
              "color": "#C8D4E3"
             },
             "line": {
              "color": "white"
             }
            },
            "type": "table"
           }
          ]
         },
         "layout": {
          "annotationdefaults": {
           "arrowcolor": "#2a3f5f",
           "arrowhead": 0,
           "arrowwidth": 1
          },
          "autotypenumbers": "strict",
          "coloraxis": {
           "colorbar": {
            "outlinewidth": 0,
            "ticks": ""
           }
          },
          "colorscale": {
           "diverging": [
            [
             0,
             "#8e0152"
            ],
            [
             0.1,
             "#c51b7d"
            ],
            [
             0.2,
             "#de77ae"
            ],
            [
             0.3,
             "#f1b6da"
            ],
            [
             0.4,
             "#fde0ef"
            ],
            [
             0.5,
             "#f7f7f7"
            ],
            [
             0.6,
             "#e6f5d0"
            ],
            [
             0.7,
             "#b8e186"
            ],
            [
             0.8,
             "#7fbc41"
            ],
            [
             0.9,
             "#4d9221"
            ],
            [
             1,
             "#276419"
            ]
           ],
           "sequential": [
            [
             0,
             "#0d0887"
            ],
            [
             0.1111111111111111,
             "#46039f"
            ],
            [
             0.2222222222222222,
             "#7201a8"
            ],
            [
             0.3333333333333333,
             "#9c179e"
            ],
            [
             0.4444444444444444,
             "#bd3786"
            ],
            [
             0.5555555555555556,
             "#d8576b"
            ],
            [
             0.6666666666666666,
             "#ed7953"
            ],
            [
             0.7777777777777778,
             "#fb9f3a"
            ],
            [
             0.8888888888888888,
             "#fdca26"
            ],
            [
             1,
             "#f0f921"
            ]
           ],
           "sequentialminus": [
            [
             0,
             "#0d0887"
            ],
            [
             0.1111111111111111,
             "#46039f"
            ],
            [
             0.2222222222222222,
             "#7201a8"
            ],
            [
             0.3333333333333333,
             "#9c179e"
            ],
            [
             0.4444444444444444,
             "#bd3786"
            ],
            [
             0.5555555555555556,
             "#d8576b"
            ],
            [
             0.6666666666666666,
             "#ed7953"
            ],
            [
             0.7777777777777778,
             "#fb9f3a"
            ],
            [
             0.8888888888888888,
             "#fdca26"
            ],
            [
             1,
             "#f0f921"
            ]
           ]
          },
          "colorway": [
           "#636efa",
           "#EF553B",
           "#00cc96",
           "#ab63fa",
           "#FFA15A",
           "#19d3f3",
           "#FF6692",
           "#B6E880",
           "#FF97FF",
           "#FECB52"
          ],
          "font": {
           "color": "#2a3f5f"
          },
          "geo": {
           "bgcolor": "white",
           "lakecolor": "white",
           "landcolor": "#E5ECF6",
           "showlakes": true,
           "showland": true,
           "subunitcolor": "white"
          },
          "hoverlabel": {
           "align": "left"
          },
          "hovermode": "closest",
          "mapbox": {
           "style": "light"
          },
          "paper_bgcolor": "white",
          "plot_bgcolor": "#E5ECF6",
          "polar": {
           "angularaxis": {
            "gridcolor": "white",
            "linecolor": "white",
            "ticks": ""
           },
           "bgcolor": "#E5ECF6",
           "radialaxis": {
            "gridcolor": "white",
            "linecolor": "white",
            "ticks": ""
           }
          },
          "scene": {
           "xaxis": {
            "backgroundcolor": "#E5ECF6",
            "gridcolor": "white",
            "gridwidth": 2,
            "linecolor": "white",
            "showbackground": true,
            "ticks": "",
            "zerolinecolor": "white"
           },
           "yaxis": {
            "backgroundcolor": "#E5ECF6",
            "gridcolor": "white",
            "gridwidth": 2,
            "linecolor": "white",
            "showbackground": true,
            "ticks": "",
            "zerolinecolor": "white"
           },
           "zaxis": {
            "backgroundcolor": "#E5ECF6",
            "gridcolor": "white",
            "gridwidth": 2,
            "linecolor": "white",
            "showbackground": true,
            "ticks": "",
            "zerolinecolor": "white"
           }
          },
          "shapedefaults": {
           "line": {
            "color": "#2a3f5f"
           }
          },
          "ternary": {
           "aaxis": {
            "gridcolor": "white",
            "linecolor": "white",
            "ticks": ""
           },
           "baxis": {
            "gridcolor": "white",
            "linecolor": "white",
            "ticks": ""
           },
           "bgcolor": "#E5ECF6",
           "caxis": {
            "gridcolor": "white",
            "linecolor": "white",
            "ticks": ""
           }
          },
          "title": {
           "x": 0.05
          },
          "xaxis": {
           "automargin": true,
           "gridcolor": "white",
           "linecolor": "white",
           "ticks": "",
           "title": {
            "standoff": 15
           },
           "zerolinecolor": "white",
           "zerolinewidth": 2
          },
          "yaxis": {
           "automargin": true,
           "gridcolor": "white",
           "linecolor": "white",
           "ticks": "",
           "title": {
            "standoff": 15
           },
           "zerolinecolor": "white",
           "zerolinewidth": 2
          }
         }
        },
        "title": {
         "text": "UNISWAP-V3 TVL USD"
        },
        "xaxis": {
         "anchor": "y",
         "domain": [
          0,
          1
         ],
         "title": {
          "text": "date"
         }
        },
        "yaxis": {
         "anchor": "x",
         "domain": [
          0,
          1
         ],
         "title": {
          "text": "value"
         }
        }
       }
      },
      "text/html": [
       "<div>                            <div id=\"d92f7867-a0f1-4ede-a636-d926824f1add\" class=\"plotly-graph-div\" style=\"height:525px; width:100%;\"></div>            <script type=\"text/javascript\">                require([\"plotly\"], function(Plotly) {                    window.PLOTLYENV=window.PLOTLYENV || {};                                    if (document.getElementById(\"d92f7867-a0f1-4ede-a636-d926824f1add\")) {                    Plotly.newPlot(                        \"d92f7867-a0f1-4ede-a636-d926824f1add\",                        [{\"hovertemplate\":\"variable=tvlUSD<br>date=%{x}<br>value=%{y}<extra></extra>\",\"legendgroup\":\"tvlUSD\",\"line\":{\"color\":\"#636efa\",\"dash\":\"solid\"},\"marker\":{\"symbol\":\"circle\"},\"mode\":\"lines\",\"name\":\"tvlUSD\",\"orientation\":\"v\",\"showlegend\":true,\"x\":[\"2021-05-04T03:00:00\",\"2021-05-05T03:00:00\",\"2021-05-06T03:00:00\",\"2021-05-07T03:00:00\",\"2021-05-08T03:00:00\",\"2021-05-09T03:00:00\",\"2021-05-10T03:00:00\",\"2021-05-11T03:00:00\",\"2021-05-12T03:00:00\",\"2021-05-13T03:00:00\",\"2021-05-14T03:00:00\",\"2021-05-15T03:00:00\",\"2021-05-16T03:00:00\",\"2021-05-17T03:00:00\",\"2021-05-18T03:00:00\",\"2021-05-19T03:00:00\",\"2021-05-20T03:00:00\",\"2021-05-21T03:00:00\",\"2021-05-22T03:00:00\",\"2021-05-23T03:00:00\",\"2021-05-24T03:00:00\",\"2021-05-25T03:00:00\",\"2021-05-26T03:00:00\",\"2021-05-27T03:00:00\",\"2021-05-28T03:00:00\",\"2021-05-29T03:00:00\",\"2021-05-30T03:00:00\",\"2021-05-31T03:00:00\",\"2021-06-01T03:00:00\",\"2021-06-02T03:00:00\",\"2021-06-03T03:00:00\",\"2021-06-04T03:00:00\",\"2021-06-05T03:00:00\",\"2021-06-06T03:00:00\",\"2021-06-07T03:00:00\",\"2021-06-08T03:00:00\",\"2021-06-09T03:00:00\",\"2021-06-10T03:00:00\",\"2021-06-11T03:00:00\",\"2021-06-12T03:00:00\",\"2021-06-13T03:00:00\",\"2021-06-14T03:00:00\",\"2021-06-15T03:00:00\",\"2021-06-16T03:00:00\",\"2021-06-17T03:00:00\",\"2021-06-18T03:00:00\",\"2021-06-19T03:00:00\",\"2021-06-20T03:00:00\",\"2021-06-21T03:00:00\",\"2021-06-22T03:00:00\",\"2021-06-23T03:00:00\",\"2021-06-24T03:00:00\",\"2021-06-25T03:00:00\",\"2021-06-26T03:00:00\",\"2021-06-27T03:00:00\",\"2021-06-28T03:00:00\",\"2021-06-29T03:00:00\",\"2021-06-30T03:00:00\",\"2021-07-01T03:00:00\",\"2021-07-02T03:00:00\",\"2021-07-03T03:00:00\",\"2021-07-04T03:00:00\",\"2021-07-05T03:00:00\",\"2021-07-06T03:00:00\",\"2021-07-07T03:00:00\",\"2021-07-08T03:00:00\",\"2021-07-09T03:00:00\",\"2021-07-10T03:00:00\",\"2021-07-11T03:00:00\",\"2021-07-12T03:00:00\",\"2021-07-13T03:00:00\",\"2021-07-14T03:00:00\",\"2021-07-15T03:00:00\",\"2021-07-16T03:00:00\",\"2021-07-17T03:00:00\",\"2021-07-18T03:00:00\",\"2021-07-19T03:00:00\",\"2021-07-20T03:00:00\",\"2021-07-21T03:00:00\",\"2021-07-22T03:00:00\",\"2021-07-23T03:00:00\",\"2021-07-24T03:00:00\",\"2021-07-25T03:00:00\",\"2021-07-26T03:00:00\",\"2021-07-27T03:00:00\",\"2021-07-28T03:00:00\",\"2021-07-29T03:00:00\",\"2021-07-30T03:00:00\",\"2021-07-31T03:00:00\",\"2021-08-01T03:00:00\",\"2021-08-02T03:00:00\",\"2021-08-03T03:00:00\",\"2021-08-04T03:00:00\",\"2021-08-05T03:00:00\",\"2021-08-06T03:00:00\",\"2021-08-07T03:00:00\",\"2021-08-08T03:00:00\",\"2021-08-09T03:00:00\",\"2021-08-10T03:00:00\",\"2021-08-11T03:00:00\"],\"xaxis\":\"x\",\"y\":[0.0,137393087.83917195,370737139.94136256,501602157.9472991,565496000.3094106,616952743.7559992,575723934.5448283,741137534.2628868,816232284.1905187,934242799.6768714,991720117.4902359,979236106.1429205,996794267.5442643,1024307976.7775434,1119338013.9955502,889946495.1808995,1087109781.244186,989895502.1901212,1004276310.3273708,950813175.2957507,1282841678.111187,1465561332.1877553,1606677749.674054,1587657885.7579813,1563896255.8528657,1545421594.3429139,1637808296.1327977,1809197597.7344909,1807516967.0017955,1842842475.3700602,1923061757.628842,1861892178.5770445,1819259746.7130854,1872774246.3009293,1720995908.0472813,1760032043.715366,1825880807.2891881,1787650380.667006,1704982799.3073895,1670697139.0298846,1796127198.5802255,1823108544.3471057,1825445049.4470713,1750226668.508247,1744966736.301019,1695560490.214725,1677689544.0104487,1721514399.9915087,1484200602.5804467,1495147229.3724232,1574087895.7863202,1538356671.15726,1471766843.5912318,1446109834.9920714,1554608023.9426055,1594745358.1788986,1674296047.5335965,1708111357.259485,1666932708.9303753,1706779908.2921305,1728196359.3357565,1761037779.6279314,1710014357.319376,1767505630.0515962,1747250187.029352,1672613687.8457613,1698857423.4434385,1691500559.8575141,1708502619.7596526,1665942501.73509,1629049533.8301325,1629480672.758651,1600395955.2929873,1615480003.9328926,1638608331.2224774,1643137264.3777635,1595901219.4664469,1564039792.949434,1687535976.951019,1732731443.058676,1805191986.3061135,1763845106.9157994,1772074306.8136382,1817246997.1095424,1854889319.557643,1897291447.24755,1944165400.82528,1984159089.3961449,1988772254.6227229,1963474508.7459443,2089837086.8196528,2047221188.5469198,2161609360.249058,2167029571.4058847,2285512924.046703,2396832402.7574177,2368448289.8930807,2322327257.9259143,2321948342.6695666,2365094775.9960613],\"yaxis\":\"y\",\"type\":\"scatter\"}],                        {\"template\":{\"data\":{\"histogram2dcontour\":[{\"type\":\"histogram2dcontour\",\"colorbar\":{\"outlinewidth\":0,\"ticks\":\"\"},\"colorscale\":[[0.0,\"#0d0887\"],[0.1111111111111111,\"#46039f\"],[0.2222222222222222,\"#7201a8\"],[0.3333333333333333,\"#9c179e\"],[0.4444444444444444,\"#bd3786\"],[0.5555555555555556,\"#d8576b\"],[0.6666666666666666,\"#ed7953\"],[0.7777777777777778,\"#fb9f3a\"],[0.8888888888888888,\"#fdca26\"],[1.0,\"#f0f921\"]]}],\"choropleth\":[{\"type\":\"choropleth\",\"colorbar\":{\"outlinewidth\":0,\"ticks\":\"\"}}],\"histogram2d\":[{\"type\":\"histogram2d\",\"colorbar\":{\"outlinewidth\":0,\"ticks\":\"\"},\"colorscale\":[[0.0,\"#0d0887\"],[0.1111111111111111,\"#46039f\"],[0.2222222222222222,\"#7201a8\"],[0.3333333333333333,\"#9c179e\"],[0.4444444444444444,\"#bd3786\"],[0.5555555555555556,\"#d8576b\"],[0.6666666666666666,\"#ed7953\"],[0.7777777777777778,\"#fb9f3a\"],[0.8888888888888888,\"#fdca26\"],[1.0,\"#f0f921\"]]}],\"heatmap\":[{\"type\":\"heatmap\",\"colorbar\":{\"outlinewidth\":0,\"ticks\":\"\"},\"colorscale\":[[0.0,\"#0d0887\"],[0.1111111111111111,\"#46039f\"],[0.2222222222222222,\"#7201a8\"],[0.3333333333333333,\"#9c179e\"],[0.4444444444444444,\"#bd3786\"],[0.5555555555555556,\"#d8576b\"],[0.6666666666666666,\"#ed7953\"],[0.7777777777777778,\"#fb9f3a\"],[0.8888888888888888,\"#fdca26\"],[1.0,\"#f0f921\"]]}],\"heatmapgl\":[{\"type\":\"heatmapgl\",\"colorbar\":{\"outlinewidth\":0,\"ticks\":\"\"},\"colorscale\":[[0.0,\"#0d0887\"],[0.1111111111111111,\"#46039f\"],[0.2222222222222222,\"#7201a8\"],[0.3333333333333333,\"#9c179e\"],[0.4444444444444444,\"#bd3786\"],[0.5555555555555556,\"#d8576b\"],[0.6666666666666666,\"#ed7953\"],[0.7777777777777778,\"#fb9f3a\"],[0.8888888888888888,\"#fdca26\"],[1.0,\"#f0f921\"]]}],\"contourcarpet\":[{\"type\":\"contourcarpet\",\"colorbar\":{\"outlinewidth\":0,\"ticks\":\"\"}}],\"contour\":[{\"type\":\"contour\",\"colorbar\":{\"outlinewidth\":0,\"ticks\":\"\"},\"colorscale\":[[0.0,\"#0d0887\"],[0.1111111111111111,\"#46039f\"],[0.2222222222222222,\"#7201a8\"],[0.3333333333333333,\"#9c179e\"],[0.4444444444444444,\"#bd3786\"],[0.5555555555555556,\"#d8576b\"],[0.6666666666666666,\"#ed7953\"],[0.7777777777777778,\"#fb9f3a\"],[0.8888888888888888,\"#fdca26\"],[1.0,\"#f0f921\"]]}],\"surface\":[{\"type\":\"surface\",\"colorbar\":{\"outlinewidth\":0,\"ticks\":\"\"},\"colorscale\":[[0.0,\"#0d0887\"],[0.1111111111111111,\"#46039f\"],[0.2222222222222222,\"#7201a8\"],[0.3333333333333333,\"#9c179e\"],[0.4444444444444444,\"#bd3786\"],[0.5555555555555556,\"#d8576b\"],[0.6666666666666666,\"#ed7953\"],[0.7777777777777778,\"#fb9f3a\"],[0.8888888888888888,\"#fdca26\"],[1.0,\"#f0f921\"]]}],\"mesh3d\":[{\"type\":\"mesh3d\",\"colorbar\":{\"outlinewidth\":0,\"ticks\":\"\"}}],\"scatter\":[{\"fillpattern\":{\"fillmode\":\"overlay\",\"size\":10,\"solidity\":0.2},\"type\":\"scatter\"}],\"parcoords\":[{\"type\":\"parcoords\",\"line\":{\"colorbar\":{\"outlinewidth\":0,\"ticks\":\"\"}}}],\"scatterpolargl\":[{\"type\":\"scatterpolargl\",\"marker\":{\"colorbar\":{\"outlinewidth\":0,\"ticks\":\"\"}}}],\"bar\":[{\"error_x\":{\"color\":\"#2a3f5f\"},\"error_y\":{\"color\":\"#2a3f5f\"},\"marker\":{\"line\":{\"color\":\"#E5ECF6\",\"width\":0.5},\"pattern\":{\"fillmode\":\"overlay\",\"size\":10,\"solidity\":0.2}},\"type\":\"bar\"}],\"scattergeo\":[{\"type\":\"scattergeo\",\"marker\":{\"colorbar\":{\"outlinewidth\":0,\"ticks\":\"\"}}}],\"scatterpolar\":[{\"type\":\"scatterpolar\",\"marker\":{\"colorbar\":{\"outlinewidth\":0,\"ticks\":\"\"}}}],\"histogram\":[{\"marker\":{\"pattern\":{\"fillmode\":\"overlay\",\"size\":10,\"solidity\":0.2}},\"type\":\"histogram\"}],\"scattergl\":[{\"type\":\"scattergl\",\"marker\":{\"colorbar\":{\"outlinewidth\":0,\"ticks\":\"\"}}}],\"scatter3d\":[{\"type\":\"scatter3d\",\"line\":{\"colorbar\":{\"outlinewidth\":0,\"ticks\":\"\"}},\"marker\":{\"colorbar\":{\"outlinewidth\":0,\"ticks\":\"\"}}}],\"scattermapbox\":[{\"type\":\"scattermapbox\",\"marker\":{\"colorbar\":{\"outlinewidth\":0,\"ticks\":\"\"}}}],\"scatterternary\":[{\"type\":\"scatterternary\",\"marker\":{\"colorbar\":{\"outlinewidth\":0,\"ticks\":\"\"}}}],\"scattercarpet\":[{\"type\":\"scattercarpet\",\"marker\":{\"colorbar\":{\"outlinewidth\":0,\"ticks\":\"\"}}}],\"carpet\":[{\"aaxis\":{\"endlinecolor\":\"#2a3f5f\",\"gridcolor\":\"white\",\"linecolor\":\"white\",\"minorgridcolor\":\"white\",\"startlinecolor\":\"#2a3f5f\"},\"baxis\":{\"endlinecolor\":\"#2a3f5f\",\"gridcolor\":\"white\",\"linecolor\":\"white\",\"minorgridcolor\":\"white\",\"startlinecolor\":\"#2a3f5f\"},\"type\":\"carpet\"}],\"table\":[{\"cells\":{\"fill\":{\"color\":\"#EBF0F8\"},\"line\":{\"color\":\"white\"}},\"header\":{\"fill\":{\"color\":\"#C8D4E3\"},\"line\":{\"color\":\"white\"}},\"type\":\"table\"}],\"barpolar\":[{\"marker\":{\"line\":{\"color\":\"#E5ECF6\",\"width\":0.5},\"pattern\":{\"fillmode\":\"overlay\",\"size\":10,\"solidity\":0.2}},\"type\":\"barpolar\"}],\"pie\":[{\"automargin\":true,\"type\":\"pie\"}]},\"layout\":{\"autotypenumbers\":\"strict\",\"colorway\":[\"#636efa\",\"#EF553B\",\"#00cc96\",\"#ab63fa\",\"#FFA15A\",\"#19d3f3\",\"#FF6692\",\"#B6E880\",\"#FF97FF\",\"#FECB52\"],\"font\":{\"color\":\"#2a3f5f\"},\"hovermode\":\"closest\",\"hoverlabel\":{\"align\":\"left\"},\"paper_bgcolor\":\"white\",\"plot_bgcolor\":\"#E5ECF6\",\"polar\":{\"bgcolor\":\"#E5ECF6\",\"angularaxis\":{\"gridcolor\":\"white\",\"linecolor\":\"white\",\"ticks\":\"\"},\"radialaxis\":{\"gridcolor\":\"white\",\"linecolor\":\"white\",\"ticks\":\"\"}},\"ternary\":{\"bgcolor\":\"#E5ECF6\",\"aaxis\":{\"gridcolor\":\"white\",\"linecolor\":\"white\",\"ticks\":\"\"},\"baxis\":{\"gridcolor\":\"white\",\"linecolor\":\"white\",\"ticks\":\"\"},\"caxis\":{\"gridcolor\":\"white\",\"linecolor\":\"white\",\"ticks\":\"\"}},\"coloraxis\":{\"colorbar\":{\"outlinewidth\":0,\"ticks\":\"\"}},\"colorscale\":{\"sequential\":[[0.0,\"#0d0887\"],[0.1111111111111111,\"#46039f\"],[0.2222222222222222,\"#7201a8\"],[0.3333333333333333,\"#9c179e\"],[0.4444444444444444,\"#bd3786\"],[0.5555555555555556,\"#d8576b\"],[0.6666666666666666,\"#ed7953\"],[0.7777777777777778,\"#fb9f3a\"],[0.8888888888888888,\"#fdca26\"],[1.0,\"#f0f921\"]],\"sequentialminus\":[[0.0,\"#0d0887\"],[0.1111111111111111,\"#46039f\"],[0.2222222222222222,\"#7201a8\"],[0.3333333333333333,\"#9c179e\"],[0.4444444444444444,\"#bd3786\"],[0.5555555555555556,\"#d8576b\"],[0.6666666666666666,\"#ed7953\"],[0.7777777777777778,\"#fb9f3a\"],[0.8888888888888888,\"#fdca26\"],[1.0,\"#f0f921\"]],\"diverging\":[[0,\"#8e0152\"],[0.1,\"#c51b7d\"],[0.2,\"#de77ae\"],[0.3,\"#f1b6da\"],[0.4,\"#fde0ef\"],[0.5,\"#f7f7f7\"],[0.6,\"#e6f5d0\"],[0.7,\"#b8e186\"],[0.8,\"#7fbc41\"],[0.9,\"#4d9221\"],[1,\"#276419\"]]},\"xaxis\":{\"gridcolor\":\"white\",\"linecolor\":\"white\",\"ticks\":\"\",\"title\":{\"standoff\":15},\"zerolinecolor\":\"white\",\"automargin\":true,\"zerolinewidth\":2},\"yaxis\":{\"gridcolor\":\"white\",\"linecolor\":\"white\",\"ticks\":\"\",\"title\":{\"standoff\":15},\"zerolinecolor\":\"white\",\"automargin\":true,\"zerolinewidth\":2},\"scene\":{\"xaxis\":{\"backgroundcolor\":\"#E5ECF6\",\"gridcolor\":\"white\",\"linecolor\":\"white\",\"showbackground\":true,\"ticks\":\"\",\"zerolinecolor\":\"white\",\"gridwidth\":2},\"yaxis\":{\"backgroundcolor\":\"#E5ECF6\",\"gridcolor\":\"white\",\"linecolor\":\"white\",\"showbackground\":true,\"ticks\":\"\",\"zerolinecolor\":\"white\",\"gridwidth\":2},\"zaxis\":{\"backgroundcolor\":\"#E5ECF6\",\"gridcolor\":\"white\",\"linecolor\":\"white\",\"showbackground\":true,\"ticks\":\"\",\"zerolinecolor\":\"white\",\"gridwidth\":2}},\"shapedefaults\":{\"line\":{\"color\":\"#2a3f5f\"}},\"annotationdefaults\":{\"arrowcolor\":\"#2a3f5f\",\"arrowhead\":0,\"arrowwidth\":1},\"geo\":{\"bgcolor\":\"white\",\"landcolor\":\"#E5ECF6\",\"subunitcolor\":\"white\",\"showland\":true,\"showlakes\":true,\"lakecolor\":\"white\"},\"title\":{\"x\":0.05},\"mapbox\":{\"style\":\"light\"}}},\"xaxis\":{\"anchor\":\"y\",\"domain\":[0.0,1.0],\"title\":{\"text\":\"date\"}},\"yaxis\":{\"anchor\":\"x\",\"domain\":[0.0,1.0],\"title\":{\"text\":\"value\"}},\"legend\":{\"title\":{\"text\":\"variable\"},\"tracegroupgap\":0},\"title\":{\"text\":\"UNISWAP-V3 TVL USD\"}},                        {\"responsive\": true}                    ).then(function(){\n",
       "                            \n",
       "var gd = document.getElementById('d92f7867-a0f1-4ede-a636-d926824f1add');\n",
       "var x = new MutationObserver(function (mutations, observer) {{\n",
       "        var display = window.getComputedStyle(gd).display;\n",
       "        if (!display || display === 'none') {{\n",
       "            console.log([gd, 'removed!']);\n",
       "            Plotly.purge(gd);\n",
       "            observer.disconnect();\n",
       "        }}\n",
       "}});\n",
       "\n",
       "// Listen for the removal of the full notebook cells\n",
       "var notebookContainer = gd.closest('#notebook-container');\n",
       "if (notebookContainer) {{\n",
       "    x.observe(notebookContainer, {childList: true});\n",
       "}}\n",
       "\n",
       "// Listen for the clearing of the current output cell\n",
       "var outputEl = gd.closest('.output');\n",
       "if (outputEl) {{\n",
       "    x.observe(outputEl, {childList: true});\n",
       "}}\n",
       "\n",
       "                        })                };                });            </script>        </div>"
      ]
     },
     "metadata": {},
     "output_type": "display_data"
    }
   ],
   "source": [
    "df_uniswap['tvlUSD'] = df_uniswap['tvlUSD'].astype(float)\n",
    "px.line(df_uniswap.sort_values('date'), x = 'date', y = ['tvlUSD'], title=\"UNISWAP-V3 TVL USD\")"
   ]
  },
  {
   "cell_type": "markdown",
   "metadata": {},
   "source": [
    "<strong>Information about UNISWAP-V2</strong>"
   ]
  },
  {
   "cell_type": "code",
   "execution_count": 97,
   "metadata": {},
   "outputs": [],
   "source": [
    "url_V2 = 'https://api.thegraph.com/subgraphs/name/uniswap/uniswap-v2'"
   ]
  },
  {
   "cell_type": "code",
   "execution_count": 98,
   "metadata": {},
   "outputs": [],
   "source": [
    "query_2 = f\"\"\"{{ \n",
    "    uniswapDayDatas(orderBy: date) {{\n",
    "         dailyVolumeUSD\n",
    "         date\n",
    "         totalLiquidityUSD\n",
    "    }}\n",
    "}}\n",
    "\"\"\"\n",
    "response = requests.post(url_V2, json={'query': query_2})\n",
    "json_data = json.loads(response.text)\n",
    "data_uni = json_data['data']"
   ]
  },
  {
   "cell_type": "code",
   "execution_count": 99,
   "metadata": {},
   "outputs": [],
   "source": [
    "data_uniswap = []\n",
    "for unix_data in data_uni['uniswapDayDatas']: \n",
    "    \n",
    "    date = datetime.datetime.fromtimestamp(unix_data['date'])\n",
    "    uniswap_volumeUSD = unix_data['dailyVolumeUSD']\n",
    "    uniswap_tvlUSD = unix_data['totalLiquidityUSD']\n",
    "\n",
    "    w2 = [date, uniswap_volumeUSD, uniswap_tvlUSD]\n",
    "    data_uniswap.append(w2)"
   ]
  },
  {
   "cell_type": "code",
   "execution_count": 100,
   "metadata": {},
   "outputs": [],
   "source": [
    "df_uniswap = pd.DataFrame(data_uniswap)\n",
    "df_uniswap.columns = ['date', 'volumeUSD', 'tvlUSD']"
   ]
  },
  {
   "cell_type": "code",
   "execution_count": 101,
   "metadata": {},
   "outputs": [
    {
     "data": {
      "text/html": [
       "<div>\n",
       "<style scoped>\n",
       "    .dataframe tbody tr th:only-of-type {\n",
       "        vertical-align: middle;\n",
       "    }\n",
       "\n",
       "    .dataframe tbody tr th {\n",
       "        vertical-align: top;\n",
       "    }\n",
       "\n",
       "    .dataframe thead th {\n",
       "        text-align: right;\n",
       "    }\n",
       "</style>\n",
       "<table border=\"1\" class=\"dataframe\">\n",
       "  <thead>\n",
       "    <tr style=\"text-align: right;\">\n",
       "      <th></th>\n",
       "      <th>date</th>\n",
       "      <th>volumeUSD</th>\n",
       "      <th>tvlUSD</th>\n",
       "    </tr>\n",
       "  </thead>\n",
       "  <tbody>\n",
       "    <tr>\n",
       "      <th>0</th>\n",
       "      <td>2020-05-05 03:00:00</td>\n",
       "      <td>0</td>\n",
       "      <td>0.9889999999999999999999999999999999</td>\n",
       "    </tr>\n",
       "    <tr>\n",
       "      <th>1</th>\n",
       "      <td>2020-05-06 03:00:00</td>\n",
       "      <td>0</td>\n",
       "      <td>3.205901078245611864832838471153563</td>\n",
       "    </tr>\n",
       "    <tr>\n",
       "      <th>2</th>\n",
       "      <td>2020-05-07 03:00:00</td>\n",
       "      <td>0</td>\n",
       "      <td>3.205904320817102476152628363677479</td>\n",
       "    </tr>\n",
       "    <tr>\n",
       "      <th>3</th>\n",
       "      <td>2020-05-08 03:00:00</td>\n",
       "      <td>0</td>\n",
       "      <td>18.81567240547130278983503413202888</td>\n",
       "    </tr>\n",
       "    <tr>\n",
       "      <th>4</th>\n",
       "      <td>2020-05-11 03:00:00</td>\n",
       "      <td>0</td>\n",
       "      <td>18.75575726469834827925495451505825</td>\n",
       "    </tr>\n",
       "    <tr>\n",
       "      <th>...</th>\n",
       "      <td>...</td>\n",
       "      <td>...</td>\n",
       "      <td>...</td>\n",
       "    </tr>\n",
       "    <tr>\n",
       "      <th>95</th>\n",
       "      <td>2020-08-10 03:00:00</td>\n",
       "      <td>193357472.4745183303408011625615743</td>\n",
       "      <td>228329167.1021986732902932146845606</td>\n",
       "    </tr>\n",
       "    <tr>\n",
       "      <th>96</th>\n",
       "      <td>2020-08-11 03:00:00</td>\n",
       "      <td>146898572.5335872434848310892524393</td>\n",
       "      <td>234843106.6106005617476954077249623</td>\n",
       "    </tr>\n",
       "    <tr>\n",
       "      <th>97</th>\n",
       "      <td>2020-08-12 03:00:00</td>\n",
       "      <td>238234901.291406941179904324529595</td>\n",
       "      <td>291950348.1074752968149388145462796</td>\n",
       "    </tr>\n",
       "    <tr>\n",
       "      <th>98</th>\n",
       "      <td>2020-08-13 03:00:00</td>\n",
       "      <td>245038626.3316443297964399722340145</td>\n",
       "      <td>275424161.2035959357898205012492144</td>\n",
       "    </tr>\n",
       "    <tr>\n",
       "      <th>99</th>\n",
       "      <td>2020-08-14 03:00:00</td>\n",
       "      <td>170342877.0373047381334660017959754</td>\n",
       "      <td>266207197.2839702200750167227159478</td>\n",
       "    </tr>\n",
       "  </tbody>\n",
       "</table>\n",
       "<p>100 rows × 3 columns</p>\n",
       "</div>"
      ],
      "text/plain": [
       "                  date                            volumeUSD  \\\n",
       "0  2020-05-05 03:00:00                                    0   \n",
       "1  2020-05-06 03:00:00                                    0   \n",
       "2  2020-05-07 03:00:00                                    0   \n",
       "3  2020-05-08 03:00:00                                    0   \n",
       "4  2020-05-11 03:00:00                                    0   \n",
       "..                 ...                                  ...   \n",
       "95 2020-08-10 03:00:00  193357472.4745183303408011625615743   \n",
       "96 2020-08-11 03:00:00  146898572.5335872434848310892524393   \n",
       "97 2020-08-12 03:00:00   238234901.291406941179904324529595   \n",
       "98 2020-08-13 03:00:00  245038626.3316443297964399722340145   \n",
       "99 2020-08-14 03:00:00  170342877.0373047381334660017959754   \n",
       "\n",
       "                                  tvlUSD  \n",
       "0   0.9889999999999999999999999999999999  \n",
       "1    3.205901078245611864832838471153563  \n",
       "2    3.205904320817102476152628363677479  \n",
       "3    18.81567240547130278983503413202888  \n",
       "4    18.75575726469834827925495451505825  \n",
       "..                                   ...  \n",
       "95   228329167.1021986732902932146845606  \n",
       "96   234843106.6106005617476954077249623  \n",
       "97   291950348.1074752968149388145462796  \n",
       "98   275424161.2035959357898205012492144  \n",
       "99   266207197.2839702200750167227159478  \n",
       "\n",
       "[100 rows x 3 columns]"
      ]
     },
     "execution_count": 101,
     "metadata": {},
     "output_type": "execute_result"
    }
   ],
   "source": [
    "df_uniswap"
   ]
  },
  {
   "cell_type": "code",
   "execution_count": 102,
   "metadata": {},
   "outputs": [
    {
     "data": {
      "application/vnd.plotly.v1+json": {
       "config": {
        "plotlyServerURL": "https://plot.ly"
       },
       "data": [
        {
         "hovertemplate": "variable=volumeUSD<br>date=%{x}<br>value=%{y}<extra></extra>",
         "legendgroup": "volumeUSD",
         "line": {
          "color": "#636efa",
          "dash": "solid"
         },
         "marker": {
          "symbol": "circle"
         },
         "mode": "lines",
         "name": "volumeUSD",
         "orientation": "v",
         "showlegend": true,
         "type": "scatter",
         "x": [
          "2020-05-05T03:00:00",
          "2020-05-06T03:00:00",
          "2020-05-07T03:00:00",
          "2020-05-08T03:00:00",
          "2020-05-11T03:00:00",
          "2020-05-12T03:00:00",
          "2020-05-13T03:00:00",
          "2020-05-14T03:00:00",
          "2020-05-15T03:00:00",
          "2020-05-16T03:00:00",
          "2020-05-17T03:00:00",
          "2020-05-18T03:00:00",
          "2020-05-19T03:00:00",
          "2020-05-20T03:00:00",
          "2020-05-21T03:00:00",
          "2020-05-22T03:00:00",
          "2020-05-23T03:00:00",
          "2020-05-24T03:00:00",
          "2020-05-25T03:00:00",
          "2020-05-26T03:00:00",
          "2020-05-27T03:00:00",
          "2020-05-28T03:00:00",
          "2020-05-29T03:00:00",
          "2020-05-30T03:00:00",
          "2020-05-31T03:00:00",
          "2020-06-01T03:00:00",
          "2020-06-02T03:00:00",
          "2020-06-03T03:00:00",
          "2020-06-04T03:00:00",
          "2020-06-05T03:00:00",
          "2020-06-06T03:00:00",
          "2020-06-07T03:00:00",
          "2020-06-08T03:00:00",
          "2020-06-09T03:00:00",
          "2020-06-10T03:00:00",
          "2020-06-11T03:00:00",
          "2020-06-12T03:00:00",
          "2020-06-13T03:00:00",
          "2020-06-14T03:00:00",
          "2020-06-15T03:00:00",
          "2020-06-16T03:00:00",
          "2020-06-17T03:00:00",
          "2020-06-18T03:00:00",
          "2020-06-19T03:00:00",
          "2020-06-20T03:00:00",
          "2020-06-21T03:00:00",
          "2020-06-22T03:00:00",
          "2020-06-23T03:00:00",
          "2020-06-24T03:00:00",
          "2020-06-25T03:00:00",
          "2020-06-26T03:00:00",
          "2020-06-27T03:00:00",
          "2020-06-28T03:00:00",
          "2020-06-29T03:00:00",
          "2020-06-30T03:00:00",
          "2020-07-01T03:00:00",
          "2020-07-02T03:00:00",
          "2020-07-03T03:00:00",
          "2020-07-04T03:00:00",
          "2020-07-05T03:00:00",
          "2020-07-06T03:00:00",
          "2020-07-07T03:00:00",
          "2020-07-08T03:00:00",
          "2020-07-09T03:00:00",
          "2020-07-10T03:00:00",
          "2020-07-11T03:00:00",
          "2020-07-12T03:00:00",
          "2020-07-13T03:00:00",
          "2020-07-14T03:00:00",
          "2020-07-15T03:00:00",
          "2020-07-16T03:00:00",
          "2020-07-17T03:00:00",
          "2020-07-18T03:00:00",
          "2020-07-19T03:00:00",
          "2020-07-20T03:00:00",
          "2020-07-21T03:00:00",
          "2020-07-22T03:00:00",
          "2020-07-23T03:00:00",
          "2020-07-24T03:00:00",
          "2020-07-25T03:00:00",
          "2020-07-26T03:00:00",
          "2020-07-27T03:00:00",
          "2020-07-28T03:00:00",
          "2020-07-29T03:00:00",
          "2020-07-30T03:00:00",
          "2020-07-31T03:00:00",
          "2020-08-01T03:00:00",
          "2020-08-02T03:00:00",
          "2020-08-03T03:00:00",
          "2020-08-04T03:00:00",
          "2020-08-05T03:00:00",
          "2020-08-06T03:00:00",
          "2020-08-07T03:00:00",
          "2020-08-08T03:00:00",
          "2020-08-09T03:00:00",
          "2020-08-10T03:00:00",
          "2020-08-11T03:00:00",
          "2020-08-12T03:00:00",
          "2020-08-13T03:00:00",
          "2020-08-14T03:00:00"
         ],
         "xaxis": "x",
         "y": [
          0,
          0,
          0,
          0,
          0,
          0,
          0,
          0,
          0,
          0,
          0,
          0,
          38046.08279573812,
          250868.9786409113,
          484247.5073567983,
          345799.2098251618,
          297187.985685404,
          592574.4187574118,
          259997.64354590632,
          341621.0455902897,
          291084.42305211467,
          590599.9952291688,
          1509136.7357076094,
          1244635.9956744714,
          1121430.564857198,
          1318285.8744959326,
          1900322.269080958,
          1039106.394954851,
          1109304.0353377715,
          949848.4938664433,
          962560.2956703706,
          1313947.4999442413,
          1668961.870390981,
          3157435.228062021,
          2467230.855036462,
          4839095.476555667,
          1579740.2869652943,
          1418871.906819682,
          1224525.983167024,
          4958816.581208097,
          3165249.1213573082,
          51186700.02758506,
          30157969.40589541,
          31332805.10529551,
          6276776.810766834,
          11744645.26068259,
          12534928.53022864,
          11369317.080812959,
          10414574.961902244,
          14839110.56322131,
          11842435.59812209,
          12477834.749295682,
          7242226.663779236,
          10362642.174230205,
          9899112.543589225,
          13235159.380119354,
          15048457.3543646,
          13153208.062650066,
          9072502.165199885,
          7830160.5031737,
          10229539.223083572,
          8814589.564116454,
          13377561.584469384,
          16307568.11288974,
          15183316.397652252,
          16975695.651039537,
          24242082.575193875,
          41127410.39359431,
          22752133.086975552,
          24522542.117378123,
          22297678.974408235,
          36627200.06280199,
          37473255.37319175,
          36369103.49404724,
          43793966.167036675,
          44970349.96825036,
          53855098.367425404,
          61389083.353381045,
          61508740.15725414,
          85029056.61613093,
          91366557.69540572,
          121947686.12779598,
          80368942.10480425,
          91026691.33999592,
          112485532.68510072,
          107058142.69487241,
          87169571.74065542,
          79203153.16888192,
          74710425.9069808,
          73637769.19133817,
          63357952.69160543,
          67398943.07465476,
          104808969.29240032,
          104331084.22959013,
          117812450.48802675,
          193357472.47451833,
          146898572.53358725,
          238234901.29140693,
          245038626.33164433,
          170342877.03730473
         ],
         "yaxis": "y"
        }
       ],
       "layout": {
        "legend": {
         "title": {
          "text": "variable"
         },
         "tracegroupgap": 0
        },
        "template": {
         "data": {
          "bar": [
           {
            "error_x": {
             "color": "#2a3f5f"
            },
            "error_y": {
             "color": "#2a3f5f"
            },
            "marker": {
             "line": {
              "color": "#E5ECF6",
              "width": 0.5
             },
             "pattern": {
              "fillmode": "overlay",
              "size": 10,
              "solidity": 0.2
             }
            },
            "type": "bar"
           }
          ],
          "barpolar": [
           {
            "marker": {
             "line": {
              "color": "#E5ECF6",
              "width": 0.5
             },
             "pattern": {
              "fillmode": "overlay",
              "size": 10,
              "solidity": 0.2
             }
            },
            "type": "barpolar"
           }
          ],
          "carpet": [
           {
            "aaxis": {
             "endlinecolor": "#2a3f5f",
             "gridcolor": "white",
             "linecolor": "white",
             "minorgridcolor": "white",
             "startlinecolor": "#2a3f5f"
            },
            "baxis": {
             "endlinecolor": "#2a3f5f",
             "gridcolor": "white",
             "linecolor": "white",
             "minorgridcolor": "white",
             "startlinecolor": "#2a3f5f"
            },
            "type": "carpet"
           }
          ],
          "choropleth": [
           {
            "colorbar": {
             "outlinewidth": 0,
             "ticks": ""
            },
            "type": "choropleth"
           }
          ],
          "contour": [
           {
            "colorbar": {
             "outlinewidth": 0,
             "ticks": ""
            },
            "colorscale": [
             [
              0,
              "#0d0887"
             ],
             [
              0.1111111111111111,
              "#46039f"
             ],
             [
              0.2222222222222222,
              "#7201a8"
             ],
             [
              0.3333333333333333,
              "#9c179e"
             ],
             [
              0.4444444444444444,
              "#bd3786"
             ],
             [
              0.5555555555555556,
              "#d8576b"
             ],
             [
              0.6666666666666666,
              "#ed7953"
             ],
             [
              0.7777777777777778,
              "#fb9f3a"
             ],
             [
              0.8888888888888888,
              "#fdca26"
             ],
             [
              1,
              "#f0f921"
             ]
            ],
            "type": "contour"
           }
          ],
          "contourcarpet": [
           {
            "colorbar": {
             "outlinewidth": 0,
             "ticks": ""
            },
            "type": "contourcarpet"
           }
          ],
          "heatmap": [
           {
            "colorbar": {
             "outlinewidth": 0,
             "ticks": ""
            },
            "colorscale": [
             [
              0,
              "#0d0887"
             ],
             [
              0.1111111111111111,
              "#46039f"
             ],
             [
              0.2222222222222222,
              "#7201a8"
             ],
             [
              0.3333333333333333,
              "#9c179e"
             ],
             [
              0.4444444444444444,
              "#bd3786"
             ],
             [
              0.5555555555555556,
              "#d8576b"
             ],
             [
              0.6666666666666666,
              "#ed7953"
             ],
             [
              0.7777777777777778,
              "#fb9f3a"
             ],
             [
              0.8888888888888888,
              "#fdca26"
             ],
             [
              1,
              "#f0f921"
             ]
            ],
            "type": "heatmap"
           }
          ],
          "heatmapgl": [
           {
            "colorbar": {
             "outlinewidth": 0,
             "ticks": ""
            },
            "colorscale": [
             [
              0,
              "#0d0887"
             ],
             [
              0.1111111111111111,
              "#46039f"
             ],
             [
              0.2222222222222222,
              "#7201a8"
             ],
             [
              0.3333333333333333,
              "#9c179e"
             ],
             [
              0.4444444444444444,
              "#bd3786"
             ],
             [
              0.5555555555555556,
              "#d8576b"
             ],
             [
              0.6666666666666666,
              "#ed7953"
             ],
             [
              0.7777777777777778,
              "#fb9f3a"
             ],
             [
              0.8888888888888888,
              "#fdca26"
             ],
             [
              1,
              "#f0f921"
             ]
            ],
            "type": "heatmapgl"
           }
          ],
          "histogram": [
           {
            "marker": {
             "pattern": {
              "fillmode": "overlay",
              "size": 10,
              "solidity": 0.2
             }
            },
            "type": "histogram"
           }
          ],
          "histogram2d": [
           {
            "colorbar": {
             "outlinewidth": 0,
             "ticks": ""
            },
            "colorscale": [
             [
              0,
              "#0d0887"
             ],
             [
              0.1111111111111111,
              "#46039f"
             ],
             [
              0.2222222222222222,
              "#7201a8"
             ],
             [
              0.3333333333333333,
              "#9c179e"
             ],
             [
              0.4444444444444444,
              "#bd3786"
             ],
             [
              0.5555555555555556,
              "#d8576b"
             ],
             [
              0.6666666666666666,
              "#ed7953"
             ],
             [
              0.7777777777777778,
              "#fb9f3a"
             ],
             [
              0.8888888888888888,
              "#fdca26"
             ],
             [
              1,
              "#f0f921"
             ]
            ],
            "type": "histogram2d"
           }
          ],
          "histogram2dcontour": [
           {
            "colorbar": {
             "outlinewidth": 0,
             "ticks": ""
            },
            "colorscale": [
             [
              0,
              "#0d0887"
             ],
             [
              0.1111111111111111,
              "#46039f"
             ],
             [
              0.2222222222222222,
              "#7201a8"
             ],
             [
              0.3333333333333333,
              "#9c179e"
             ],
             [
              0.4444444444444444,
              "#bd3786"
             ],
             [
              0.5555555555555556,
              "#d8576b"
             ],
             [
              0.6666666666666666,
              "#ed7953"
             ],
             [
              0.7777777777777778,
              "#fb9f3a"
             ],
             [
              0.8888888888888888,
              "#fdca26"
             ],
             [
              1,
              "#f0f921"
             ]
            ],
            "type": "histogram2dcontour"
           }
          ],
          "mesh3d": [
           {
            "colorbar": {
             "outlinewidth": 0,
             "ticks": ""
            },
            "type": "mesh3d"
           }
          ],
          "parcoords": [
           {
            "line": {
             "colorbar": {
              "outlinewidth": 0,
              "ticks": ""
             }
            },
            "type": "parcoords"
           }
          ],
          "pie": [
           {
            "automargin": true,
            "type": "pie"
           }
          ],
          "scatter": [
           {
            "fillpattern": {
             "fillmode": "overlay",
             "size": 10,
             "solidity": 0.2
            },
            "type": "scatter"
           }
          ],
          "scatter3d": [
           {
            "line": {
             "colorbar": {
              "outlinewidth": 0,
              "ticks": ""
             }
            },
            "marker": {
             "colorbar": {
              "outlinewidth": 0,
              "ticks": ""
             }
            },
            "type": "scatter3d"
           }
          ],
          "scattercarpet": [
           {
            "marker": {
             "colorbar": {
              "outlinewidth": 0,
              "ticks": ""
             }
            },
            "type": "scattercarpet"
           }
          ],
          "scattergeo": [
           {
            "marker": {
             "colorbar": {
              "outlinewidth": 0,
              "ticks": ""
             }
            },
            "type": "scattergeo"
           }
          ],
          "scattergl": [
           {
            "marker": {
             "colorbar": {
              "outlinewidth": 0,
              "ticks": ""
             }
            },
            "type": "scattergl"
           }
          ],
          "scattermapbox": [
           {
            "marker": {
             "colorbar": {
              "outlinewidth": 0,
              "ticks": ""
             }
            },
            "type": "scattermapbox"
           }
          ],
          "scatterpolar": [
           {
            "marker": {
             "colorbar": {
              "outlinewidth": 0,
              "ticks": ""
             }
            },
            "type": "scatterpolar"
           }
          ],
          "scatterpolargl": [
           {
            "marker": {
             "colorbar": {
              "outlinewidth": 0,
              "ticks": ""
             }
            },
            "type": "scatterpolargl"
           }
          ],
          "scatterternary": [
           {
            "marker": {
             "colorbar": {
              "outlinewidth": 0,
              "ticks": ""
             }
            },
            "type": "scatterternary"
           }
          ],
          "surface": [
           {
            "colorbar": {
             "outlinewidth": 0,
             "ticks": ""
            },
            "colorscale": [
             [
              0,
              "#0d0887"
             ],
             [
              0.1111111111111111,
              "#46039f"
             ],
             [
              0.2222222222222222,
              "#7201a8"
             ],
             [
              0.3333333333333333,
              "#9c179e"
             ],
             [
              0.4444444444444444,
              "#bd3786"
             ],
             [
              0.5555555555555556,
              "#d8576b"
             ],
             [
              0.6666666666666666,
              "#ed7953"
             ],
             [
              0.7777777777777778,
              "#fb9f3a"
             ],
             [
              0.8888888888888888,
              "#fdca26"
             ],
             [
              1,
              "#f0f921"
             ]
            ],
            "type": "surface"
           }
          ],
          "table": [
           {
            "cells": {
             "fill": {
              "color": "#EBF0F8"
             },
             "line": {
              "color": "white"
             }
            },
            "header": {
             "fill": {
              "color": "#C8D4E3"
             },
             "line": {
              "color": "white"
             }
            },
            "type": "table"
           }
          ]
         },
         "layout": {
          "annotationdefaults": {
           "arrowcolor": "#2a3f5f",
           "arrowhead": 0,
           "arrowwidth": 1
          },
          "autotypenumbers": "strict",
          "coloraxis": {
           "colorbar": {
            "outlinewidth": 0,
            "ticks": ""
           }
          },
          "colorscale": {
           "diverging": [
            [
             0,
             "#8e0152"
            ],
            [
             0.1,
             "#c51b7d"
            ],
            [
             0.2,
             "#de77ae"
            ],
            [
             0.3,
             "#f1b6da"
            ],
            [
             0.4,
             "#fde0ef"
            ],
            [
             0.5,
             "#f7f7f7"
            ],
            [
             0.6,
             "#e6f5d0"
            ],
            [
             0.7,
             "#b8e186"
            ],
            [
             0.8,
             "#7fbc41"
            ],
            [
             0.9,
             "#4d9221"
            ],
            [
             1,
             "#276419"
            ]
           ],
           "sequential": [
            [
             0,
             "#0d0887"
            ],
            [
             0.1111111111111111,
             "#46039f"
            ],
            [
             0.2222222222222222,
             "#7201a8"
            ],
            [
             0.3333333333333333,
             "#9c179e"
            ],
            [
             0.4444444444444444,
             "#bd3786"
            ],
            [
             0.5555555555555556,
             "#d8576b"
            ],
            [
             0.6666666666666666,
             "#ed7953"
            ],
            [
             0.7777777777777778,
             "#fb9f3a"
            ],
            [
             0.8888888888888888,
             "#fdca26"
            ],
            [
             1,
             "#f0f921"
            ]
           ],
           "sequentialminus": [
            [
             0,
             "#0d0887"
            ],
            [
             0.1111111111111111,
             "#46039f"
            ],
            [
             0.2222222222222222,
             "#7201a8"
            ],
            [
             0.3333333333333333,
             "#9c179e"
            ],
            [
             0.4444444444444444,
             "#bd3786"
            ],
            [
             0.5555555555555556,
             "#d8576b"
            ],
            [
             0.6666666666666666,
             "#ed7953"
            ],
            [
             0.7777777777777778,
             "#fb9f3a"
            ],
            [
             0.8888888888888888,
             "#fdca26"
            ],
            [
             1,
             "#f0f921"
            ]
           ]
          },
          "colorway": [
           "#636efa",
           "#EF553B",
           "#00cc96",
           "#ab63fa",
           "#FFA15A",
           "#19d3f3",
           "#FF6692",
           "#B6E880",
           "#FF97FF",
           "#FECB52"
          ],
          "font": {
           "color": "#2a3f5f"
          },
          "geo": {
           "bgcolor": "white",
           "lakecolor": "white",
           "landcolor": "#E5ECF6",
           "showlakes": true,
           "showland": true,
           "subunitcolor": "white"
          },
          "hoverlabel": {
           "align": "left"
          },
          "hovermode": "closest",
          "mapbox": {
           "style": "light"
          },
          "paper_bgcolor": "white",
          "plot_bgcolor": "#E5ECF6",
          "polar": {
           "angularaxis": {
            "gridcolor": "white",
            "linecolor": "white",
            "ticks": ""
           },
           "bgcolor": "#E5ECF6",
           "radialaxis": {
            "gridcolor": "white",
            "linecolor": "white",
            "ticks": ""
           }
          },
          "scene": {
           "xaxis": {
            "backgroundcolor": "#E5ECF6",
            "gridcolor": "white",
            "gridwidth": 2,
            "linecolor": "white",
            "showbackground": true,
            "ticks": "",
            "zerolinecolor": "white"
           },
           "yaxis": {
            "backgroundcolor": "#E5ECF6",
            "gridcolor": "white",
            "gridwidth": 2,
            "linecolor": "white",
            "showbackground": true,
            "ticks": "",
            "zerolinecolor": "white"
           },
           "zaxis": {
            "backgroundcolor": "#E5ECF6",
            "gridcolor": "white",
            "gridwidth": 2,
            "linecolor": "white",
            "showbackground": true,
            "ticks": "",
            "zerolinecolor": "white"
           }
          },
          "shapedefaults": {
           "line": {
            "color": "#2a3f5f"
           }
          },
          "ternary": {
           "aaxis": {
            "gridcolor": "white",
            "linecolor": "white",
            "ticks": ""
           },
           "baxis": {
            "gridcolor": "white",
            "linecolor": "white",
            "ticks": ""
           },
           "bgcolor": "#E5ECF6",
           "caxis": {
            "gridcolor": "white",
            "linecolor": "white",
            "ticks": ""
           }
          },
          "title": {
           "x": 0.05
          },
          "xaxis": {
           "automargin": true,
           "gridcolor": "white",
           "linecolor": "white",
           "ticks": "",
           "title": {
            "standoff": 15
           },
           "zerolinecolor": "white",
           "zerolinewidth": 2
          },
          "yaxis": {
           "automargin": true,
           "gridcolor": "white",
           "linecolor": "white",
           "ticks": "",
           "title": {
            "standoff": 15
           },
           "zerolinecolor": "white",
           "zerolinewidth": 2
          }
         }
        },
        "title": {
         "text": "UNISWAP-V2 Volume USD"
        },
        "xaxis": {
         "anchor": "y",
         "domain": [
          0,
          1
         ],
         "title": {
          "text": "date"
         }
        },
        "yaxis": {
         "anchor": "x",
         "domain": [
          0,
          1
         ],
         "title": {
          "text": "value"
         }
        }
       }
      },
      "text/html": [
       "<div>                            <div id=\"7a648023-239e-4ccb-9060-e4b6eeaee707\" class=\"plotly-graph-div\" style=\"height:525px; width:100%;\"></div>            <script type=\"text/javascript\">                require([\"plotly\"], function(Plotly) {                    window.PLOTLYENV=window.PLOTLYENV || {};                                    if (document.getElementById(\"7a648023-239e-4ccb-9060-e4b6eeaee707\")) {                    Plotly.newPlot(                        \"7a648023-239e-4ccb-9060-e4b6eeaee707\",                        [{\"hovertemplate\":\"variable=volumeUSD<br>date=%{x}<br>value=%{y}<extra></extra>\",\"legendgroup\":\"volumeUSD\",\"line\":{\"color\":\"#636efa\",\"dash\":\"solid\"},\"marker\":{\"symbol\":\"circle\"},\"mode\":\"lines\",\"name\":\"volumeUSD\",\"orientation\":\"v\",\"showlegend\":true,\"x\":[\"2020-05-05T03:00:00\",\"2020-05-06T03:00:00\",\"2020-05-07T03:00:00\",\"2020-05-08T03:00:00\",\"2020-05-11T03:00:00\",\"2020-05-12T03:00:00\",\"2020-05-13T03:00:00\",\"2020-05-14T03:00:00\",\"2020-05-15T03:00:00\",\"2020-05-16T03:00:00\",\"2020-05-17T03:00:00\",\"2020-05-18T03:00:00\",\"2020-05-19T03:00:00\",\"2020-05-20T03:00:00\",\"2020-05-21T03:00:00\",\"2020-05-22T03:00:00\",\"2020-05-23T03:00:00\",\"2020-05-24T03:00:00\",\"2020-05-25T03:00:00\",\"2020-05-26T03:00:00\",\"2020-05-27T03:00:00\",\"2020-05-28T03:00:00\",\"2020-05-29T03:00:00\",\"2020-05-30T03:00:00\",\"2020-05-31T03:00:00\",\"2020-06-01T03:00:00\",\"2020-06-02T03:00:00\",\"2020-06-03T03:00:00\",\"2020-06-04T03:00:00\",\"2020-06-05T03:00:00\",\"2020-06-06T03:00:00\",\"2020-06-07T03:00:00\",\"2020-06-08T03:00:00\",\"2020-06-09T03:00:00\",\"2020-06-10T03:00:00\",\"2020-06-11T03:00:00\",\"2020-06-12T03:00:00\",\"2020-06-13T03:00:00\",\"2020-06-14T03:00:00\",\"2020-06-15T03:00:00\",\"2020-06-16T03:00:00\",\"2020-06-17T03:00:00\",\"2020-06-18T03:00:00\",\"2020-06-19T03:00:00\",\"2020-06-20T03:00:00\",\"2020-06-21T03:00:00\",\"2020-06-22T03:00:00\",\"2020-06-23T03:00:00\",\"2020-06-24T03:00:00\",\"2020-06-25T03:00:00\",\"2020-06-26T03:00:00\",\"2020-06-27T03:00:00\",\"2020-06-28T03:00:00\",\"2020-06-29T03:00:00\",\"2020-06-30T03:00:00\",\"2020-07-01T03:00:00\",\"2020-07-02T03:00:00\",\"2020-07-03T03:00:00\",\"2020-07-04T03:00:00\",\"2020-07-05T03:00:00\",\"2020-07-06T03:00:00\",\"2020-07-07T03:00:00\",\"2020-07-08T03:00:00\",\"2020-07-09T03:00:00\",\"2020-07-10T03:00:00\",\"2020-07-11T03:00:00\",\"2020-07-12T03:00:00\",\"2020-07-13T03:00:00\",\"2020-07-14T03:00:00\",\"2020-07-15T03:00:00\",\"2020-07-16T03:00:00\",\"2020-07-17T03:00:00\",\"2020-07-18T03:00:00\",\"2020-07-19T03:00:00\",\"2020-07-20T03:00:00\",\"2020-07-21T03:00:00\",\"2020-07-22T03:00:00\",\"2020-07-23T03:00:00\",\"2020-07-24T03:00:00\",\"2020-07-25T03:00:00\",\"2020-07-26T03:00:00\",\"2020-07-27T03:00:00\",\"2020-07-28T03:00:00\",\"2020-07-29T03:00:00\",\"2020-07-30T03:00:00\",\"2020-07-31T03:00:00\",\"2020-08-01T03:00:00\",\"2020-08-02T03:00:00\",\"2020-08-03T03:00:00\",\"2020-08-04T03:00:00\",\"2020-08-05T03:00:00\",\"2020-08-06T03:00:00\",\"2020-08-07T03:00:00\",\"2020-08-08T03:00:00\",\"2020-08-09T03:00:00\",\"2020-08-10T03:00:00\",\"2020-08-11T03:00:00\",\"2020-08-12T03:00:00\",\"2020-08-13T03:00:00\",\"2020-08-14T03:00:00\"],\"xaxis\":\"x\",\"y\":[0.0,0.0,0.0,0.0,0.0,0.0,0.0,0.0,0.0,0.0,0.0,0.0,38046.08279573812,250868.9786409113,484247.5073567983,345799.2098251618,297187.985685404,592574.4187574118,259997.64354590632,341621.0455902897,291084.42305211467,590599.9952291688,1509136.7357076094,1244635.9956744714,1121430.564857198,1318285.8744959326,1900322.269080958,1039106.394954851,1109304.0353377715,949848.4938664433,962560.2956703706,1313947.4999442413,1668961.870390981,3157435.228062021,2467230.855036462,4839095.476555667,1579740.2869652943,1418871.906819682,1224525.983167024,4958816.581208097,3165249.1213573082,51186700.02758506,30157969.40589541,31332805.10529551,6276776.810766834,11744645.26068259,12534928.53022864,11369317.080812959,10414574.961902244,14839110.56322131,11842435.59812209,12477834.749295682,7242226.663779236,10362642.174230205,9899112.543589225,13235159.380119354,15048457.3543646,13153208.062650066,9072502.165199885,7830160.5031737,10229539.223083572,8814589.564116454,13377561.584469384,16307568.11288974,15183316.397652252,16975695.651039537,24242082.575193875,41127410.39359431,22752133.086975552,24522542.117378123,22297678.974408235,36627200.06280199,37473255.37319175,36369103.49404724,43793966.167036675,44970349.96825036,53855098.367425404,61389083.353381045,61508740.15725414,85029056.61613093,91366557.69540572,121947686.12779598,80368942.10480425,91026691.33999592,112485532.68510072,107058142.69487241,87169571.74065542,79203153.16888192,74710425.9069808,73637769.19133817,63357952.69160543,67398943.07465476,104808969.29240032,104331084.22959013,117812450.48802675,193357472.47451833,146898572.53358725,238234901.29140693,245038626.33164433,170342877.03730473],\"yaxis\":\"y\",\"type\":\"scatter\"}],                        {\"template\":{\"data\":{\"histogram2dcontour\":[{\"type\":\"histogram2dcontour\",\"colorbar\":{\"outlinewidth\":0,\"ticks\":\"\"},\"colorscale\":[[0.0,\"#0d0887\"],[0.1111111111111111,\"#46039f\"],[0.2222222222222222,\"#7201a8\"],[0.3333333333333333,\"#9c179e\"],[0.4444444444444444,\"#bd3786\"],[0.5555555555555556,\"#d8576b\"],[0.6666666666666666,\"#ed7953\"],[0.7777777777777778,\"#fb9f3a\"],[0.8888888888888888,\"#fdca26\"],[1.0,\"#f0f921\"]]}],\"choropleth\":[{\"type\":\"choropleth\",\"colorbar\":{\"outlinewidth\":0,\"ticks\":\"\"}}],\"histogram2d\":[{\"type\":\"histogram2d\",\"colorbar\":{\"outlinewidth\":0,\"ticks\":\"\"},\"colorscale\":[[0.0,\"#0d0887\"],[0.1111111111111111,\"#46039f\"],[0.2222222222222222,\"#7201a8\"],[0.3333333333333333,\"#9c179e\"],[0.4444444444444444,\"#bd3786\"],[0.5555555555555556,\"#d8576b\"],[0.6666666666666666,\"#ed7953\"],[0.7777777777777778,\"#fb9f3a\"],[0.8888888888888888,\"#fdca26\"],[1.0,\"#f0f921\"]]}],\"heatmap\":[{\"type\":\"heatmap\",\"colorbar\":{\"outlinewidth\":0,\"ticks\":\"\"},\"colorscale\":[[0.0,\"#0d0887\"],[0.1111111111111111,\"#46039f\"],[0.2222222222222222,\"#7201a8\"],[0.3333333333333333,\"#9c179e\"],[0.4444444444444444,\"#bd3786\"],[0.5555555555555556,\"#d8576b\"],[0.6666666666666666,\"#ed7953\"],[0.7777777777777778,\"#fb9f3a\"],[0.8888888888888888,\"#fdca26\"],[1.0,\"#f0f921\"]]}],\"heatmapgl\":[{\"type\":\"heatmapgl\",\"colorbar\":{\"outlinewidth\":0,\"ticks\":\"\"},\"colorscale\":[[0.0,\"#0d0887\"],[0.1111111111111111,\"#46039f\"],[0.2222222222222222,\"#7201a8\"],[0.3333333333333333,\"#9c179e\"],[0.4444444444444444,\"#bd3786\"],[0.5555555555555556,\"#d8576b\"],[0.6666666666666666,\"#ed7953\"],[0.7777777777777778,\"#fb9f3a\"],[0.8888888888888888,\"#fdca26\"],[1.0,\"#f0f921\"]]}],\"contourcarpet\":[{\"type\":\"contourcarpet\",\"colorbar\":{\"outlinewidth\":0,\"ticks\":\"\"}}],\"contour\":[{\"type\":\"contour\",\"colorbar\":{\"outlinewidth\":0,\"ticks\":\"\"},\"colorscale\":[[0.0,\"#0d0887\"],[0.1111111111111111,\"#46039f\"],[0.2222222222222222,\"#7201a8\"],[0.3333333333333333,\"#9c179e\"],[0.4444444444444444,\"#bd3786\"],[0.5555555555555556,\"#d8576b\"],[0.6666666666666666,\"#ed7953\"],[0.7777777777777778,\"#fb9f3a\"],[0.8888888888888888,\"#fdca26\"],[1.0,\"#f0f921\"]]}],\"surface\":[{\"type\":\"surface\",\"colorbar\":{\"outlinewidth\":0,\"ticks\":\"\"},\"colorscale\":[[0.0,\"#0d0887\"],[0.1111111111111111,\"#46039f\"],[0.2222222222222222,\"#7201a8\"],[0.3333333333333333,\"#9c179e\"],[0.4444444444444444,\"#bd3786\"],[0.5555555555555556,\"#d8576b\"],[0.6666666666666666,\"#ed7953\"],[0.7777777777777778,\"#fb9f3a\"],[0.8888888888888888,\"#fdca26\"],[1.0,\"#f0f921\"]]}],\"mesh3d\":[{\"type\":\"mesh3d\",\"colorbar\":{\"outlinewidth\":0,\"ticks\":\"\"}}],\"scatter\":[{\"fillpattern\":{\"fillmode\":\"overlay\",\"size\":10,\"solidity\":0.2},\"type\":\"scatter\"}],\"parcoords\":[{\"type\":\"parcoords\",\"line\":{\"colorbar\":{\"outlinewidth\":0,\"ticks\":\"\"}}}],\"scatterpolargl\":[{\"type\":\"scatterpolargl\",\"marker\":{\"colorbar\":{\"outlinewidth\":0,\"ticks\":\"\"}}}],\"bar\":[{\"error_x\":{\"color\":\"#2a3f5f\"},\"error_y\":{\"color\":\"#2a3f5f\"},\"marker\":{\"line\":{\"color\":\"#E5ECF6\",\"width\":0.5},\"pattern\":{\"fillmode\":\"overlay\",\"size\":10,\"solidity\":0.2}},\"type\":\"bar\"}],\"scattergeo\":[{\"type\":\"scattergeo\",\"marker\":{\"colorbar\":{\"outlinewidth\":0,\"ticks\":\"\"}}}],\"scatterpolar\":[{\"type\":\"scatterpolar\",\"marker\":{\"colorbar\":{\"outlinewidth\":0,\"ticks\":\"\"}}}],\"histogram\":[{\"marker\":{\"pattern\":{\"fillmode\":\"overlay\",\"size\":10,\"solidity\":0.2}},\"type\":\"histogram\"}],\"scattergl\":[{\"type\":\"scattergl\",\"marker\":{\"colorbar\":{\"outlinewidth\":0,\"ticks\":\"\"}}}],\"scatter3d\":[{\"type\":\"scatter3d\",\"line\":{\"colorbar\":{\"outlinewidth\":0,\"ticks\":\"\"}},\"marker\":{\"colorbar\":{\"outlinewidth\":0,\"ticks\":\"\"}}}],\"scattermapbox\":[{\"type\":\"scattermapbox\",\"marker\":{\"colorbar\":{\"outlinewidth\":0,\"ticks\":\"\"}}}],\"scatterternary\":[{\"type\":\"scatterternary\",\"marker\":{\"colorbar\":{\"outlinewidth\":0,\"ticks\":\"\"}}}],\"scattercarpet\":[{\"type\":\"scattercarpet\",\"marker\":{\"colorbar\":{\"outlinewidth\":0,\"ticks\":\"\"}}}],\"carpet\":[{\"aaxis\":{\"endlinecolor\":\"#2a3f5f\",\"gridcolor\":\"white\",\"linecolor\":\"white\",\"minorgridcolor\":\"white\",\"startlinecolor\":\"#2a3f5f\"},\"baxis\":{\"endlinecolor\":\"#2a3f5f\",\"gridcolor\":\"white\",\"linecolor\":\"white\",\"minorgridcolor\":\"white\",\"startlinecolor\":\"#2a3f5f\"},\"type\":\"carpet\"}],\"table\":[{\"cells\":{\"fill\":{\"color\":\"#EBF0F8\"},\"line\":{\"color\":\"white\"}},\"header\":{\"fill\":{\"color\":\"#C8D4E3\"},\"line\":{\"color\":\"white\"}},\"type\":\"table\"}],\"barpolar\":[{\"marker\":{\"line\":{\"color\":\"#E5ECF6\",\"width\":0.5},\"pattern\":{\"fillmode\":\"overlay\",\"size\":10,\"solidity\":0.2}},\"type\":\"barpolar\"}],\"pie\":[{\"automargin\":true,\"type\":\"pie\"}]},\"layout\":{\"autotypenumbers\":\"strict\",\"colorway\":[\"#636efa\",\"#EF553B\",\"#00cc96\",\"#ab63fa\",\"#FFA15A\",\"#19d3f3\",\"#FF6692\",\"#B6E880\",\"#FF97FF\",\"#FECB52\"],\"font\":{\"color\":\"#2a3f5f\"},\"hovermode\":\"closest\",\"hoverlabel\":{\"align\":\"left\"},\"paper_bgcolor\":\"white\",\"plot_bgcolor\":\"#E5ECF6\",\"polar\":{\"bgcolor\":\"#E5ECF6\",\"angularaxis\":{\"gridcolor\":\"white\",\"linecolor\":\"white\",\"ticks\":\"\"},\"radialaxis\":{\"gridcolor\":\"white\",\"linecolor\":\"white\",\"ticks\":\"\"}},\"ternary\":{\"bgcolor\":\"#E5ECF6\",\"aaxis\":{\"gridcolor\":\"white\",\"linecolor\":\"white\",\"ticks\":\"\"},\"baxis\":{\"gridcolor\":\"white\",\"linecolor\":\"white\",\"ticks\":\"\"},\"caxis\":{\"gridcolor\":\"white\",\"linecolor\":\"white\",\"ticks\":\"\"}},\"coloraxis\":{\"colorbar\":{\"outlinewidth\":0,\"ticks\":\"\"}},\"colorscale\":{\"sequential\":[[0.0,\"#0d0887\"],[0.1111111111111111,\"#46039f\"],[0.2222222222222222,\"#7201a8\"],[0.3333333333333333,\"#9c179e\"],[0.4444444444444444,\"#bd3786\"],[0.5555555555555556,\"#d8576b\"],[0.6666666666666666,\"#ed7953\"],[0.7777777777777778,\"#fb9f3a\"],[0.8888888888888888,\"#fdca26\"],[1.0,\"#f0f921\"]],\"sequentialminus\":[[0.0,\"#0d0887\"],[0.1111111111111111,\"#46039f\"],[0.2222222222222222,\"#7201a8\"],[0.3333333333333333,\"#9c179e\"],[0.4444444444444444,\"#bd3786\"],[0.5555555555555556,\"#d8576b\"],[0.6666666666666666,\"#ed7953\"],[0.7777777777777778,\"#fb9f3a\"],[0.8888888888888888,\"#fdca26\"],[1.0,\"#f0f921\"]],\"diverging\":[[0,\"#8e0152\"],[0.1,\"#c51b7d\"],[0.2,\"#de77ae\"],[0.3,\"#f1b6da\"],[0.4,\"#fde0ef\"],[0.5,\"#f7f7f7\"],[0.6,\"#e6f5d0\"],[0.7,\"#b8e186\"],[0.8,\"#7fbc41\"],[0.9,\"#4d9221\"],[1,\"#276419\"]]},\"xaxis\":{\"gridcolor\":\"white\",\"linecolor\":\"white\",\"ticks\":\"\",\"title\":{\"standoff\":15},\"zerolinecolor\":\"white\",\"automargin\":true,\"zerolinewidth\":2},\"yaxis\":{\"gridcolor\":\"white\",\"linecolor\":\"white\",\"ticks\":\"\",\"title\":{\"standoff\":15},\"zerolinecolor\":\"white\",\"automargin\":true,\"zerolinewidth\":2},\"scene\":{\"xaxis\":{\"backgroundcolor\":\"#E5ECF6\",\"gridcolor\":\"white\",\"linecolor\":\"white\",\"showbackground\":true,\"ticks\":\"\",\"zerolinecolor\":\"white\",\"gridwidth\":2},\"yaxis\":{\"backgroundcolor\":\"#E5ECF6\",\"gridcolor\":\"white\",\"linecolor\":\"white\",\"showbackground\":true,\"ticks\":\"\",\"zerolinecolor\":\"white\",\"gridwidth\":2},\"zaxis\":{\"backgroundcolor\":\"#E5ECF6\",\"gridcolor\":\"white\",\"linecolor\":\"white\",\"showbackground\":true,\"ticks\":\"\",\"zerolinecolor\":\"white\",\"gridwidth\":2}},\"shapedefaults\":{\"line\":{\"color\":\"#2a3f5f\"}},\"annotationdefaults\":{\"arrowcolor\":\"#2a3f5f\",\"arrowhead\":0,\"arrowwidth\":1},\"geo\":{\"bgcolor\":\"white\",\"landcolor\":\"#E5ECF6\",\"subunitcolor\":\"white\",\"showland\":true,\"showlakes\":true,\"lakecolor\":\"white\"},\"title\":{\"x\":0.05},\"mapbox\":{\"style\":\"light\"}}},\"xaxis\":{\"anchor\":\"y\",\"domain\":[0.0,1.0],\"title\":{\"text\":\"date\"}},\"yaxis\":{\"anchor\":\"x\",\"domain\":[0.0,1.0],\"title\":{\"text\":\"value\"}},\"legend\":{\"title\":{\"text\":\"variable\"},\"tracegroupgap\":0},\"title\":{\"text\":\"UNISWAP-V2 Volume USD\"}},                        {\"responsive\": true}                    ).then(function(){\n",
       "                            \n",
       "var gd = document.getElementById('7a648023-239e-4ccb-9060-e4b6eeaee707');\n",
       "var x = new MutationObserver(function (mutations, observer) {{\n",
       "        var display = window.getComputedStyle(gd).display;\n",
       "        if (!display || display === 'none') {{\n",
       "            console.log([gd, 'removed!']);\n",
       "            Plotly.purge(gd);\n",
       "            observer.disconnect();\n",
       "        }}\n",
       "}});\n",
       "\n",
       "// Listen for the removal of the full notebook cells\n",
       "var notebookContainer = gd.closest('#notebook-container');\n",
       "if (notebookContainer) {{\n",
       "    x.observe(notebookContainer, {childList: true});\n",
       "}}\n",
       "\n",
       "// Listen for the clearing of the current output cell\n",
       "var outputEl = gd.closest('.output');\n",
       "if (outputEl) {{\n",
       "    x.observe(outputEl, {childList: true});\n",
       "}}\n",
       "\n",
       "                        })                };                });            </script>        </div>"
      ]
     },
     "metadata": {},
     "output_type": "display_data"
    }
   ],
   "source": [
    "df_uniswap['volumeUSD'] = df_uniswap['volumeUSD'].astype(float)\n",
    "px.line(df_uniswap.sort_values('date'), x = 'date', y = ['volumeUSD'], title=\"UNISWAP-V2 Volume USD\")"
   ]
  },
  {
   "cell_type": "code",
   "execution_count": 103,
   "metadata": {},
   "outputs": [
    {
     "data": {
      "application/vnd.plotly.v1+json": {
       "config": {
        "plotlyServerURL": "https://plot.ly"
       },
       "data": [
        {
         "hovertemplate": "variable=tvlUSD<br>date=%{x}<br>value=%{y}<extra></extra>",
         "legendgroup": "tvlUSD",
         "line": {
          "color": "#636efa",
          "dash": "solid"
         },
         "marker": {
          "symbol": "circle"
         },
         "mode": "lines",
         "name": "tvlUSD",
         "orientation": "v",
         "showlegend": true,
         "type": "scatter",
         "x": [
          "2020-05-05T03:00:00",
          "2020-05-06T03:00:00",
          "2020-05-07T03:00:00",
          "2020-05-08T03:00:00",
          "2020-05-11T03:00:00",
          "2020-05-12T03:00:00",
          "2020-05-13T03:00:00",
          "2020-05-14T03:00:00",
          "2020-05-15T03:00:00",
          "2020-05-16T03:00:00",
          "2020-05-17T03:00:00",
          "2020-05-18T03:00:00",
          "2020-05-19T03:00:00",
          "2020-05-20T03:00:00",
          "2020-05-21T03:00:00",
          "2020-05-22T03:00:00",
          "2020-05-23T03:00:00",
          "2020-05-24T03:00:00",
          "2020-05-25T03:00:00",
          "2020-05-26T03:00:00",
          "2020-05-27T03:00:00",
          "2020-05-28T03:00:00",
          "2020-05-29T03:00:00",
          "2020-05-30T03:00:00",
          "2020-05-31T03:00:00",
          "2020-06-01T03:00:00",
          "2020-06-02T03:00:00",
          "2020-06-03T03:00:00",
          "2020-06-04T03:00:00",
          "2020-06-05T03:00:00",
          "2020-06-06T03:00:00",
          "2020-06-07T03:00:00",
          "2020-06-08T03:00:00",
          "2020-06-09T03:00:00",
          "2020-06-10T03:00:00",
          "2020-06-11T03:00:00",
          "2020-06-12T03:00:00",
          "2020-06-13T03:00:00",
          "2020-06-14T03:00:00",
          "2020-06-15T03:00:00",
          "2020-06-16T03:00:00",
          "2020-06-17T03:00:00",
          "2020-06-18T03:00:00",
          "2020-06-19T03:00:00",
          "2020-06-20T03:00:00",
          "2020-06-21T03:00:00",
          "2020-06-22T03:00:00",
          "2020-06-23T03:00:00",
          "2020-06-24T03:00:00",
          "2020-06-25T03:00:00",
          "2020-06-26T03:00:00",
          "2020-06-27T03:00:00",
          "2020-06-28T03:00:00",
          "2020-06-29T03:00:00",
          "2020-06-30T03:00:00",
          "2020-07-01T03:00:00",
          "2020-07-02T03:00:00",
          "2020-07-03T03:00:00",
          "2020-07-04T03:00:00",
          "2020-07-05T03:00:00",
          "2020-07-06T03:00:00",
          "2020-07-07T03:00:00",
          "2020-07-08T03:00:00",
          "2020-07-09T03:00:00",
          "2020-07-10T03:00:00",
          "2020-07-11T03:00:00",
          "2020-07-12T03:00:00",
          "2020-07-13T03:00:00",
          "2020-07-14T03:00:00",
          "2020-07-15T03:00:00",
          "2020-07-16T03:00:00",
          "2020-07-17T03:00:00",
          "2020-07-18T03:00:00",
          "2020-07-19T03:00:00",
          "2020-07-20T03:00:00",
          "2020-07-21T03:00:00",
          "2020-07-22T03:00:00",
          "2020-07-23T03:00:00",
          "2020-07-24T03:00:00",
          "2020-07-25T03:00:00",
          "2020-07-26T03:00:00",
          "2020-07-27T03:00:00",
          "2020-07-28T03:00:00",
          "2020-07-29T03:00:00",
          "2020-07-30T03:00:00",
          "2020-07-31T03:00:00",
          "2020-08-01T03:00:00",
          "2020-08-02T03:00:00",
          "2020-08-03T03:00:00",
          "2020-08-04T03:00:00",
          "2020-08-05T03:00:00",
          "2020-08-06T03:00:00",
          "2020-08-07T03:00:00",
          "2020-08-08T03:00:00",
          "2020-08-09T03:00:00",
          "2020-08-10T03:00:00",
          "2020-08-11T03:00:00",
          "2020-08-12T03:00:00",
          "2020-08-13T03:00:00",
          "2020-08-14T03:00:00"
         ],
         "xaxis": "x",
         "y": [
          0.989,
          3.2059010782456117,
          3.2059043208171025,
          18.815672405471304,
          18.75575726469835,
          14.133879986083553,
          231.95512434815237,
          314.3108566667042,
          757.3190631929863,
          887.7901627703701,
          1140.4139045794443,
          1274553.9680363191,
          4653179.148398675,
          11029530.02592272,
          10804628.660420908,
          14325076.416697837,
          15019692.802295033,
          14662086.967402115,
          15143861.191013597,
          15115680.086981239,
          15758985.577237867,
          16489302.589897774,
          17170617.96019678,
          22804649.48538441,
          21925534.29693278,
          23850510.420260955,
          23612283.337412834,
          24442060.564949855,
          24450309.295804948,
          24908974.026662514,
          25378138.379630025,
          26051204.80134944,
          25135723.978982806,
          27582094.868639074,
          27915763.740189046,
          26712141.975474738,
          28335733.544561896,
          28860160.689098764,
          27865413.166793007,
          32648286.882892232,
          33397529.476930466,
          33770036.75596696,
          36036436.74851076,
          36304247.507492326,
          37512301.62099255,
          34820980.97955848,
          37744651.88071115,
          39018142.168758005,
          35007735.17577471,
          33024210.794735868,
          34083242.796283536,
          35007427.469837815,
          36070565.24158174,
          39147419.14885634,
          41228806.62875165,
          44263527.445945196,
          42126488.49152743,
          42319921.5781477,
          43250568.72805395,
          44228644.390232325,
          46994407.21840322,
          48089679.07610272,
          52934211.38952396,
          57987434.12034137,
          57554450.7399288,
          61112860.48241779,
          62899079.78483313,
          63251278.37868732,
          65487660.89871152,
          69151180.43476394,
          73915518.00551316,
          78303207.87651609,
          81133072.61924082,
          87421688.32004067,
          86912474.6809136,
          92334982.44098744,
          95317421.92790914,
          99630803.78701025,
          108275550.04223014,
          126667689.25807667,
          135311595.84209704,
          143633269.2954145,
          144754211.54002002,
          141334131.58102947,
          141945870.42044416,
          151853908.72513112,
          170021688.15632197,
          160305044.0390735,
          173454249.64950618,
          179890793.82294545,
          187698717.9554959,
          192848785.2080147,
          199910842.95531002,
          214765081.24039078,
          221720086.51206708,
          228329167.10219866,
          234843106.61060056,
          291950348.1074753,
          275424161.20359594,
          266207197.2839702
         ],
         "yaxis": "y"
        }
       ],
       "layout": {
        "legend": {
         "title": {
          "text": "variable"
         },
         "tracegroupgap": 0
        },
        "template": {
         "data": {
          "bar": [
           {
            "error_x": {
             "color": "#2a3f5f"
            },
            "error_y": {
             "color": "#2a3f5f"
            },
            "marker": {
             "line": {
              "color": "#E5ECF6",
              "width": 0.5
             },
             "pattern": {
              "fillmode": "overlay",
              "size": 10,
              "solidity": 0.2
             }
            },
            "type": "bar"
           }
          ],
          "barpolar": [
           {
            "marker": {
             "line": {
              "color": "#E5ECF6",
              "width": 0.5
             },
             "pattern": {
              "fillmode": "overlay",
              "size": 10,
              "solidity": 0.2
             }
            },
            "type": "barpolar"
           }
          ],
          "carpet": [
           {
            "aaxis": {
             "endlinecolor": "#2a3f5f",
             "gridcolor": "white",
             "linecolor": "white",
             "minorgridcolor": "white",
             "startlinecolor": "#2a3f5f"
            },
            "baxis": {
             "endlinecolor": "#2a3f5f",
             "gridcolor": "white",
             "linecolor": "white",
             "minorgridcolor": "white",
             "startlinecolor": "#2a3f5f"
            },
            "type": "carpet"
           }
          ],
          "choropleth": [
           {
            "colorbar": {
             "outlinewidth": 0,
             "ticks": ""
            },
            "type": "choropleth"
           }
          ],
          "contour": [
           {
            "colorbar": {
             "outlinewidth": 0,
             "ticks": ""
            },
            "colorscale": [
             [
              0,
              "#0d0887"
             ],
             [
              0.1111111111111111,
              "#46039f"
             ],
             [
              0.2222222222222222,
              "#7201a8"
             ],
             [
              0.3333333333333333,
              "#9c179e"
             ],
             [
              0.4444444444444444,
              "#bd3786"
             ],
             [
              0.5555555555555556,
              "#d8576b"
             ],
             [
              0.6666666666666666,
              "#ed7953"
             ],
             [
              0.7777777777777778,
              "#fb9f3a"
             ],
             [
              0.8888888888888888,
              "#fdca26"
             ],
             [
              1,
              "#f0f921"
             ]
            ],
            "type": "contour"
           }
          ],
          "contourcarpet": [
           {
            "colorbar": {
             "outlinewidth": 0,
             "ticks": ""
            },
            "type": "contourcarpet"
           }
          ],
          "heatmap": [
           {
            "colorbar": {
             "outlinewidth": 0,
             "ticks": ""
            },
            "colorscale": [
             [
              0,
              "#0d0887"
             ],
             [
              0.1111111111111111,
              "#46039f"
             ],
             [
              0.2222222222222222,
              "#7201a8"
             ],
             [
              0.3333333333333333,
              "#9c179e"
             ],
             [
              0.4444444444444444,
              "#bd3786"
             ],
             [
              0.5555555555555556,
              "#d8576b"
             ],
             [
              0.6666666666666666,
              "#ed7953"
             ],
             [
              0.7777777777777778,
              "#fb9f3a"
             ],
             [
              0.8888888888888888,
              "#fdca26"
             ],
             [
              1,
              "#f0f921"
             ]
            ],
            "type": "heatmap"
           }
          ],
          "heatmapgl": [
           {
            "colorbar": {
             "outlinewidth": 0,
             "ticks": ""
            },
            "colorscale": [
             [
              0,
              "#0d0887"
             ],
             [
              0.1111111111111111,
              "#46039f"
             ],
             [
              0.2222222222222222,
              "#7201a8"
             ],
             [
              0.3333333333333333,
              "#9c179e"
             ],
             [
              0.4444444444444444,
              "#bd3786"
             ],
             [
              0.5555555555555556,
              "#d8576b"
             ],
             [
              0.6666666666666666,
              "#ed7953"
             ],
             [
              0.7777777777777778,
              "#fb9f3a"
             ],
             [
              0.8888888888888888,
              "#fdca26"
             ],
             [
              1,
              "#f0f921"
             ]
            ],
            "type": "heatmapgl"
           }
          ],
          "histogram": [
           {
            "marker": {
             "pattern": {
              "fillmode": "overlay",
              "size": 10,
              "solidity": 0.2
             }
            },
            "type": "histogram"
           }
          ],
          "histogram2d": [
           {
            "colorbar": {
             "outlinewidth": 0,
             "ticks": ""
            },
            "colorscale": [
             [
              0,
              "#0d0887"
             ],
             [
              0.1111111111111111,
              "#46039f"
             ],
             [
              0.2222222222222222,
              "#7201a8"
             ],
             [
              0.3333333333333333,
              "#9c179e"
             ],
             [
              0.4444444444444444,
              "#bd3786"
             ],
             [
              0.5555555555555556,
              "#d8576b"
             ],
             [
              0.6666666666666666,
              "#ed7953"
             ],
             [
              0.7777777777777778,
              "#fb9f3a"
             ],
             [
              0.8888888888888888,
              "#fdca26"
             ],
             [
              1,
              "#f0f921"
             ]
            ],
            "type": "histogram2d"
           }
          ],
          "histogram2dcontour": [
           {
            "colorbar": {
             "outlinewidth": 0,
             "ticks": ""
            },
            "colorscale": [
             [
              0,
              "#0d0887"
             ],
             [
              0.1111111111111111,
              "#46039f"
             ],
             [
              0.2222222222222222,
              "#7201a8"
             ],
             [
              0.3333333333333333,
              "#9c179e"
             ],
             [
              0.4444444444444444,
              "#bd3786"
             ],
             [
              0.5555555555555556,
              "#d8576b"
             ],
             [
              0.6666666666666666,
              "#ed7953"
             ],
             [
              0.7777777777777778,
              "#fb9f3a"
             ],
             [
              0.8888888888888888,
              "#fdca26"
             ],
             [
              1,
              "#f0f921"
             ]
            ],
            "type": "histogram2dcontour"
           }
          ],
          "mesh3d": [
           {
            "colorbar": {
             "outlinewidth": 0,
             "ticks": ""
            },
            "type": "mesh3d"
           }
          ],
          "parcoords": [
           {
            "line": {
             "colorbar": {
              "outlinewidth": 0,
              "ticks": ""
             }
            },
            "type": "parcoords"
           }
          ],
          "pie": [
           {
            "automargin": true,
            "type": "pie"
           }
          ],
          "scatter": [
           {
            "fillpattern": {
             "fillmode": "overlay",
             "size": 10,
             "solidity": 0.2
            },
            "type": "scatter"
           }
          ],
          "scatter3d": [
           {
            "line": {
             "colorbar": {
              "outlinewidth": 0,
              "ticks": ""
             }
            },
            "marker": {
             "colorbar": {
              "outlinewidth": 0,
              "ticks": ""
             }
            },
            "type": "scatter3d"
           }
          ],
          "scattercarpet": [
           {
            "marker": {
             "colorbar": {
              "outlinewidth": 0,
              "ticks": ""
             }
            },
            "type": "scattercarpet"
           }
          ],
          "scattergeo": [
           {
            "marker": {
             "colorbar": {
              "outlinewidth": 0,
              "ticks": ""
             }
            },
            "type": "scattergeo"
           }
          ],
          "scattergl": [
           {
            "marker": {
             "colorbar": {
              "outlinewidth": 0,
              "ticks": ""
             }
            },
            "type": "scattergl"
           }
          ],
          "scattermapbox": [
           {
            "marker": {
             "colorbar": {
              "outlinewidth": 0,
              "ticks": ""
             }
            },
            "type": "scattermapbox"
           }
          ],
          "scatterpolar": [
           {
            "marker": {
             "colorbar": {
              "outlinewidth": 0,
              "ticks": ""
             }
            },
            "type": "scatterpolar"
           }
          ],
          "scatterpolargl": [
           {
            "marker": {
             "colorbar": {
              "outlinewidth": 0,
              "ticks": ""
             }
            },
            "type": "scatterpolargl"
           }
          ],
          "scatterternary": [
           {
            "marker": {
             "colorbar": {
              "outlinewidth": 0,
              "ticks": ""
             }
            },
            "type": "scatterternary"
           }
          ],
          "surface": [
           {
            "colorbar": {
             "outlinewidth": 0,
             "ticks": ""
            },
            "colorscale": [
             [
              0,
              "#0d0887"
             ],
             [
              0.1111111111111111,
              "#46039f"
             ],
             [
              0.2222222222222222,
              "#7201a8"
             ],
             [
              0.3333333333333333,
              "#9c179e"
             ],
             [
              0.4444444444444444,
              "#bd3786"
             ],
             [
              0.5555555555555556,
              "#d8576b"
             ],
             [
              0.6666666666666666,
              "#ed7953"
             ],
             [
              0.7777777777777778,
              "#fb9f3a"
             ],
             [
              0.8888888888888888,
              "#fdca26"
             ],
             [
              1,
              "#f0f921"
             ]
            ],
            "type": "surface"
           }
          ],
          "table": [
           {
            "cells": {
             "fill": {
              "color": "#EBF0F8"
             },
             "line": {
              "color": "white"
             }
            },
            "header": {
             "fill": {
              "color": "#C8D4E3"
             },
             "line": {
              "color": "white"
             }
            },
            "type": "table"
           }
          ]
         },
         "layout": {
          "annotationdefaults": {
           "arrowcolor": "#2a3f5f",
           "arrowhead": 0,
           "arrowwidth": 1
          },
          "autotypenumbers": "strict",
          "coloraxis": {
           "colorbar": {
            "outlinewidth": 0,
            "ticks": ""
           }
          },
          "colorscale": {
           "diverging": [
            [
             0,
             "#8e0152"
            ],
            [
             0.1,
             "#c51b7d"
            ],
            [
             0.2,
             "#de77ae"
            ],
            [
             0.3,
             "#f1b6da"
            ],
            [
             0.4,
             "#fde0ef"
            ],
            [
             0.5,
             "#f7f7f7"
            ],
            [
             0.6,
             "#e6f5d0"
            ],
            [
             0.7,
             "#b8e186"
            ],
            [
             0.8,
             "#7fbc41"
            ],
            [
             0.9,
             "#4d9221"
            ],
            [
             1,
             "#276419"
            ]
           ],
           "sequential": [
            [
             0,
             "#0d0887"
            ],
            [
             0.1111111111111111,
             "#46039f"
            ],
            [
             0.2222222222222222,
             "#7201a8"
            ],
            [
             0.3333333333333333,
             "#9c179e"
            ],
            [
             0.4444444444444444,
             "#bd3786"
            ],
            [
             0.5555555555555556,
             "#d8576b"
            ],
            [
             0.6666666666666666,
             "#ed7953"
            ],
            [
             0.7777777777777778,
             "#fb9f3a"
            ],
            [
             0.8888888888888888,
             "#fdca26"
            ],
            [
             1,
             "#f0f921"
            ]
           ],
           "sequentialminus": [
            [
             0,
             "#0d0887"
            ],
            [
             0.1111111111111111,
             "#46039f"
            ],
            [
             0.2222222222222222,
             "#7201a8"
            ],
            [
             0.3333333333333333,
             "#9c179e"
            ],
            [
             0.4444444444444444,
             "#bd3786"
            ],
            [
             0.5555555555555556,
             "#d8576b"
            ],
            [
             0.6666666666666666,
             "#ed7953"
            ],
            [
             0.7777777777777778,
             "#fb9f3a"
            ],
            [
             0.8888888888888888,
             "#fdca26"
            ],
            [
             1,
             "#f0f921"
            ]
           ]
          },
          "colorway": [
           "#636efa",
           "#EF553B",
           "#00cc96",
           "#ab63fa",
           "#FFA15A",
           "#19d3f3",
           "#FF6692",
           "#B6E880",
           "#FF97FF",
           "#FECB52"
          ],
          "font": {
           "color": "#2a3f5f"
          },
          "geo": {
           "bgcolor": "white",
           "lakecolor": "white",
           "landcolor": "#E5ECF6",
           "showlakes": true,
           "showland": true,
           "subunitcolor": "white"
          },
          "hoverlabel": {
           "align": "left"
          },
          "hovermode": "closest",
          "mapbox": {
           "style": "light"
          },
          "paper_bgcolor": "white",
          "plot_bgcolor": "#E5ECF6",
          "polar": {
           "angularaxis": {
            "gridcolor": "white",
            "linecolor": "white",
            "ticks": ""
           },
           "bgcolor": "#E5ECF6",
           "radialaxis": {
            "gridcolor": "white",
            "linecolor": "white",
            "ticks": ""
           }
          },
          "scene": {
           "xaxis": {
            "backgroundcolor": "#E5ECF6",
            "gridcolor": "white",
            "gridwidth": 2,
            "linecolor": "white",
            "showbackground": true,
            "ticks": "",
            "zerolinecolor": "white"
           },
           "yaxis": {
            "backgroundcolor": "#E5ECF6",
            "gridcolor": "white",
            "gridwidth": 2,
            "linecolor": "white",
            "showbackground": true,
            "ticks": "",
            "zerolinecolor": "white"
           },
           "zaxis": {
            "backgroundcolor": "#E5ECF6",
            "gridcolor": "white",
            "gridwidth": 2,
            "linecolor": "white",
            "showbackground": true,
            "ticks": "",
            "zerolinecolor": "white"
           }
          },
          "shapedefaults": {
           "line": {
            "color": "#2a3f5f"
           }
          },
          "ternary": {
           "aaxis": {
            "gridcolor": "white",
            "linecolor": "white",
            "ticks": ""
           },
           "baxis": {
            "gridcolor": "white",
            "linecolor": "white",
            "ticks": ""
           },
           "bgcolor": "#E5ECF6",
           "caxis": {
            "gridcolor": "white",
            "linecolor": "white",
            "ticks": ""
           }
          },
          "title": {
           "x": 0.05
          },
          "xaxis": {
           "automargin": true,
           "gridcolor": "white",
           "linecolor": "white",
           "ticks": "",
           "title": {
            "standoff": 15
           },
           "zerolinecolor": "white",
           "zerolinewidth": 2
          },
          "yaxis": {
           "automargin": true,
           "gridcolor": "white",
           "linecolor": "white",
           "ticks": "",
           "title": {
            "standoff": 15
           },
           "zerolinecolor": "white",
           "zerolinewidth": 2
          }
         }
        },
        "title": {
         "text": "UNISWAP-V2 TVL USD"
        },
        "xaxis": {
         "anchor": "y",
         "domain": [
          0,
          1
         ],
         "title": {
          "text": "date"
         }
        },
        "yaxis": {
         "anchor": "x",
         "domain": [
          0,
          1
         ],
         "title": {
          "text": "value"
         }
        }
       }
      },
      "text/html": [
       "<div>                            <div id=\"0b987e70-d94b-4b27-90b5-a10d18246806\" class=\"plotly-graph-div\" style=\"height:525px; width:100%;\"></div>            <script type=\"text/javascript\">                require([\"plotly\"], function(Plotly) {                    window.PLOTLYENV=window.PLOTLYENV || {};                                    if (document.getElementById(\"0b987e70-d94b-4b27-90b5-a10d18246806\")) {                    Plotly.newPlot(                        \"0b987e70-d94b-4b27-90b5-a10d18246806\",                        [{\"hovertemplate\":\"variable=tvlUSD<br>date=%{x}<br>value=%{y}<extra></extra>\",\"legendgroup\":\"tvlUSD\",\"line\":{\"color\":\"#636efa\",\"dash\":\"solid\"},\"marker\":{\"symbol\":\"circle\"},\"mode\":\"lines\",\"name\":\"tvlUSD\",\"orientation\":\"v\",\"showlegend\":true,\"x\":[\"2020-05-05T03:00:00\",\"2020-05-06T03:00:00\",\"2020-05-07T03:00:00\",\"2020-05-08T03:00:00\",\"2020-05-11T03:00:00\",\"2020-05-12T03:00:00\",\"2020-05-13T03:00:00\",\"2020-05-14T03:00:00\",\"2020-05-15T03:00:00\",\"2020-05-16T03:00:00\",\"2020-05-17T03:00:00\",\"2020-05-18T03:00:00\",\"2020-05-19T03:00:00\",\"2020-05-20T03:00:00\",\"2020-05-21T03:00:00\",\"2020-05-22T03:00:00\",\"2020-05-23T03:00:00\",\"2020-05-24T03:00:00\",\"2020-05-25T03:00:00\",\"2020-05-26T03:00:00\",\"2020-05-27T03:00:00\",\"2020-05-28T03:00:00\",\"2020-05-29T03:00:00\",\"2020-05-30T03:00:00\",\"2020-05-31T03:00:00\",\"2020-06-01T03:00:00\",\"2020-06-02T03:00:00\",\"2020-06-03T03:00:00\",\"2020-06-04T03:00:00\",\"2020-06-05T03:00:00\",\"2020-06-06T03:00:00\",\"2020-06-07T03:00:00\",\"2020-06-08T03:00:00\",\"2020-06-09T03:00:00\",\"2020-06-10T03:00:00\",\"2020-06-11T03:00:00\",\"2020-06-12T03:00:00\",\"2020-06-13T03:00:00\",\"2020-06-14T03:00:00\",\"2020-06-15T03:00:00\",\"2020-06-16T03:00:00\",\"2020-06-17T03:00:00\",\"2020-06-18T03:00:00\",\"2020-06-19T03:00:00\",\"2020-06-20T03:00:00\",\"2020-06-21T03:00:00\",\"2020-06-22T03:00:00\",\"2020-06-23T03:00:00\",\"2020-06-24T03:00:00\",\"2020-06-25T03:00:00\",\"2020-06-26T03:00:00\",\"2020-06-27T03:00:00\",\"2020-06-28T03:00:00\",\"2020-06-29T03:00:00\",\"2020-06-30T03:00:00\",\"2020-07-01T03:00:00\",\"2020-07-02T03:00:00\",\"2020-07-03T03:00:00\",\"2020-07-04T03:00:00\",\"2020-07-05T03:00:00\",\"2020-07-06T03:00:00\",\"2020-07-07T03:00:00\",\"2020-07-08T03:00:00\",\"2020-07-09T03:00:00\",\"2020-07-10T03:00:00\",\"2020-07-11T03:00:00\",\"2020-07-12T03:00:00\",\"2020-07-13T03:00:00\",\"2020-07-14T03:00:00\",\"2020-07-15T03:00:00\",\"2020-07-16T03:00:00\",\"2020-07-17T03:00:00\",\"2020-07-18T03:00:00\",\"2020-07-19T03:00:00\",\"2020-07-20T03:00:00\",\"2020-07-21T03:00:00\",\"2020-07-22T03:00:00\",\"2020-07-23T03:00:00\",\"2020-07-24T03:00:00\",\"2020-07-25T03:00:00\",\"2020-07-26T03:00:00\",\"2020-07-27T03:00:00\",\"2020-07-28T03:00:00\",\"2020-07-29T03:00:00\",\"2020-07-30T03:00:00\",\"2020-07-31T03:00:00\",\"2020-08-01T03:00:00\",\"2020-08-02T03:00:00\",\"2020-08-03T03:00:00\",\"2020-08-04T03:00:00\",\"2020-08-05T03:00:00\",\"2020-08-06T03:00:00\",\"2020-08-07T03:00:00\",\"2020-08-08T03:00:00\",\"2020-08-09T03:00:00\",\"2020-08-10T03:00:00\",\"2020-08-11T03:00:00\",\"2020-08-12T03:00:00\",\"2020-08-13T03:00:00\",\"2020-08-14T03:00:00\"],\"xaxis\":\"x\",\"y\":[0.989,3.2059010782456117,3.2059043208171025,18.815672405471304,18.75575726469835,14.133879986083553,231.95512434815237,314.3108566667042,757.3190631929863,887.7901627703701,1140.4139045794443,1274553.9680363191,4653179.148398675,11029530.02592272,10804628.660420908,14325076.416697837,15019692.802295033,14662086.967402115,15143861.191013597,15115680.086981239,15758985.577237867,16489302.589897774,17170617.96019678,22804649.48538441,21925534.29693278,23850510.420260955,23612283.337412834,24442060.564949855,24450309.295804948,24908974.026662514,25378138.379630025,26051204.80134944,25135723.978982806,27582094.868639074,27915763.740189046,26712141.975474738,28335733.544561896,28860160.689098764,27865413.166793007,32648286.882892232,33397529.476930466,33770036.75596696,36036436.74851076,36304247.507492326,37512301.62099255,34820980.97955848,37744651.88071115,39018142.168758005,35007735.17577471,33024210.794735868,34083242.796283536,35007427.469837815,36070565.24158174,39147419.14885634,41228806.62875165,44263527.445945196,42126488.49152743,42319921.5781477,43250568.72805395,44228644.390232325,46994407.21840322,48089679.07610272,52934211.38952396,57987434.12034137,57554450.7399288,61112860.48241779,62899079.78483313,63251278.37868732,65487660.89871152,69151180.43476394,73915518.00551316,78303207.87651609,81133072.61924082,87421688.32004067,86912474.6809136,92334982.44098744,95317421.92790914,99630803.78701025,108275550.04223014,126667689.25807667,135311595.84209704,143633269.2954145,144754211.54002002,141334131.58102947,141945870.42044416,151853908.72513112,170021688.15632197,160305044.0390735,173454249.64950618,179890793.82294545,187698717.9554959,192848785.2080147,199910842.95531002,214765081.24039078,221720086.51206708,228329167.10219866,234843106.61060056,291950348.1074753,275424161.20359594,266207197.2839702],\"yaxis\":\"y\",\"type\":\"scatter\"}],                        {\"template\":{\"data\":{\"histogram2dcontour\":[{\"type\":\"histogram2dcontour\",\"colorbar\":{\"outlinewidth\":0,\"ticks\":\"\"},\"colorscale\":[[0.0,\"#0d0887\"],[0.1111111111111111,\"#46039f\"],[0.2222222222222222,\"#7201a8\"],[0.3333333333333333,\"#9c179e\"],[0.4444444444444444,\"#bd3786\"],[0.5555555555555556,\"#d8576b\"],[0.6666666666666666,\"#ed7953\"],[0.7777777777777778,\"#fb9f3a\"],[0.8888888888888888,\"#fdca26\"],[1.0,\"#f0f921\"]]}],\"choropleth\":[{\"type\":\"choropleth\",\"colorbar\":{\"outlinewidth\":0,\"ticks\":\"\"}}],\"histogram2d\":[{\"type\":\"histogram2d\",\"colorbar\":{\"outlinewidth\":0,\"ticks\":\"\"},\"colorscale\":[[0.0,\"#0d0887\"],[0.1111111111111111,\"#46039f\"],[0.2222222222222222,\"#7201a8\"],[0.3333333333333333,\"#9c179e\"],[0.4444444444444444,\"#bd3786\"],[0.5555555555555556,\"#d8576b\"],[0.6666666666666666,\"#ed7953\"],[0.7777777777777778,\"#fb9f3a\"],[0.8888888888888888,\"#fdca26\"],[1.0,\"#f0f921\"]]}],\"heatmap\":[{\"type\":\"heatmap\",\"colorbar\":{\"outlinewidth\":0,\"ticks\":\"\"},\"colorscale\":[[0.0,\"#0d0887\"],[0.1111111111111111,\"#46039f\"],[0.2222222222222222,\"#7201a8\"],[0.3333333333333333,\"#9c179e\"],[0.4444444444444444,\"#bd3786\"],[0.5555555555555556,\"#d8576b\"],[0.6666666666666666,\"#ed7953\"],[0.7777777777777778,\"#fb9f3a\"],[0.8888888888888888,\"#fdca26\"],[1.0,\"#f0f921\"]]}],\"heatmapgl\":[{\"type\":\"heatmapgl\",\"colorbar\":{\"outlinewidth\":0,\"ticks\":\"\"},\"colorscale\":[[0.0,\"#0d0887\"],[0.1111111111111111,\"#46039f\"],[0.2222222222222222,\"#7201a8\"],[0.3333333333333333,\"#9c179e\"],[0.4444444444444444,\"#bd3786\"],[0.5555555555555556,\"#d8576b\"],[0.6666666666666666,\"#ed7953\"],[0.7777777777777778,\"#fb9f3a\"],[0.8888888888888888,\"#fdca26\"],[1.0,\"#f0f921\"]]}],\"contourcarpet\":[{\"type\":\"contourcarpet\",\"colorbar\":{\"outlinewidth\":0,\"ticks\":\"\"}}],\"contour\":[{\"type\":\"contour\",\"colorbar\":{\"outlinewidth\":0,\"ticks\":\"\"},\"colorscale\":[[0.0,\"#0d0887\"],[0.1111111111111111,\"#46039f\"],[0.2222222222222222,\"#7201a8\"],[0.3333333333333333,\"#9c179e\"],[0.4444444444444444,\"#bd3786\"],[0.5555555555555556,\"#d8576b\"],[0.6666666666666666,\"#ed7953\"],[0.7777777777777778,\"#fb9f3a\"],[0.8888888888888888,\"#fdca26\"],[1.0,\"#f0f921\"]]}],\"surface\":[{\"type\":\"surface\",\"colorbar\":{\"outlinewidth\":0,\"ticks\":\"\"},\"colorscale\":[[0.0,\"#0d0887\"],[0.1111111111111111,\"#46039f\"],[0.2222222222222222,\"#7201a8\"],[0.3333333333333333,\"#9c179e\"],[0.4444444444444444,\"#bd3786\"],[0.5555555555555556,\"#d8576b\"],[0.6666666666666666,\"#ed7953\"],[0.7777777777777778,\"#fb9f3a\"],[0.8888888888888888,\"#fdca26\"],[1.0,\"#f0f921\"]]}],\"mesh3d\":[{\"type\":\"mesh3d\",\"colorbar\":{\"outlinewidth\":0,\"ticks\":\"\"}}],\"scatter\":[{\"fillpattern\":{\"fillmode\":\"overlay\",\"size\":10,\"solidity\":0.2},\"type\":\"scatter\"}],\"parcoords\":[{\"type\":\"parcoords\",\"line\":{\"colorbar\":{\"outlinewidth\":0,\"ticks\":\"\"}}}],\"scatterpolargl\":[{\"type\":\"scatterpolargl\",\"marker\":{\"colorbar\":{\"outlinewidth\":0,\"ticks\":\"\"}}}],\"bar\":[{\"error_x\":{\"color\":\"#2a3f5f\"},\"error_y\":{\"color\":\"#2a3f5f\"},\"marker\":{\"line\":{\"color\":\"#E5ECF6\",\"width\":0.5},\"pattern\":{\"fillmode\":\"overlay\",\"size\":10,\"solidity\":0.2}},\"type\":\"bar\"}],\"scattergeo\":[{\"type\":\"scattergeo\",\"marker\":{\"colorbar\":{\"outlinewidth\":0,\"ticks\":\"\"}}}],\"scatterpolar\":[{\"type\":\"scatterpolar\",\"marker\":{\"colorbar\":{\"outlinewidth\":0,\"ticks\":\"\"}}}],\"histogram\":[{\"marker\":{\"pattern\":{\"fillmode\":\"overlay\",\"size\":10,\"solidity\":0.2}},\"type\":\"histogram\"}],\"scattergl\":[{\"type\":\"scattergl\",\"marker\":{\"colorbar\":{\"outlinewidth\":0,\"ticks\":\"\"}}}],\"scatter3d\":[{\"type\":\"scatter3d\",\"line\":{\"colorbar\":{\"outlinewidth\":0,\"ticks\":\"\"}},\"marker\":{\"colorbar\":{\"outlinewidth\":0,\"ticks\":\"\"}}}],\"scattermapbox\":[{\"type\":\"scattermapbox\",\"marker\":{\"colorbar\":{\"outlinewidth\":0,\"ticks\":\"\"}}}],\"scatterternary\":[{\"type\":\"scatterternary\",\"marker\":{\"colorbar\":{\"outlinewidth\":0,\"ticks\":\"\"}}}],\"scattercarpet\":[{\"type\":\"scattercarpet\",\"marker\":{\"colorbar\":{\"outlinewidth\":0,\"ticks\":\"\"}}}],\"carpet\":[{\"aaxis\":{\"endlinecolor\":\"#2a3f5f\",\"gridcolor\":\"white\",\"linecolor\":\"white\",\"minorgridcolor\":\"white\",\"startlinecolor\":\"#2a3f5f\"},\"baxis\":{\"endlinecolor\":\"#2a3f5f\",\"gridcolor\":\"white\",\"linecolor\":\"white\",\"minorgridcolor\":\"white\",\"startlinecolor\":\"#2a3f5f\"},\"type\":\"carpet\"}],\"table\":[{\"cells\":{\"fill\":{\"color\":\"#EBF0F8\"},\"line\":{\"color\":\"white\"}},\"header\":{\"fill\":{\"color\":\"#C8D4E3\"},\"line\":{\"color\":\"white\"}},\"type\":\"table\"}],\"barpolar\":[{\"marker\":{\"line\":{\"color\":\"#E5ECF6\",\"width\":0.5},\"pattern\":{\"fillmode\":\"overlay\",\"size\":10,\"solidity\":0.2}},\"type\":\"barpolar\"}],\"pie\":[{\"automargin\":true,\"type\":\"pie\"}]},\"layout\":{\"autotypenumbers\":\"strict\",\"colorway\":[\"#636efa\",\"#EF553B\",\"#00cc96\",\"#ab63fa\",\"#FFA15A\",\"#19d3f3\",\"#FF6692\",\"#B6E880\",\"#FF97FF\",\"#FECB52\"],\"font\":{\"color\":\"#2a3f5f\"},\"hovermode\":\"closest\",\"hoverlabel\":{\"align\":\"left\"},\"paper_bgcolor\":\"white\",\"plot_bgcolor\":\"#E5ECF6\",\"polar\":{\"bgcolor\":\"#E5ECF6\",\"angularaxis\":{\"gridcolor\":\"white\",\"linecolor\":\"white\",\"ticks\":\"\"},\"radialaxis\":{\"gridcolor\":\"white\",\"linecolor\":\"white\",\"ticks\":\"\"}},\"ternary\":{\"bgcolor\":\"#E5ECF6\",\"aaxis\":{\"gridcolor\":\"white\",\"linecolor\":\"white\",\"ticks\":\"\"},\"baxis\":{\"gridcolor\":\"white\",\"linecolor\":\"white\",\"ticks\":\"\"},\"caxis\":{\"gridcolor\":\"white\",\"linecolor\":\"white\",\"ticks\":\"\"}},\"coloraxis\":{\"colorbar\":{\"outlinewidth\":0,\"ticks\":\"\"}},\"colorscale\":{\"sequential\":[[0.0,\"#0d0887\"],[0.1111111111111111,\"#46039f\"],[0.2222222222222222,\"#7201a8\"],[0.3333333333333333,\"#9c179e\"],[0.4444444444444444,\"#bd3786\"],[0.5555555555555556,\"#d8576b\"],[0.6666666666666666,\"#ed7953\"],[0.7777777777777778,\"#fb9f3a\"],[0.8888888888888888,\"#fdca26\"],[1.0,\"#f0f921\"]],\"sequentialminus\":[[0.0,\"#0d0887\"],[0.1111111111111111,\"#46039f\"],[0.2222222222222222,\"#7201a8\"],[0.3333333333333333,\"#9c179e\"],[0.4444444444444444,\"#bd3786\"],[0.5555555555555556,\"#d8576b\"],[0.6666666666666666,\"#ed7953\"],[0.7777777777777778,\"#fb9f3a\"],[0.8888888888888888,\"#fdca26\"],[1.0,\"#f0f921\"]],\"diverging\":[[0,\"#8e0152\"],[0.1,\"#c51b7d\"],[0.2,\"#de77ae\"],[0.3,\"#f1b6da\"],[0.4,\"#fde0ef\"],[0.5,\"#f7f7f7\"],[0.6,\"#e6f5d0\"],[0.7,\"#b8e186\"],[0.8,\"#7fbc41\"],[0.9,\"#4d9221\"],[1,\"#276419\"]]},\"xaxis\":{\"gridcolor\":\"white\",\"linecolor\":\"white\",\"ticks\":\"\",\"title\":{\"standoff\":15},\"zerolinecolor\":\"white\",\"automargin\":true,\"zerolinewidth\":2},\"yaxis\":{\"gridcolor\":\"white\",\"linecolor\":\"white\",\"ticks\":\"\",\"title\":{\"standoff\":15},\"zerolinecolor\":\"white\",\"automargin\":true,\"zerolinewidth\":2},\"scene\":{\"xaxis\":{\"backgroundcolor\":\"#E5ECF6\",\"gridcolor\":\"white\",\"linecolor\":\"white\",\"showbackground\":true,\"ticks\":\"\",\"zerolinecolor\":\"white\",\"gridwidth\":2},\"yaxis\":{\"backgroundcolor\":\"#E5ECF6\",\"gridcolor\":\"white\",\"linecolor\":\"white\",\"showbackground\":true,\"ticks\":\"\",\"zerolinecolor\":\"white\",\"gridwidth\":2},\"zaxis\":{\"backgroundcolor\":\"#E5ECF6\",\"gridcolor\":\"white\",\"linecolor\":\"white\",\"showbackground\":true,\"ticks\":\"\",\"zerolinecolor\":\"white\",\"gridwidth\":2}},\"shapedefaults\":{\"line\":{\"color\":\"#2a3f5f\"}},\"annotationdefaults\":{\"arrowcolor\":\"#2a3f5f\",\"arrowhead\":0,\"arrowwidth\":1},\"geo\":{\"bgcolor\":\"white\",\"landcolor\":\"#E5ECF6\",\"subunitcolor\":\"white\",\"showland\":true,\"showlakes\":true,\"lakecolor\":\"white\"},\"title\":{\"x\":0.05},\"mapbox\":{\"style\":\"light\"}}},\"xaxis\":{\"anchor\":\"y\",\"domain\":[0.0,1.0],\"title\":{\"text\":\"date\"}},\"yaxis\":{\"anchor\":\"x\",\"domain\":[0.0,1.0],\"title\":{\"text\":\"value\"}},\"legend\":{\"title\":{\"text\":\"variable\"},\"tracegroupgap\":0},\"title\":{\"text\":\"UNISWAP-V2 TVL USD\"}},                        {\"responsive\": true}                    ).then(function(){\n",
       "                            \n",
       "var gd = document.getElementById('0b987e70-d94b-4b27-90b5-a10d18246806');\n",
       "var x = new MutationObserver(function (mutations, observer) {{\n",
       "        var display = window.getComputedStyle(gd).display;\n",
       "        if (!display || display === 'none') {{\n",
       "            console.log([gd, 'removed!']);\n",
       "            Plotly.purge(gd);\n",
       "            observer.disconnect();\n",
       "        }}\n",
       "}});\n",
       "\n",
       "// Listen for the removal of the full notebook cells\n",
       "var notebookContainer = gd.closest('#notebook-container');\n",
       "if (notebookContainer) {{\n",
       "    x.observe(notebookContainer, {childList: true});\n",
       "}}\n",
       "\n",
       "// Listen for the clearing of the current output cell\n",
       "var outputEl = gd.closest('.output');\n",
       "if (outputEl) {{\n",
       "    x.observe(outputEl, {childList: true});\n",
       "}}\n",
       "\n",
       "                        })                };                });            </script>        </div>"
      ]
     },
     "metadata": {},
     "output_type": "display_data"
    }
   ],
   "source": [
    "df_uniswap['tvlUSD'] = df_uniswap['tvlUSD'].astype(float)\n",
    "px.line(df_uniswap.sort_values('date'), x = 'date', y = ['tvlUSD'], title=\"UNISWAP-V2 TVL USD\")"
   ]
  },
  {
   "cell_type": "markdown",
   "metadata": {},
   "source": [
    "<strong>Information about UNI (CEX) from Binance</strong>"
   ]
  },
  {
   "cell_type": "code",
   "execution_count": 52,
   "metadata": {},
   "outputs": [],
   "source": [
    "BASE = 'https://fapi.binance.com'\n",
    "endpoint = '/fapi/v1/time' \n",
    "response = requests.get(BASE + endpoint)"
   ]
  },
  {
   "cell_type": "code",
   "execution_count": 59,
   "metadata": {},
   "outputs": [],
   "source": [
    "import pandas as pd\n",
    "import json\n",
    "import datetime\n",
    "from datetime import datetime\n",
    "class BinanceFuturesConnector:\n",
    "    \n",
    "    def __init__(self, api_key: str = '', secret_key: str = ''):\n",
    "        self._api_key = api_key\n",
    "        self._secret_key = secret_key\n",
    "        self._API_URL = 'https://fapi.binance.com' # есть base url (the base inpoint) для доступа к дальнейшим инпоинтам\n",
    "    def _make_request(self, method: str, endpoint: str, params: dict = None, sign: bool = False, api_url: str = None):\n",
    "        if sign:\n",
    "            header = {'X-MBX-APIKEY': self._API_KEY}\n",
    "            if params is None:\n",
    "                params = {}\n",
    "            params['timestamp'] = int(time.time() * 1000 + 1000)\n",
    "            params['signature'] = self._generate_signature(urlencode(params)) # подписываем при помощи секретного ключа\n",
    "        else:\n",
    "            header = None\n",
    "\n",
    "        if api_url is None:\n",
    "            api_url = self._API_URL\n",
    "\n",
    "        if method == \"GET\":\n",
    "            response = requests.get(api_url + endpoint, params, headers=header)\n",
    "        elif method == \"POST\":\n",
    "            response = requests.post(api_url + endpoint, params, headers=header)\n",
    "\n",
    "        if response.status_code == 200:\n",
    "            return response.json()\n",
    "        if response.status_code in [404, 503]:\n",
    "            msg = f'Binance error while requesting {method} {endpoint}: {response.status_code} - {response.reason}'\n",
    "            raise ConnectionError(msg)\n",
    "\n",
    "    def get_klines(self, ticker: str, interval: str, start_time: datetime = None, end_time: datetime = None, **kwargs) -> list:\n",
    "        \"\"\"\n",
    "            [\n",
    "                {\n",
    "                    'openTime': datetime object,\n",
    "                    'open': 0.01634790,\n",
    "                    'high': 0.80000000,\n",
    "                    'low': 0.01575800,\n",
    "                    'close': 0.01577100,\n",
    "                    'volume': 148976.11427815\n",
    "                }\n",
    "            ]\n",
    "        \"\"\"\n",
    "        limit = 1500\n",
    "        params = dict(symbol=ticker, interval=interval, limit=limit)\n",
    "        if start_time is not None:\n",
    "            start_time = override_timezone(start_time)\n",
    "            params['startTime'] = int(start_time.timestamp() * 1000)\n",
    "        if end_time is not None:\n",
    "            end_time = override_timezone(end_time)\n",
    "            params['endTime'] = int(end_time.timestamp() * 1000)\n",
    "\n",
    "        params.update(kwargs)\n",
    "\n",
    "        klines = []\n",
    "        while True:\n",
    "            response = self._make_request('GET', '/fapi/v1/klines', params)\n",
    "            for item in response:\n",
    "                klines.append(\n",
    "                    dict(\n",
    "                        openTime=datetime.utcfromtimestamp(item[0] / 1000),\n",
    "                        open=float(item[1]),\n",
    "                        high=float(item[2]),\n",
    "                        low=float(item[3]),\n",
    "                        close=float(item[4]),\n",
    "                        volume=float(item[5])\n",
    "                    )\n",
    "                )\n",
    "            if len(response) < limit:\n",
    "                break\n",
    "\n",
    "            if start_time is None:\n",
    "                break\n",
    "\n",
    "            # shift start time by 1s from the newest loaded datapoint time\n",
    "            params['startTime'] = response[-1][0] + 1000\n",
    "        return klines\n",
    "    "
   ]
  },
  {
   "cell_type": "code",
   "execution_count": 60,
   "metadata": {},
   "outputs": [],
   "source": [
    "con = BinanceFuturesConnector()"
   ]
  },
  {
   "cell_type": "code",
   "execution_count": 82,
   "metadata": {},
   "outputs": [],
   "source": [
    "data = con.get_klines('UNIUSDT', interval='1d')\n",
    "df_token = pd.DataFrame(data)"
   ]
  },
  {
   "cell_type": "code",
   "execution_count": 83,
   "metadata": {},
   "outputs": [
    {
     "data": {
      "text/html": [
       "<div>\n",
       "<style scoped>\n",
       "    .dataframe tbody tr th:only-of-type {\n",
       "        vertical-align: middle;\n",
       "    }\n",
       "\n",
       "    .dataframe tbody tr th {\n",
       "        vertical-align: top;\n",
       "    }\n",
       "\n",
       "    .dataframe thead th {\n",
       "        text-align: right;\n",
       "    }\n",
       "</style>\n",
       "<table border=\"1\" class=\"dataframe\">\n",
       "  <thead>\n",
       "    <tr style=\"text-align: right;\">\n",
       "      <th></th>\n",
       "      <th>openTime</th>\n",
       "      <th>open</th>\n",
       "      <th>high</th>\n",
       "      <th>low</th>\n",
       "      <th>close</th>\n",
       "      <th>volume</th>\n",
       "    </tr>\n",
       "  </thead>\n",
       "  <tbody>\n",
       "    <tr>\n",
       "      <th>228</th>\n",
       "      <td>2021-05-04</td>\n",
       "      <td>42.3401</td>\n",
       "      <td>44.7484</td>\n",
       "      <td>39.2300</td>\n",
       "      <td>43.1352</td>\n",
       "      <td>18375985.0</td>\n",
       "    </tr>\n",
       "    <tr>\n",
       "      <th>229</th>\n",
       "      <td>2021-05-05</td>\n",
       "      <td>43.1323</td>\n",
       "      <td>44.9928</td>\n",
       "      <td>41.4724</td>\n",
       "      <td>42.4773</td>\n",
       "      <td>14579997.0</td>\n",
       "    </tr>\n",
       "    <tr>\n",
       "      <th>230</th>\n",
       "      <td>2021-05-06</td>\n",
       "      <td>42.4847</td>\n",
       "      <td>42.6121</td>\n",
       "      <td>39.8000</td>\n",
       "      <td>40.2760</td>\n",
       "      <td>11273009.0</td>\n",
       "    </tr>\n",
       "    <tr>\n",
       "      <th>231</th>\n",
       "      <td>2021-05-07</td>\n",
       "      <td>40.2839</td>\n",
       "      <td>41.3232</td>\n",
       "      <td>38.1455</td>\n",
       "      <td>39.7730</td>\n",
       "      <td>10247253.0</td>\n",
       "    </tr>\n",
       "    <tr>\n",
       "      <th>232</th>\n",
       "      <td>2021-05-08</td>\n",
       "      <td>39.7610</td>\n",
       "      <td>41.3299</td>\n",
       "      <td>39.2405</td>\n",
       "      <td>40.5299</td>\n",
       "      <td>7149299.0</td>\n",
       "    </tr>\n",
       "    <tr>\n",
       "      <th>...</th>\n",
       "      <td>...</td>\n",
       "      <td>...</td>\n",
       "      <td>...</td>\n",
       "      <td>...</td>\n",
       "      <td>...</td>\n",
       "      <td>...</td>\n",
       "    </tr>\n",
       "    <tr>\n",
       "      <th>323</th>\n",
       "      <td>2021-08-07</td>\n",
       "      <td>26.1900</td>\n",
       "      <td>29.0330</td>\n",
       "      <td>25.8030</td>\n",
       "      <td>28.3240</td>\n",
       "      <td>13059991.0</td>\n",
       "    </tr>\n",
       "    <tr>\n",
       "      <th>324</th>\n",
       "      <td>2021-08-08</td>\n",
       "      <td>28.3280</td>\n",
       "      <td>28.7340</td>\n",
       "      <td>25.9630</td>\n",
       "      <td>26.7110</td>\n",
       "      <td>9327687.0</td>\n",
       "    </tr>\n",
       "    <tr>\n",
       "      <th>325</th>\n",
       "      <td>2021-08-09</td>\n",
       "      <td>26.7130</td>\n",
       "      <td>28.7990</td>\n",
       "      <td>25.3840</td>\n",
       "      <td>28.3700</td>\n",
       "      <td>9455182.0</td>\n",
       "    </tr>\n",
       "    <tr>\n",
       "      <th>326</th>\n",
       "      <td>2021-08-10</td>\n",
       "      <td>28.3690</td>\n",
       "      <td>30.2610</td>\n",
       "      <td>28.2000</td>\n",
       "      <td>28.7960</td>\n",
       "      <td>10948250.0</td>\n",
       "    </tr>\n",
       "    <tr>\n",
       "      <th>327</th>\n",
       "      <td>2021-08-11</td>\n",
       "      <td>28.7950</td>\n",
       "      <td>30.5020</td>\n",
       "      <td>28.7540</td>\n",
       "      <td>28.9780</td>\n",
       "      <td>9131045.0</td>\n",
       "    </tr>\n",
       "  </tbody>\n",
       "</table>\n",
       "<p>100 rows × 6 columns</p>\n",
       "</div>"
      ],
      "text/plain": [
       "      openTime     open     high      low    close      volume\n",
       "228 2021-05-04  42.3401  44.7484  39.2300  43.1352  18375985.0\n",
       "229 2021-05-05  43.1323  44.9928  41.4724  42.4773  14579997.0\n",
       "230 2021-05-06  42.4847  42.6121  39.8000  40.2760  11273009.0\n",
       "231 2021-05-07  40.2839  41.3232  38.1455  39.7730  10247253.0\n",
       "232 2021-05-08  39.7610  41.3299  39.2405  40.5299   7149299.0\n",
       "..         ...      ...      ...      ...      ...         ...\n",
       "323 2021-08-07  26.1900  29.0330  25.8030  28.3240  13059991.0\n",
       "324 2021-08-08  28.3280  28.7340  25.9630  26.7110   9327687.0\n",
       "325 2021-08-09  26.7130  28.7990  25.3840  28.3700   9455182.0\n",
       "326 2021-08-10  28.3690  30.2610  28.2000  28.7960  10948250.0\n",
       "327 2021-08-11  28.7950  30.5020  28.7540  28.9780   9131045.0\n",
       "\n",
       "[100 rows x 6 columns]"
      ]
     },
     "execution_count": 83,
     "metadata": {},
     "output_type": "execute_result"
    }
   ],
   "source": [
    "df_token = df_token[228:328]\n",
    "df_token "
   ]
  },
  {
   "cell_type": "code",
   "execution_count": 84,
   "metadata": {},
   "outputs": [
    {
     "data": {
      "application/vnd.plotly.v1+json": {
       "config": {
        "plotlyServerURL": "https://plot.ly"
       },
       "data": [
        {
         "hovertemplate": "variable=volume<br>openTime=%{x}<br>value=%{y}<extra></extra>",
         "legendgroup": "volume",
         "line": {
          "color": "#636efa",
          "dash": "solid"
         },
         "marker": {
          "symbol": "circle"
         },
         "mode": "lines",
         "name": "volume",
         "orientation": "v",
         "showlegend": true,
         "type": "scatter",
         "x": [
          "2021-05-04T00:00:00",
          "2021-05-05T00:00:00",
          "2021-05-06T00:00:00",
          "2021-05-07T00:00:00",
          "2021-05-08T00:00:00",
          "2021-05-09T00:00:00",
          "2021-05-10T00:00:00",
          "2021-05-11T00:00:00",
          "2021-05-12T00:00:00",
          "2021-05-13T00:00:00",
          "2021-05-14T00:00:00",
          "2021-05-15T00:00:00",
          "2021-05-16T00:00:00",
          "2021-05-17T00:00:00",
          "2021-05-18T00:00:00",
          "2021-05-19T00:00:00",
          "2021-05-20T00:00:00",
          "2021-05-21T00:00:00",
          "2021-05-22T00:00:00",
          "2021-05-23T00:00:00",
          "2021-05-24T00:00:00",
          "2021-05-25T00:00:00",
          "2021-05-26T00:00:00",
          "2021-05-27T00:00:00",
          "2021-05-28T00:00:00",
          "2021-05-29T00:00:00",
          "2021-05-30T00:00:00",
          "2021-05-31T00:00:00",
          "2021-06-01T00:00:00",
          "2021-06-02T00:00:00",
          "2021-06-03T00:00:00",
          "2021-06-04T00:00:00",
          "2021-06-05T00:00:00",
          "2021-06-06T00:00:00",
          "2021-06-07T00:00:00",
          "2021-06-08T00:00:00",
          "2021-06-09T00:00:00",
          "2021-06-10T00:00:00",
          "2021-06-11T00:00:00",
          "2021-06-12T00:00:00",
          "2021-06-13T00:00:00",
          "2021-06-14T00:00:00",
          "2021-06-15T00:00:00",
          "2021-06-16T00:00:00",
          "2021-06-17T00:00:00",
          "2021-06-18T00:00:00",
          "2021-06-19T00:00:00",
          "2021-06-20T00:00:00",
          "2021-06-21T00:00:00",
          "2021-06-22T00:00:00",
          "2021-06-23T00:00:00",
          "2021-06-24T00:00:00",
          "2021-06-25T00:00:00",
          "2021-06-26T00:00:00",
          "2021-06-27T00:00:00",
          "2021-06-28T00:00:00",
          "2021-06-29T00:00:00",
          "2021-06-30T00:00:00",
          "2021-07-01T00:00:00",
          "2021-07-02T00:00:00",
          "2021-07-03T00:00:00",
          "2021-07-04T00:00:00",
          "2021-07-05T00:00:00",
          "2021-07-06T00:00:00",
          "2021-07-07T00:00:00",
          "2021-07-08T00:00:00",
          "2021-07-09T00:00:00",
          "2021-07-10T00:00:00",
          "2021-07-11T00:00:00",
          "2021-07-12T00:00:00",
          "2021-07-13T00:00:00",
          "2021-07-14T00:00:00",
          "2021-07-15T00:00:00",
          "2021-07-16T00:00:00",
          "2021-07-17T00:00:00",
          "2021-07-18T00:00:00",
          "2021-07-19T00:00:00",
          "2021-07-20T00:00:00",
          "2021-07-21T00:00:00",
          "2021-07-22T00:00:00",
          "2021-07-23T00:00:00",
          "2021-07-24T00:00:00",
          "2021-07-25T00:00:00",
          "2021-07-26T00:00:00",
          "2021-07-27T00:00:00",
          "2021-07-28T00:00:00",
          "2021-07-29T00:00:00",
          "2021-07-30T00:00:00",
          "2021-07-31T00:00:00",
          "2021-08-01T00:00:00",
          "2021-08-02T00:00:00",
          "2021-08-03T00:00:00",
          "2021-08-04T00:00:00",
          "2021-08-05T00:00:00",
          "2021-08-06T00:00:00",
          "2021-08-07T00:00:00",
          "2021-08-08T00:00:00",
          "2021-08-09T00:00:00",
          "2021-08-10T00:00:00",
          "2021-08-11T00:00:00"
         ],
         "xaxis": "x",
         "y": [
          18375985,
          14579997,
          11273009,
          10247253,
          7149299,
          6504321,
          12209814,
          5863406,
          17114684,
          11607221,
          5623089,
          6389222,
          5801513,
          8590874,
          7513300,
          24390442,
          16669856,
          14504773,
          10931801,
          25776282,
          18096359,
          16371014,
          8766631,
          9912768,
          12344672,
          10244471,
          9814720,
          12075393,
          6949131,
          5338120,
          5703539,
          6886650,
          6270310,
          4281660,
          6339359,
          10262999,
          9209748,
          6421461,
          5709488,
          6286510,
          6212682,
          5315030,
          3629877,
          4463130,
          3994524,
          5990971,
          3843226,
          5585016,
          12954760,
          17788964,
          9747376,
          7369481,
          8635103,
          7033708,
          5547530,
          5918341,
          5975768,
          6053399,
          5940863,
          5480965,
          4817910,
          9292932,
          8768279,
          14688400,
          7789343,
          9037284,
          7643491,
          4955942,
          4910734,
          6523185,
          7711840,
          11413897,
          7759983,
          7560083,
          7730494,
          7647793,
          10793840,
          10435188,
          12640790,
          8881516,
          8325699,
          7624646,
          6723001,
          13409758,
          8544716,
          8305815,
          7396005,
          11946902,
          6812938,
          11136066,
          8735490,
          8792260,
          9431427,
          13161173,
          9641456,
          13059991,
          9327687,
          9455182,
          10948250,
          9131045
         ],
         "yaxis": "y"
        }
       ],
       "layout": {
        "legend": {
         "title": {
          "text": "variable"
         },
         "tracegroupgap": 0
        },
        "template": {
         "data": {
          "bar": [
           {
            "error_x": {
             "color": "#2a3f5f"
            },
            "error_y": {
             "color": "#2a3f5f"
            },
            "marker": {
             "line": {
              "color": "#E5ECF6",
              "width": 0.5
             },
             "pattern": {
              "fillmode": "overlay",
              "size": 10,
              "solidity": 0.2
             }
            },
            "type": "bar"
           }
          ],
          "barpolar": [
           {
            "marker": {
             "line": {
              "color": "#E5ECF6",
              "width": 0.5
             },
             "pattern": {
              "fillmode": "overlay",
              "size": 10,
              "solidity": 0.2
             }
            },
            "type": "barpolar"
           }
          ],
          "carpet": [
           {
            "aaxis": {
             "endlinecolor": "#2a3f5f",
             "gridcolor": "white",
             "linecolor": "white",
             "minorgridcolor": "white",
             "startlinecolor": "#2a3f5f"
            },
            "baxis": {
             "endlinecolor": "#2a3f5f",
             "gridcolor": "white",
             "linecolor": "white",
             "minorgridcolor": "white",
             "startlinecolor": "#2a3f5f"
            },
            "type": "carpet"
           }
          ],
          "choropleth": [
           {
            "colorbar": {
             "outlinewidth": 0,
             "ticks": ""
            },
            "type": "choropleth"
           }
          ],
          "contour": [
           {
            "colorbar": {
             "outlinewidth": 0,
             "ticks": ""
            },
            "colorscale": [
             [
              0,
              "#0d0887"
             ],
             [
              0.1111111111111111,
              "#46039f"
             ],
             [
              0.2222222222222222,
              "#7201a8"
             ],
             [
              0.3333333333333333,
              "#9c179e"
             ],
             [
              0.4444444444444444,
              "#bd3786"
             ],
             [
              0.5555555555555556,
              "#d8576b"
             ],
             [
              0.6666666666666666,
              "#ed7953"
             ],
             [
              0.7777777777777778,
              "#fb9f3a"
             ],
             [
              0.8888888888888888,
              "#fdca26"
             ],
             [
              1,
              "#f0f921"
             ]
            ],
            "type": "contour"
           }
          ],
          "contourcarpet": [
           {
            "colorbar": {
             "outlinewidth": 0,
             "ticks": ""
            },
            "type": "contourcarpet"
           }
          ],
          "heatmap": [
           {
            "colorbar": {
             "outlinewidth": 0,
             "ticks": ""
            },
            "colorscale": [
             [
              0,
              "#0d0887"
             ],
             [
              0.1111111111111111,
              "#46039f"
             ],
             [
              0.2222222222222222,
              "#7201a8"
             ],
             [
              0.3333333333333333,
              "#9c179e"
             ],
             [
              0.4444444444444444,
              "#bd3786"
             ],
             [
              0.5555555555555556,
              "#d8576b"
             ],
             [
              0.6666666666666666,
              "#ed7953"
             ],
             [
              0.7777777777777778,
              "#fb9f3a"
             ],
             [
              0.8888888888888888,
              "#fdca26"
             ],
             [
              1,
              "#f0f921"
             ]
            ],
            "type": "heatmap"
           }
          ],
          "heatmapgl": [
           {
            "colorbar": {
             "outlinewidth": 0,
             "ticks": ""
            },
            "colorscale": [
             [
              0,
              "#0d0887"
             ],
             [
              0.1111111111111111,
              "#46039f"
             ],
             [
              0.2222222222222222,
              "#7201a8"
             ],
             [
              0.3333333333333333,
              "#9c179e"
             ],
             [
              0.4444444444444444,
              "#bd3786"
             ],
             [
              0.5555555555555556,
              "#d8576b"
             ],
             [
              0.6666666666666666,
              "#ed7953"
             ],
             [
              0.7777777777777778,
              "#fb9f3a"
             ],
             [
              0.8888888888888888,
              "#fdca26"
             ],
             [
              1,
              "#f0f921"
             ]
            ],
            "type": "heatmapgl"
           }
          ],
          "histogram": [
           {
            "marker": {
             "pattern": {
              "fillmode": "overlay",
              "size": 10,
              "solidity": 0.2
             }
            },
            "type": "histogram"
           }
          ],
          "histogram2d": [
           {
            "colorbar": {
             "outlinewidth": 0,
             "ticks": ""
            },
            "colorscale": [
             [
              0,
              "#0d0887"
             ],
             [
              0.1111111111111111,
              "#46039f"
             ],
             [
              0.2222222222222222,
              "#7201a8"
             ],
             [
              0.3333333333333333,
              "#9c179e"
             ],
             [
              0.4444444444444444,
              "#bd3786"
             ],
             [
              0.5555555555555556,
              "#d8576b"
             ],
             [
              0.6666666666666666,
              "#ed7953"
             ],
             [
              0.7777777777777778,
              "#fb9f3a"
             ],
             [
              0.8888888888888888,
              "#fdca26"
             ],
             [
              1,
              "#f0f921"
             ]
            ],
            "type": "histogram2d"
           }
          ],
          "histogram2dcontour": [
           {
            "colorbar": {
             "outlinewidth": 0,
             "ticks": ""
            },
            "colorscale": [
             [
              0,
              "#0d0887"
             ],
             [
              0.1111111111111111,
              "#46039f"
             ],
             [
              0.2222222222222222,
              "#7201a8"
             ],
             [
              0.3333333333333333,
              "#9c179e"
             ],
             [
              0.4444444444444444,
              "#bd3786"
             ],
             [
              0.5555555555555556,
              "#d8576b"
             ],
             [
              0.6666666666666666,
              "#ed7953"
             ],
             [
              0.7777777777777778,
              "#fb9f3a"
             ],
             [
              0.8888888888888888,
              "#fdca26"
             ],
             [
              1,
              "#f0f921"
             ]
            ],
            "type": "histogram2dcontour"
           }
          ],
          "mesh3d": [
           {
            "colorbar": {
             "outlinewidth": 0,
             "ticks": ""
            },
            "type": "mesh3d"
           }
          ],
          "parcoords": [
           {
            "line": {
             "colorbar": {
              "outlinewidth": 0,
              "ticks": ""
             }
            },
            "type": "parcoords"
           }
          ],
          "pie": [
           {
            "automargin": true,
            "type": "pie"
           }
          ],
          "scatter": [
           {
            "fillpattern": {
             "fillmode": "overlay",
             "size": 10,
             "solidity": 0.2
            },
            "type": "scatter"
           }
          ],
          "scatter3d": [
           {
            "line": {
             "colorbar": {
              "outlinewidth": 0,
              "ticks": ""
             }
            },
            "marker": {
             "colorbar": {
              "outlinewidth": 0,
              "ticks": ""
             }
            },
            "type": "scatter3d"
           }
          ],
          "scattercarpet": [
           {
            "marker": {
             "colorbar": {
              "outlinewidth": 0,
              "ticks": ""
             }
            },
            "type": "scattercarpet"
           }
          ],
          "scattergeo": [
           {
            "marker": {
             "colorbar": {
              "outlinewidth": 0,
              "ticks": ""
             }
            },
            "type": "scattergeo"
           }
          ],
          "scattergl": [
           {
            "marker": {
             "colorbar": {
              "outlinewidth": 0,
              "ticks": ""
             }
            },
            "type": "scattergl"
           }
          ],
          "scattermapbox": [
           {
            "marker": {
             "colorbar": {
              "outlinewidth": 0,
              "ticks": ""
             }
            },
            "type": "scattermapbox"
           }
          ],
          "scatterpolar": [
           {
            "marker": {
             "colorbar": {
              "outlinewidth": 0,
              "ticks": ""
             }
            },
            "type": "scatterpolar"
           }
          ],
          "scatterpolargl": [
           {
            "marker": {
             "colorbar": {
              "outlinewidth": 0,
              "ticks": ""
             }
            },
            "type": "scatterpolargl"
           }
          ],
          "scatterternary": [
           {
            "marker": {
             "colorbar": {
              "outlinewidth": 0,
              "ticks": ""
             }
            },
            "type": "scatterternary"
           }
          ],
          "surface": [
           {
            "colorbar": {
             "outlinewidth": 0,
             "ticks": ""
            },
            "colorscale": [
             [
              0,
              "#0d0887"
             ],
             [
              0.1111111111111111,
              "#46039f"
             ],
             [
              0.2222222222222222,
              "#7201a8"
             ],
             [
              0.3333333333333333,
              "#9c179e"
             ],
             [
              0.4444444444444444,
              "#bd3786"
             ],
             [
              0.5555555555555556,
              "#d8576b"
             ],
             [
              0.6666666666666666,
              "#ed7953"
             ],
             [
              0.7777777777777778,
              "#fb9f3a"
             ],
             [
              0.8888888888888888,
              "#fdca26"
             ],
             [
              1,
              "#f0f921"
             ]
            ],
            "type": "surface"
           }
          ],
          "table": [
           {
            "cells": {
             "fill": {
              "color": "#EBF0F8"
             },
             "line": {
              "color": "white"
             }
            },
            "header": {
             "fill": {
              "color": "#C8D4E3"
             },
             "line": {
              "color": "white"
             }
            },
            "type": "table"
           }
          ]
         },
         "layout": {
          "annotationdefaults": {
           "arrowcolor": "#2a3f5f",
           "arrowhead": 0,
           "arrowwidth": 1
          },
          "autotypenumbers": "strict",
          "coloraxis": {
           "colorbar": {
            "outlinewidth": 0,
            "ticks": ""
           }
          },
          "colorscale": {
           "diverging": [
            [
             0,
             "#8e0152"
            ],
            [
             0.1,
             "#c51b7d"
            ],
            [
             0.2,
             "#de77ae"
            ],
            [
             0.3,
             "#f1b6da"
            ],
            [
             0.4,
             "#fde0ef"
            ],
            [
             0.5,
             "#f7f7f7"
            ],
            [
             0.6,
             "#e6f5d0"
            ],
            [
             0.7,
             "#b8e186"
            ],
            [
             0.8,
             "#7fbc41"
            ],
            [
             0.9,
             "#4d9221"
            ],
            [
             1,
             "#276419"
            ]
           ],
           "sequential": [
            [
             0,
             "#0d0887"
            ],
            [
             0.1111111111111111,
             "#46039f"
            ],
            [
             0.2222222222222222,
             "#7201a8"
            ],
            [
             0.3333333333333333,
             "#9c179e"
            ],
            [
             0.4444444444444444,
             "#bd3786"
            ],
            [
             0.5555555555555556,
             "#d8576b"
            ],
            [
             0.6666666666666666,
             "#ed7953"
            ],
            [
             0.7777777777777778,
             "#fb9f3a"
            ],
            [
             0.8888888888888888,
             "#fdca26"
            ],
            [
             1,
             "#f0f921"
            ]
           ],
           "sequentialminus": [
            [
             0,
             "#0d0887"
            ],
            [
             0.1111111111111111,
             "#46039f"
            ],
            [
             0.2222222222222222,
             "#7201a8"
            ],
            [
             0.3333333333333333,
             "#9c179e"
            ],
            [
             0.4444444444444444,
             "#bd3786"
            ],
            [
             0.5555555555555556,
             "#d8576b"
            ],
            [
             0.6666666666666666,
             "#ed7953"
            ],
            [
             0.7777777777777778,
             "#fb9f3a"
            ],
            [
             0.8888888888888888,
             "#fdca26"
            ],
            [
             1,
             "#f0f921"
            ]
           ]
          },
          "colorway": [
           "#636efa",
           "#EF553B",
           "#00cc96",
           "#ab63fa",
           "#FFA15A",
           "#19d3f3",
           "#FF6692",
           "#B6E880",
           "#FF97FF",
           "#FECB52"
          ],
          "font": {
           "color": "#2a3f5f"
          },
          "geo": {
           "bgcolor": "white",
           "lakecolor": "white",
           "landcolor": "#E5ECF6",
           "showlakes": true,
           "showland": true,
           "subunitcolor": "white"
          },
          "hoverlabel": {
           "align": "left"
          },
          "hovermode": "closest",
          "mapbox": {
           "style": "light"
          },
          "paper_bgcolor": "white",
          "plot_bgcolor": "#E5ECF6",
          "polar": {
           "angularaxis": {
            "gridcolor": "white",
            "linecolor": "white",
            "ticks": ""
           },
           "bgcolor": "#E5ECF6",
           "radialaxis": {
            "gridcolor": "white",
            "linecolor": "white",
            "ticks": ""
           }
          },
          "scene": {
           "xaxis": {
            "backgroundcolor": "#E5ECF6",
            "gridcolor": "white",
            "gridwidth": 2,
            "linecolor": "white",
            "showbackground": true,
            "ticks": "",
            "zerolinecolor": "white"
           },
           "yaxis": {
            "backgroundcolor": "#E5ECF6",
            "gridcolor": "white",
            "gridwidth": 2,
            "linecolor": "white",
            "showbackground": true,
            "ticks": "",
            "zerolinecolor": "white"
           },
           "zaxis": {
            "backgroundcolor": "#E5ECF6",
            "gridcolor": "white",
            "gridwidth": 2,
            "linecolor": "white",
            "showbackground": true,
            "ticks": "",
            "zerolinecolor": "white"
           }
          },
          "shapedefaults": {
           "line": {
            "color": "#2a3f5f"
           }
          },
          "ternary": {
           "aaxis": {
            "gridcolor": "white",
            "linecolor": "white",
            "ticks": ""
           },
           "baxis": {
            "gridcolor": "white",
            "linecolor": "white",
            "ticks": ""
           },
           "bgcolor": "#E5ECF6",
           "caxis": {
            "gridcolor": "white",
            "linecolor": "white",
            "ticks": ""
           }
          },
          "title": {
           "x": 0.05
          },
          "xaxis": {
           "automargin": true,
           "gridcolor": "white",
           "linecolor": "white",
           "ticks": "",
           "title": {
            "standoff": 15
           },
           "zerolinecolor": "white",
           "zerolinewidth": 2
          },
          "yaxis": {
           "automargin": true,
           "gridcolor": "white",
           "linecolor": "white",
           "ticks": "",
           "title": {
            "standoff": 15
           },
           "zerolinecolor": "white",
           "zerolinewidth": 2
          }
         }
        },
        "title": {
         "text": "UNI token volume USD (CEX) on Binance"
        },
        "xaxis": {
         "anchor": "y",
         "domain": [
          0,
          1
         ],
         "title": {
          "text": "openTime"
         }
        },
        "yaxis": {
         "anchor": "x",
         "domain": [
          0,
          1
         ],
         "title": {
          "text": "value"
         }
        }
       }
      },
      "text/html": [
       "<div>                            <div id=\"c525ebce-cf2e-4740-8676-5e8c1e0cc519\" class=\"plotly-graph-div\" style=\"height:525px; width:100%;\"></div>            <script type=\"text/javascript\">                require([\"plotly\"], function(Plotly) {                    window.PLOTLYENV=window.PLOTLYENV || {};                                    if (document.getElementById(\"c525ebce-cf2e-4740-8676-5e8c1e0cc519\")) {                    Plotly.newPlot(                        \"c525ebce-cf2e-4740-8676-5e8c1e0cc519\",                        [{\"hovertemplate\":\"variable=volume<br>openTime=%{x}<br>value=%{y}<extra></extra>\",\"legendgroup\":\"volume\",\"line\":{\"color\":\"#636efa\",\"dash\":\"solid\"},\"marker\":{\"symbol\":\"circle\"},\"mode\":\"lines\",\"name\":\"volume\",\"orientation\":\"v\",\"showlegend\":true,\"x\":[\"2021-05-04T00:00:00\",\"2021-05-05T00:00:00\",\"2021-05-06T00:00:00\",\"2021-05-07T00:00:00\",\"2021-05-08T00:00:00\",\"2021-05-09T00:00:00\",\"2021-05-10T00:00:00\",\"2021-05-11T00:00:00\",\"2021-05-12T00:00:00\",\"2021-05-13T00:00:00\",\"2021-05-14T00:00:00\",\"2021-05-15T00:00:00\",\"2021-05-16T00:00:00\",\"2021-05-17T00:00:00\",\"2021-05-18T00:00:00\",\"2021-05-19T00:00:00\",\"2021-05-20T00:00:00\",\"2021-05-21T00:00:00\",\"2021-05-22T00:00:00\",\"2021-05-23T00:00:00\",\"2021-05-24T00:00:00\",\"2021-05-25T00:00:00\",\"2021-05-26T00:00:00\",\"2021-05-27T00:00:00\",\"2021-05-28T00:00:00\",\"2021-05-29T00:00:00\",\"2021-05-30T00:00:00\",\"2021-05-31T00:00:00\",\"2021-06-01T00:00:00\",\"2021-06-02T00:00:00\",\"2021-06-03T00:00:00\",\"2021-06-04T00:00:00\",\"2021-06-05T00:00:00\",\"2021-06-06T00:00:00\",\"2021-06-07T00:00:00\",\"2021-06-08T00:00:00\",\"2021-06-09T00:00:00\",\"2021-06-10T00:00:00\",\"2021-06-11T00:00:00\",\"2021-06-12T00:00:00\",\"2021-06-13T00:00:00\",\"2021-06-14T00:00:00\",\"2021-06-15T00:00:00\",\"2021-06-16T00:00:00\",\"2021-06-17T00:00:00\",\"2021-06-18T00:00:00\",\"2021-06-19T00:00:00\",\"2021-06-20T00:00:00\",\"2021-06-21T00:00:00\",\"2021-06-22T00:00:00\",\"2021-06-23T00:00:00\",\"2021-06-24T00:00:00\",\"2021-06-25T00:00:00\",\"2021-06-26T00:00:00\",\"2021-06-27T00:00:00\",\"2021-06-28T00:00:00\",\"2021-06-29T00:00:00\",\"2021-06-30T00:00:00\",\"2021-07-01T00:00:00\",\"2021-07-02T00:00:00\",\"2021-07-03T00:00:00\",\"2021-07-04T00:00:00\",\"2021-07-05T00:00:00\",\"2021-07-06T00:00:00\",\"2021-07-07T00:00:00\",\"2021-07-08T00:00:00\",\"2021-07-09T00:00:00\",\"2021-07-10T00:00:00\",\"2021-07-11T00:00:00\",\"2021-07-12T00:00:00\",\"2021-07-13T00:00:00\",\"2021-07-14T00:00:00\",\"2021-07-15T00:00:00\",\"2021-07-16T00:00:00\",\"2021-07-17T00:00:00\",\"2021-07-18T00:00:00\",\"2021-07-19T00:00:00\",\"2021-07-20T00:00:00\",\"2021-07-21T00:00:00\",\"2021-07-22T00:00:00\",\"2021-07-23T00:00:00\",\"2021-07-24T00:00:00\",\"2021-07-25T00:00:00\",\"2021-07-26T00:00:00\",\"2021-07-27T00:00:00\",\"2021-07-28T00:00:00\",\"2021-07-29T00:00:00\",\"2021-07-30T00:00:00\",\"2021-07-31T00:00:00\",\"2021-08-01T00:00:00\",\"2021-08-02T00:00:00\",\"2021-08-03T00:00:00\",\"2021-08-04T00:00:00\",\"2021-08-05T00:00:00\",\"2021-08-06T00:00:00\",\"2021-08-07T00:00:00\",\"2021-08-08T00:00:00\",\"2021-08-09T00:00:00\",\"2021-08-10T00:00:00\",\"2021-08-11T00:00:00\"],\"xaxis\":\"x\",\"y\":[18375985.0,14579997.0,11273009.0,10247253.0,7149299.0,6504321.0,12209814.0,5863406.0,17114684.0,11607221.0,5623089.0,6389222.0,5801513.0,8590874.0,7513300.0,24390442.0,16669856.0,14504773.0,10931801.0,25776282.0,18096359.0,16371014.0,8766631.0,9912768.0,12344672.0,10244471.0,9814720.0,12075393.0,6949131.0,5338120.0,5703539.0,6886650.0,6270310.0,4281660.0,6339359.0,10262999.0,9209748.0,6421461.0,5709488.0,6286510.0,6212682.0,5315030.0,3629877.0,4463130.0,3994524.0,5990971.0,3843226.0,5585016.0,12954760.0,17788964.0,9747376.0,7369481.0,8635103.0,7033708.0,5547530.0,5918341.0,5975768.0,6053399.0,5940863.0,5480965.0,4817910.0,9292932.0,8768279.0,14688400.0,7789343.0,9037284.0,7643491.0,4955942.0,4910734.0,6523185.0,7711840.0,11413897.0,7759983.0,7560083.0,7730494.0,7647793.0,10793840.0,10435188.0,12640790.0,8881516.0,8325699.0,7624646.0,6723001.0,13409758.0,8544716.0,8305815.0,7396005.0,11946902.0,6812938.0,11136066.0,8735490.0,8792260.0,9431427.0,13161173.0,9641456.0,13059991.0,9327687.0,9455182.0,10948250.0,9131045.0],\"yaxis\":\"y\",\"type\":\"scatter\"}],                        {\"template\":{\"data\":{\"histogram2dcontour\":[{\"type\":\"histogram2dcontour\",\"colorbar\":{\"outlinewidth\":0,\"ticks\":\"\"},\"colorscale\":[[0.0,\"#0d0887\"],[0.1111111111111111,\"#46039f\"],[0.2222222222222222,\"#7201a8\"],[0.3333333333333333,\"#9c179e\"],[0.4444444444444444,\"#bd3786\"],[0.5555555555555556,\"#d8576b\"],[0.6666666666666666,\"#ed7953\"],[0.7777777777777778,\"#fb9f3a\"],[0.8888888888888888,\"#fdca26\"],[1.0,\"#f0f921\"]]}],\"choropleth\":[{\"type\":\"choropleth\",\"colorbar\":{\"outlinewidth\":0,\"ticks\":\"\"}}],\"histogram2d\":[{\"type\":\"histogram2d\",\"colorbar\":{\"outlinewidth\":0,\"ticks\":\"\"},\"colorscale\":[[0.0,\"#0d0887\"],[0.1111111111111111,\"#46039f\"],[0.2222222222222222,\"#7201a8\"],[0.3333333333333333,\"#9c179e\"],[0.4444444444444444,\"#bd3786\"],[0.5555555555555556,\"#d8576b\"],[0.6666666666666666,\"#ed7953\"],[0.7777777777777778,\"#fb9f3a\"],[0.8888888888888888,\"#fdca26\"],[1.0,\"#f0f921\"]]}],\"heatmap\":[{\"type\":\"heatmap\",\"colorbar\":{\"outlinewidth\":0,\"ticks\":\"\"},\"colorscale\":[[0.0,\"#0d0887\"],[0.1111111111111111,\"#46039f\"],[0.2222222222222222,\"#7201a8\"],[0.3333333333333333,\"#9c179e\"],[0.4444444444444444,\"#bd3786\"],[0.5555555555555556,\"#d8576b\"],[0.6666666666666666,\"#ed7953\"],[0.7777777777777778,\"#fb9f3a\"],[0.8888888888888888,\"#fdca26\"],[1.0,\"#f0f921\"]]}],\"heatmapgl\":[{\"type\":\"heatmapgl\",\"colorbar\":{\"outlinewidth\":0,\"ticks\":\"\"},\"colorscale\":[[0.0,\"#0d0887\"],[0.1111111111111111,\"#46039f\"],[0.2222222222222222,\"#7201a8\"],[0.3333333333333333,\"#9c179e\"],[0.4444444444444444,\"#bd3786\"],[0.5555555555555556,\"#d8576b\"],[0.6666666666666666,\"#ed7953\"],[0.7777777777777778,\"#fb9f3a\"],[0.8888888888888888,\"#fdca26\"],[1.0,\"#f0f921\"]]}],\"contourcarpet\":[{\"type\":\"contourcarpet\",\"colorbar\":{\"outlinewidth\":0,\"ticks\":\"\"}}],\"contour\":[{\"type\":\"contour\",\"colorbar\":{\"outlinewidth\":0,\"ticks\":\"\"},\"colorscale\":[[0.0,\"#0d0887\"],[0.1111111111111111,\"#46039f\"],[0.2222222222222222,\"#7201a8\"],[0.3333333333333333,\"#9c179e\"],[0.4444444444444444,\"#bd3786\"],[0.5555555555555556,\"#d8576b\"],[0.6666666666666666,\"#ed7953\"],[0.7777777777777778,\"#fb9f3a\"],[0.8888888888888888,\"#fdca26\"],[1.0,\"#f0f921\"]]}],\"surface\":[{\"type\":\"surface\",\"colorbar\":{\"outlinewidth\":0,\"ticks\":\"\"},\"colorscale\":[[0.0,\"#0d0887\"],[0.1111111111111111,\"#46039f\"],[0.2222222222222222,\"#7201a8\"],[0.3333333333333333,\"#9c179e\"],[0.4444444444444444,\"#bd3786\"],[0.5555555555555556,\"#d8576b\"],[0.6666666666666666,\"#ed7953\"],[0.7777777777777778,\"#fb9f3a\"],[0.8888888888888888,\"#fdca26\"],[1.0,\"#f0f921\"]]}],\"mesh3d\":[{\"type\":\"mesh3d\",\"colorbar\":{\"outlinewidth\":0,\"ticks\":\"\"}}],\"scatter\":[{\"fillpattern\":{\"fillmode\":\"overlay\",\"size\":10,\"solidity\":0.2},\"type\":\"scatter\"}],\"parcoords\":[{\"type\":\"parcoords\",\"line\":{\"colorbar\":{\"outlinewidth\":0,\"ticks\":\"\"}}}],\"scatterpolargl\":[{\"type\":\"scatterpolargl\",\"marker\":{\"colorbar\":{\"outlinewidth\":0,\"ticks\":\"\"}}}],\"bar\":[{\"error_x\":{\"color\":\"#2a3f5f\"},\"error_y\":{\"color\":\"#2a3f5f\"},\"marker\":{\"line\":{\"color\":\"#E5ECF6\",\"width\":0.5},\"pattern\":{\"fillmode\":\"overlay\",\"size\":10,\"solidity\":0.2}},\"type\":\"bar\"}],\"scattergeo\":[{\"type\":\"scattergeo\",\"marker\":{\"colorbar\":{\"outlinewidth\":0,\"ticks\":\"\"}}}],\"scatterpolar\":[{\"type\":\"scatterpolar\",\"marker\":{\"colorbar\":{\"outlinewidth\":0,\"ticks\":\"\"}}}],\"histogram\":[{\"marker\":{\"pattern\":{\"fillmode\":\"overlay\",\"size\":10,\"solidity\":0.2}},\"type\":\"histogram\"}],\"scattergl\":[{\"type\":\"scattergl\",\"marker\":{\"colorbar\":{\"outlinewidth\":0,\"ticks\":\"\"}}}],\"scatter3d\":[{\"type\":\"scatter3d\",\"line\":{\"colorbar\":{\"outlinewidth\":0,\"ticks\":\"\"}},\"marker\":{\"colorbar\":{\"outlinewidth\":0,\"ticks\":\"\"}}}],\"scattermapbox\":[{\"type\":\"scattermapbox\",\"marker\":{\"colorbar\":{\"outlinewidth\":0,\"ticks\":\"\"}}}],\"scatterternary\":[{\"type\":\"scatterternary\",\"marker\":{\"colorbar\":{\"outlinewidth\":0,\"ticks\":\"\"}}}],\"scattercarpet\":[{\"type\":\"scattercarpet\",\"marker\":{\"colorbar\":{\"outlinewidth\":0,\"ticks\":\"\"}}}],\"carpet\":[{\"aaxis\":{\"endlinecolor\":\"#2a3f5f\",\"gridcolor\":\"white\",\"linecolor\":\"white\",\"minorgridcolor\":\"white\",\"startlinecolor\":\"#2a3f5f\"},\"baxis\":{\"endlinecolor\":\"#2a3f5f\",\"gridcolor\":\"white\",\"linecolor\":\"white\",\"minorgridcolor\":\"white\",\"startlinecolor\":\"#2a3f5f\"},\"type\":\"carpet\"}],\"table\":[{\"cells\":{\"fill\":{\"color\":\"#EBF0F8\"},\"line\":{\"color\":\"white\"}},\"header\":{\"fill\":{\"color\":\"#C8D4E3\"},\"line\":{\"color\":\"white\"}},\"type\":\"table\"}],\"barpolar\":[{\"marker\":{\"line\":{\"color\":\"#E5ECF6\",\"width\":0.5},\"pattern\":{\"fillmode\":\"overlay\",\"size\":10,\"solidity\":0.2}},\"type\":\"barpolar\"}],\"pie\":[{\"automargin\":true,\"type\":\"pie\"}]},\"layout\":{\"autotypenumbers\":\"strict\",\"colorway\":[\"#636efa\",\"#EF553B\",\"#00cc96\",\"#ab63fa\",\"#FFA15A\",\"#19d3f3\",\"#FF6692\",\"#B6E880\",\"#FF97FF\",\"#FECB52\"],\"font\":{\"color\":\"#2a3f5f\"},\"hovermode\":\"closest\",\"hoverlabel\":{\"align\":\"left\"},\"paper_bgcolor\":\"white\",\"plot_bgcolor\":\"#E5ECF6\",\"polar\":{\"bgcolor\":\"#E5ECF6\",\"angularaxis\":{\"gridcolor\":\"white\",\"linecolor\":\"white\",\"ticks\":\"\"},\"radialaxis\":{\"gridcolor\":\"white\",\"linecolor\":\"white\",\"ticks\":\"\"}},\"ternary\":{\"bgcolor\":\"#E5ECF6\",\"aaxis\":{\"gridcolor\":\"white\",\"linecolor\":\"white\",\"ticks\":\"\"},\"baxis\":{\"gridcolor\":\"white\",\"linecolor\":\"white\",\"ticks\":\"\"},\"caxis\":{\"gridcolor\":\"white\",\"linecolor\":\"white\",\"ticks\":\"\"}},\"coloraxis\":{\"colorbar\":{\"outlinewidth\":0,\"ticks\":\"\"}},\"colorscale\":{\"sequential\":[[0.0,\"#0d0887\"],[0.1111111111111111,\"#46039f\"],[0.2222222222222222,\"#7201a8\"],[0.3333333333333333,\"#9c179e\"],[0.4444444444444444,\"#bd3786\"],[0.5555555555555556,\"#d8576b\"],[0.6666666666666666,\"#ed7953\"],[0.7777777777777778,\"#fb9f3a\"],[0.8888888888888888,\"#fdca26\"],[1.0,\"#f0f921\"]],\"sequentialminus\":[[0.0,\"#0d0887\"],[0.1111111111111111,\"#46039f\"],[0.2222222222222222,\"#7201a8\"],[0.3333333333333333,\"#9c179e\"],[0.4444444444444444,\"#bd3786\"],[0.5555555555555556,\"#d8576b\"],[0.6666666666666666,\"#ed7953\"],[0.7777777777777778,\"#fb9f3a\"],[0.8888888888888888,\"#fdca26\"],[1.0,\"#f0f921\"]],\"diverging\":[[0,\"#8e0152\"],[0.1,\"#c51b7d\"],[0.2,\"#de77ae\"],[0.3,\"#f1b6da\"],[0.4,\"#fde0ef\"],[0.5,\"#f7f7f7\"],[0.6,\"#e6f5d0\"],[0.7,\"#b8e186\"],[0.8,\"#7fbc41\"],[0.9,\"#4d9221\"],[1,\"#276419\"]]},\"xaxis\":{\"gridcolor\":\"white\",\"linecolor\":\"white\",\"ticks\":\"\",\"title\":{\"standoff\":15},\"zerolinecolor\":\"white\",\"automargin\":true,\"zerolinewidth\":2},\"yaxis\":{\"gridcolor\":\"white\",\"linecolor\":\"white\",\"ticks\":\"\",\"title\":{\"standoff\":15},\"zerolinecolor\":\"white\",\"automargin\":true,\"zerolinewidth\":2},\"scene\":{\"xaxis\":{\"backgroundcolor\":\"#E5ECF6\",\"gridcolor\":\"white\",\"linecolor\":\"white\",\"showbackground\":true,\"ticks\":\"\",\"zerolinecolor\":\"white\",\"gridwidth\":2},\"yaxis\":{\"backgroundcolor\":\"#E5ECF6\",\"gridcolor\":\"white\",\"linecolor\":\"white\",\"showbackground\":true,\"ticks\":\"\",\"zerolinecolor\":\"white\",\"gridwidth\":2},\"zaxis\":{\"backgroundcolor\":\"#E5ECF6\",\"gridcolor\":\"white\",\"linecolor\":\"white\",\"showbackground\":true,\"ticks\":\"\",\"zerolinecolor\":\"white\",\"gridwidth\":2}},\"shapedefaults\":{\"line\":{\"color\":\"#2a3f5f\"}},\"annotationdefaults\":{\"arrowcolor\":\"#2a3f5f\",\"arrowhead\":0,\"arrowwidth\":1},\"geo\":{\"bgcolor\":\"white\",\"landcolor\":\"#E5ECF6\",\"subunitcolor\":\"white\",\"showland\":true,\"showlakes\":true,\"lakecolor\":\"white\"},\"title\":{\"x\":0.05},\"mapbox\":{\"style\":\"light\"}}},\"xaxis\":{\"anchor\":\"y\",\"domain\":[0.0,1.0],\"title\":{\"text\":\"openTime\"}},\"yaxis\":{\"anchor\":\"x\",\"domain\":[0.0,1.0],\"title\":{\"text\":\"value\"}},\"legend\":{\"title\":{\"text\":\"variable\"},\"tracegroupgap\":0},\"title\":{\"text\":\"UNI token volume USD (CEX) on Binance\"}},                        {\"responsive\": true}                    ).then(function(){\n",
       "                            \n",
       "var gd = document.getElementById('c525ebce-cf2e-4740-8676-5e8c1e0cc519');\n",
       "var x = new MutationObserver(function (mutations, observer) {{\n",
       "        var display = window.getComputedStyle(gd).display;\n",
       "        if (!display || display === 'none') {{\n",
       "            console.log([gd, 'removed!']);\n",
       "            Plotly.purge(gd);\n",
       "            observer.disconnect();\n",
       "        }}\n",
       "}});\n",
       "\n",
       "// Listen for the removal of the full notebook cells\n",
       "var notebookContainer = gd.closest('#notebook-container');\n",
       "if (notebookContainer) {{\n",
       "    x.observe(notebookContainer, {childList: true});\n",
       "}}\n",
       "\n",
       "// Listen for the clearing of the current output cell\n",
       "var outputEl = gd.closest('.output');\n",
       "if (outputEl) {{\n",
       "    x.observe(outputEl, {childList: true});\n",
       "}}\n",
       "\n",
       "                        })                };                });            </script>        </div>"
      ]
     },
     "metadata": {},
     "output_type": "display_data"
    }
   ],
   "source": [
    "df_token['volume'] = df_token['volume'].astype(float)\n",
    "px.line(df_token.sort_values('openTime'), x = 'openTime', y = ['volume'], title=\"UNI token volume USD (CEX) on Binance\")"
   ]
  },
  {
   "cell_type": "markdown",
   "metadata": {},
   "source": [
    "<strong>Uniswap V3 connector</strong>"
   ]
  },
  {
   "cell_type": "code",
   "execution_count": 48,
   "metadata": {},
   "outputs": [],
   "source": [
    "import time\n",
    "\n",
    "from abc import ABC, abstractmethod\n",
    "from dataclasses import dataclass\n",
    "\n",
    "@dataclass\n",
    "class Token:\n",
    "    address: str\n",
    "    decimals: str\n",
    "    symbol: str\n",
    "    chain: str #его сеть\n",
    "        \n",
    "#зададим функцию = по символу будем получать токен = структуру class Token\n",
    "def symbol_to_token(symbol: str) -> Token:\n",
    "    tokens = {\n",
    "                'BUSD': Token('0xe9e7CEA3DedcA5984780Bafc599bD69ADd087D56', 18, 'BUSD', 'bsc'),\n",
    "                'USDT': Token('0x55d398326f99059fF775485246999027B3197955', 18, 'BUSD', 'bsc'),\n",
    "             }\n",
    "    return tokens[symbol]"
   ]
  },
  {
   "cell_type": "code",
   "execution_count": 49,
   "metadata": {},
   "outputs": [],
   "source": [
    "\n",
    "class DexConnector(ABC):\n",
    "    def __init__(self, wallet_address: str, private_key: str, node: str, **kwargs):\n",
    "        self.private_key = private_key\n",
    "        self.wallet_address = wallet_address\n",
    "    def _make_transaction(self, transaction, **kwargs):\n",
    "        tx = transaction.buildTransaction({ 'nonce': self.w3.eth.getTransactionCount(self.wallet_address),\n",
    "                                            'gas': kwargs.get('gas', 2000000),\n",
    "                                            'gasPrice': int(5*kwargs.get('gasPrice', self.w3.eth.gasPrice + 1000000))\n",
    "                                         })\n",
    "        signed_tx = self.w3.eth.account.signTransaction(tx, private_key=self.private_key)\n",
    "        return self.w3.eth.sendRawTransaction(signed_tx.rawTransaction)\n",
    "    \n",
    "    @abstractmethod\n",
    "    def make_market_order(self, ticker: str, side: str, quantity: float, **kwargs) -> dict:\n",
    "        raise NotImplementedError()\n",
    "                                                        \n",
    "    @abstractmethod\n",
    "    def get_price(self, ticker: str, **kwargs) -> float:\n",
    "        raise NotImplementedError()"
   ]
  },
  {
   "cell_type": "code",
   "execution_count": 50,
   "metadata": {},
   "outputs": [],
   "source": [
    "class UniswapV3Connector(DexConnector):\n",
    "    # UniV3 ABI\n",
    "    ABI = '[{\"inputs\":[{\"internalType\":\"address\",\"name\":\"_factory\",\"type\":\"address\"},{\"internalType\":\"address\",\"name\":\"_WETH9\",\"type\":\"address\"}],\"stateMutability\":\"nonpayable\",\"type\":\"constructor\"},{\"inputs\":[],\"name\":\"WETH9\",\"outputs\":[{\"internalType\":\"address\",\"name\":\"\",\"type\":\"address\"}],\"stateMutability\":\"view\",\"type\":\"function\"},{\"inputs\":[{\"components\":[{\"internalType\":\"bytes\",\"name\":\"path\",\"type\":\"bytes\"},{\"internalType\":\"address\",\"name\":\"recipient\",\"type\":\"address\"},{\"internalType\":\"uint256\",\"name\":\"deadline\",\"type\":\"uint256\"},{\"internalType\":\"uint256\",\"name\":\"amountIn\",\"type\":\"uint256\"},{\"internalType\":\"uint256\",\"name\":\"amountOutMinimum\",\"type\":\"uint256\"}],\"internalType\":\"struct ISwapRouter.ExactInputParams\",\"name\":\"params\",\"type\":\"tuple\"}],\"name\":\"exactInput\",\"outputs\":[{\"internalType\":\"uint256\",\"name\":\"amountOut\",\"type\":\"uint256\"}],\"stateMutability\":\"payable\",\"type\":\"function\"},{\"inputs\":[{\"components\":[{\"internalType\":\"address\",\"name\":\"tokenIn\",\"type\":\"address\"},{\"internalType\":\"address\",\"name\":\"tokenOut\",\"type\":\"address\"},{\"internalType\":\"uint24\",\"name\":\"fee\",\"type\":\"uint24\"},{\"internalType\":\"address\",\"name\":\"recipient\",\"type\":\"address\"},{\"internalType\":\"uint256\",\"name\":\"deadline\",\"type\":\"uint256\"},{\"internalType\":\"uint256\",\"name\":\"amountIn\",\"type\":\"uint256\"},{\"internalType\":\"uint256\",\"name\":\"amountOutMinimum\",\"type\":\"uint256\"},{\"internalType\":\"uint160\",\"name\":\"sqrtPriceLimitX96\",\"type\":\"uint160\"}],\"internalType\":\"struct ISwapRouter.ExactInputSingleParams\",\"name\":\"params\",\"type\":\"tuple\"}],\"name\":\"exactInputSingle\",\"outputs\":[{\"internalType\":\"uint256\",\"name\":\"amountOut\",\"type\":\"uint256\"}],\"stateMutability\":\"payable\",\"type\":\"function\"},{\"inputs\":[{\"components\":[{\"internalType\":\"bytes\",\"name\":\"path\",\"type\":\"bytes\"},{\"internalType\":\"address\",\"name\":\"recipient\",\"type\":\"address\"},{\"internalType\":\"uint256\",\"name\":\"deadline\",\"type\":\"uint256\"},{\"internalType\":\"uint256\",\"name\":\"amountOut\",\"type\":\"uint256\"},{\"internalType\":\"uint256\",\"name\":\"amountInMaximum\",\"type\":\"uint256\"}],\"internalType\":\"struct ISwapRouter.ExactOutputParams\",\"name\":\"params\",\"type\":\"tuple\"}],\"name\":\"exactOutput\",\"outputs\":[{\"internalType\":\"uint256\",\"name\":\"amountIn\",\"type\":\"uint256\"}],\"stateMutability\":\"payable\",\"type\":\"function\"},{\"inputs\":[{\"components\":[{\"internalType\":\"address\",\"name\":\"tokenIn\",\"type\":\"address\"},{\"internalType\":\"address\",\"name\":\"tokenOut\",\"type\":\"address\"},{\"internalType\":\"uint24\",\"name\":\"fee\",\"type\":\"uint24\"},{\"internalType\":\"address\",\"name\":\"recipient\",\"type\":\"address\"},{\"internalType\":\"uint256\",\"name\":\"deadline\",\"type\":\"uint256\"},{\"internalType\":\"uint256\",\"name\":\"amountOut\",\"type\":\"uint256\"},{\"internalType\":\"uint256\",\"name\":\"amountInMaximum\",\"type\":\"uint256\"},{\"internalType\":\"uint160\",\"name\":\"sqrtPriceLimitX96\",\"type\":\"uint160\"}],\"internalType\":\"struct ISwapRouter.ExactOutputSingleParams\",\"name\":\"params\",\"type\":\"tuple\"}],\"name\":\"exactOutputSingle\",\"outputs\":[{\"internalType\":\"uint256\",\"name\":\"amountIn\",\"type\":\"uint256\"}],\"stateMutability\":\"payable\",\"type\":\"function\"},{\"inputs\":[],\"name\":\"factory\",\"outputs\":[{\"internalType\":\"address\",\"name\":\"\",\"type\":\"address\"}],\"stateMutability\":\"view\",\"type\":\"function\"},{\"inputs\":[{\"internalType\":\"bytes[]\",\"name\":\"data\",\"type\":\"bytes[]\"}],\"name\":\"multicall\",\"outputs\":[{\"internalType\":\"bytes[]\",\"name\":\"results\",\"type\":\"bytes[]\"}],\"stateMutability\":\"payable\",\"type\":\"function\"},{\"inputs\":[],\"name\":\"refundETH\",\"outputs\":[],\"stateMutability\":\"payable\",\"type\":\"function\"},{\"inputs\":[{\"internalType\":\"address\",\"name\":\"token\",\"type\":\"address\"},{\"internalType\":\"uint256\",\"name\":\"value\",\"type\":\"uint256\"},{\"internalType\":\"uint256\",\"name\":\"deadline\",\"type\":\"uint256\"},{\"internalType\":\"uint8\",\"name\":\"v\",\"type\":\"uint8\"},{\"internalType\":\"bytes32\",\"name\":\"r\",\"type\":\"bytes32\"},{\"internalType\":\"bytes32\",\"name\":\"s\",\"type\":\"bytes32\"}],\"name\":\"selfPermit\",\"outputs\":[],\"stateMutability\":\"payable\",\"type\":\"function\"},{\"inputs\":[{\"internalType\":\"address\",\"name\":\"token\",\"type\":\"address\"},{\"internalType\":\"uint256\",\"name\":\"nonce\",\"type\":\"uint256\"},{\"internalType\":\"uint256\",\"name\":\"expiry\",\"type\":\"uint256\"},{\"internalType\":\"uint8\",\"name\":\"v\",\"type\":\"uint8\"},{\"internalType\":\"bytes32\",\"name\":\"r\",\"type\":\"bytes32\"},{\"internalType\":\"bytes32\",\"name\":\"s\",\"type\":\"bytes32\"}],\"name\":\"selfPermitAllowed\",\"outputs\":[],\"stateMutability\":\"payable\",\"type\":\"function\"},{\"inputs\":[{\"internalType\":\"address\",\"name\":\"token\",\"type\":\"address\"},{\"internalType\":\"uint256\",\"name\":\"nonce\",\"type\":\"uint256\"},{\"internalType\":\"uint256\",\"name\":\"expiry\",\"type\":\"uint256\"},{\"internalType\":\"uint8\",\"name\":\"v\",\"type\":\"uint8\"},{\"internalType\":\"bytes32\",\"name\":\"r\",\"type\":\"bytes32\"},{\"internalType\":\"bytes32\",\"name\":\"s\",\"type\":\"bytes32\"}],\"name\":\"selfPermitAllowedIfNecessary\",\"outputs\":[],\"stateMutability\":\"payable\",\"type\":\"function\"},{\"inputs\":[{\"internalType\":\"address\",\"name\":\"token\",\"type\":\"address\"},{\"internalType\":\"uint256\",\"name\":\"value\",\"type\":\"uint256\"},{\"internalType\":\"uint256\",\"name\":\"deadline\",\"type\":\"uint256\"},{\"internalType\":\"uint8\",\"name\":\"v\",\"type\":\"uint8\"},{\"internalType\":\"bytes32\",\"name\":\"r\",\"type\":\"bytes32\"},{\"internalType\":\"bytes32\",\"name\":\"s\",\"type\":\"bytes32\"}],\"name\":\"selfPermitIfNecessary\",\"outputs\":[],\"stateMutability\":\"payable\",\"type\":\"function\"},{\"inputs\":[{\"internalType\":\"address\",\"name\":\"token\",\"type\":\"address\"},{\"internalType\":\"uint256\",\"name\":\"amountMinimum\",\"type\":\"uint256\"},{\"internalType\":\"address\",\"name\":\"recipient\",\"type\":\"address\"}],\"name\":\"sweepToken\",\"outputs\":[],\"stateMutability\":\"payable\",\"type\":\"function\"},{\"inputs\":[{\"internalType\":\"address\",\"name\":\"token\",\"type\":\"address\"},{\"internalType\":\"uint256\",\"name\":\"amountMinimum\",\"type\":\"uint256\"},{\"internalType\":\"address\",\"name\":\"recipient\",\"type\":\"address\"},{\"internalType\":\"uint256\",\"name\":\"feeBips\",\"type\":\"uint256\"},{\"internalType\":\"address\",\"name\":\"feeRecipient\",\"type\":\"address\"}],\"name\":\"sweepTokenWithFee\",\"outputs\":[],\"stateMutability\":\"payable\",\"type\":\"function\"},{\"inputs\":[{\"internalType\":\"int256\",\"name\":\"amount0Delta\",\"type\":\"int256\"},{\"internalType\":\"int256\",\"name\":\"amount1Delta\",\"type\":\"int256\"},{\"internalType\":\"bytes\",\"name\":\"_data\",\"type\":\"bytes\"}],\"name\":\"uniswapV3SwapCallback\",\"outputs\":[],\"stateMutability\":\"nonpayable\",\"type\":\"function\"},{\"inputs\":[{\"internalType\":\"uint256\",\"name\":\"amountMinimum\",\"type\":\"uint256\"},{\"internalType\":\"address\",\"name\":\"recipient\",\"type\":\"address\"}],\"name\":\"unwrapWETH9\",\"outputs\":[],\"stateMutability\":\"payable\",\"type\":\"function\"},{\"inputs\":[{\"internalType\":\"uint256\",\"name\":\"amountMinimum\",\"type\":\"uint256\"},{\"internalType\":\"address\",\"name\":\"recipient\",\"type\":\"address\"},{\"internalType\":\"uint256\",\"name\":\"feeBips\",\"type\":\"uint256\"},{\"internalType\":\"address\",\"name\":\"feeRecipient\",\"type\":\"address\"}],\"name\":\"unwrapWETH9WithFee\",\"outputs\":[],\"stateMutability\":\"payable\",\"type\":\"function\"},{\"stateMutability\":\"payable\",\"type\":\"receive\"}]'\n",
    "\n",
    "    \n",
    "    #self_in The mapping containing all user positions\n",
    "    #owner The address of the position owner\n",
    "    #tickLower The lower tick boundary of the position\n",
    "    #tickUpper The upper tick boundary of the position\n",
    "    def get_position(self,self_in: dict, owner: str, tickLower: int, tickUpper: int) -> struct Position.Info:\n",
    "        position = self.contract.functions.get(self_in, owner, tickLower, tickUpper)\n",
    "        return position\n",
    "            \n"
   ]
  },
  {
   "cell_type": "code",
   "execution_count": null,
   "metadata": {},
   "outputs": [],
   "source": []
  },
  {
   "cell_type": "code",
   "execution_count": null,
   "metadata": {},
   "outputs": [],
   "source": []
  },
  {
   "cell_type": "code",
   "execution_count": null,
   "metadata": {},
   "outputs": [],
   "source": []
  }
 ],
 "metadata": {
  "kernelspec": {
   "display_name": "Python 3",
   "language": "python",
   "name": "python3"
  },
  "language_info": {
   "codemirror_mode": {
    "name": "ipython",
    "version": 3
   },
   "file_extension": ".py",
   "mimetype": "text/x-python",
   "name": "python",
   "nbconvert_exporter": "python",
   "pygments_lexer": "ipython3",
   "version": "3.8.5"
  }
 },
 "nbformat": 4,
 "nbformat_minor": 4
}
